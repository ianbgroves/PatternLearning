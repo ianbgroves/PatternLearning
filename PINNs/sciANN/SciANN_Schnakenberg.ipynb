{
  "cells": [
    {
      "cell_type": "code",
      "source": [
        "pip install sciann"
      ],
      "metadata": {
        "colab": {
          "base_uri": "https://localhost:8080/"
        },
        "id": "U9cHngewgUdF",
        "outputId": "f1e6e969-da77-4938-c5d6-325859a5a8c1"
      },
      "execution_count": null,
      "outputs": [
        {
          "output_type": "stream",
          "name": "stdout",
          "text": [
            "Collecting sciann\n",
            "  Downloading SciANN-0.7.0.1-py3-none-any.whl (169 kB)\n",
            "\u001b[2K     \u001b[90m━━━━━━━━━━━━━━━━━━━━━━━━━━━━━━━━━━━━━━\u001b[0m \u001b[32m169.6/169.6 kB\u001b[0m \u001b[31m12.0 MB/s\u001b[0m eta \u001b[36m0:00:00\u001b[0m\n",
            "\u001b[?25hRequirement already satisfied: numpy in /usr/local/lib/python3.10/dist-packages (from sciann) (1.22.4)\n",
            "Requirement already satisfied: scipy in /usr/local/lib/python3.10/dist-packages (from sciann) (1.10.1)\n",
            "Requirement already satisfied: six in /usr/local/lib/python3.10/dist-packages (from sciann) (1.16.0)\n",
            "Requirement already satisfied: pyyaml in /usr/local/lib/python3.10/dist-packages (from sciann) (6.0)\n",
            "Requirement already satisfied: h5py in /usr/local/lib/python3.10/dist-packages (from sciann) (3.8.0)\n",
            "Requirement already satisfied: scikit-learn in /usr/local/lib/python3.10/dist-packages (from sciann) (1.2.2)\n",
            "Collecting pybtex (from sciann)\n",
            "  Downloading pybtex-0.24.0-py2.py3-none-any.whl (561 kB)\n",
            "\u001b[2K     \u001b[90m━━━━━━━━━━━━━━━━━━━━━━━━━━━━━━━━━━━━━━\u001b[0m \u001b[32m561.4/561.4 kB\u001b[0m \u001b[31m49.1 MB/s\u001b[0m eta \u001b[36m0:00:00\u001b[0m\n",
            "\u001b[?25hCollecting latexcodec>=1.0.4 (from pybtex->sciann)\n",
            "  Downloading latexcodec-2.0.1-py2.py3-none-any.whl (18 kB)\n",
            "Requirement already satisfied: joblib>=1.1.1 in /usr/local/lib/python3.10/dist-packages (from scikit-learn->sciann) (1.2.0)\n",
            "Requirement already satisfied: threadpoolctl>=2.0.0 in /usr/local/lib/python3.10/dist-packages (from scikit-learn->sciann) (3.1.0)\n",
            "Installing collected packages: latexcodec, pybtex, sciann\n",
            "Successfully installed latexcodec-2.0.1 pybtex-0.24.0 sciann-0.7.0.1\n"
          ]
        }
      ]
    },
    {
      "cell_type": "code",
      "source": [
        "!git clone https://github.com/ianbgroves/PatternLearning"
      ],
      "metadata": {
        "colab": {
          "base_uri": "https://localhost:8080/"
        },
        "id": "4zeVfxzsgZE5",
        "outputId": "f7bb68cc-c4da-4762-f78e-f6a1768f5cb0"
      },
      "execution_count": null,
      "outputs": [
        {
          "output_type": "stream",
          "name": "stdout",
          "text": [
            "Cloning into 'PatternLearning'...\n",
            "remote: Enumerating objects: 681, done.\u001b[K\n",
            "remote: Counting objects: 100% (69/69), done.\u001b[K\n",
            "remote: Compressing objects: 100% (62/62), done.\u001b[K\n",
            "remote: Total 681 (delta 27), reused 17 (delta 7), pack-reused 612\u001b[K\n",
            "Receiving objects: 100% (681/681), 530.28 MiB | 13.83 MiB/s, done.\n",
            "Resolving deltas: 100% (48/48), done.\n",
            "Updating files: 100% (580/580), done.\n"
          ]
        }
      ]
    },
    {
      "cell_type": "code",
      "execution_count": null,
      "metadata": {
        "id": "moWgYKkV_JtF",
        "outputId": "342efdea-629e-4cd1-9ddb-06c3c6950301",
        "colab": {
          "base_uri": "https://localhost:8080/"
        }
      },
      "outputs": [
        {
          "output_type": "stream",
          "name": "stdout",
          "text": [
            "---------------------- SCIANN 0.7.0.1 ---------------------- \n",
            "For details, check out our review paper and the documentation at: \n",
            " +  \"https://www.sciencedirect.com/science/article/pii/S0045782520307374\", \n",
            " +  \"https://arxiv.org/abs/2005.08803\", \n",
            " +  \"https://www.sciann.com\". \n",
            "\n",
            " Need support or would like to contribute, please join sciann`s slack group: \n",
            " +  \"https://join.slack.com/t/sciann/shared_invite/zt-ne1f5jlx-k_dY8RGo3ZreDXwz0f~CeA\" \n",
            " \n",
            "TensorFlow Version: 2.12.0 \n",
            "Python Version: 3.10.12 (main, Jun  7 2023, 12:45:35) [GCC 9.4.0] \n",
            "\n"
          ]
        }
      ],
      "source": [
        "import numpy as np\n",
        "import sciann as sn\n",
        "import matplotlib.pyplot as plt\n",
        "import scipy.io\n",
        "import os"
      ]
    },
    {
      "cell_type": "code",
      "source": [
        "# \".\" for Colab/VSCode, and \"..\" for GitHub\n",
        "repoPath = os.path.join(\".\", \"PINNs\")\n",
        "# repoPath = os.path.join(\"..\", \"PINNs\")\n",
        "utilsPath = os.path.join(repoPath, \"Utilities\")\n",
        "dataPath = os.path.join(repoPath, \"main\", \"Data\")\n",
        "appDataPath = os.path.join(repoPath, \"appendix\", \"Data\")\n"
      ],
      "metadata": {
        "id": "GdJzTSkTgdo8"
      },
      "execution_count": null,
      "outputs": []
    },
    {
      "cell_type": "code",
      "source": [
        "from datetime import date as timedate\n",
        "import pickle as pkl\n",
        "\n",
        "def save_solution(array_save_path, exp_name, array):\n",
        "    today = timedate.today()\n",
        "    date = today.strftime(\"%b-%d-%Y\")\n",
        "    save_file_path = os.path.join(array_save_path, '{}_{}.pkl'.format(exp_name, date))\n",
        "    os.makedirs(array_save_path + '/{}_{}'.format(exp_name, date), exist_ok=True)\n",
        "    # array_save_path = (path + '/{}_{}.pkl'.format(exp_name, date))\n",
        "    to_save = array\n",
        "\n",
        "    with open(save_file_path, 'wb') as pickle_file:\n",
        "        pkl.dump(to_save, pickle_file)\n",
        "    with open(save_file_path, 'rb') as pickle_file:\n",
        "        saved_array = pkl.load(pickle_file)\n",
        "    return saved_array\n",
        "\n",
        "def load_array(save_path):\n",
        "    with open(save_path, 'rb') as pickle_file:\n",
        "        saved_array = pkl.load(pickle_file)\n",
        "\n",
        "    return saved_array\n"
      ],
      "metadata": {
        "id": "ajeQSO_PRAA_"
      },
      "execution_count": null,
      "outputs": []
    },
    {
      "cell_type": "markdown",
      "metadata": {
        "id": "5ylNwZ8f_JtJ"
      },
      "source": [
        "# Introduction\n",
        "This is the code for the Navier-Stokes inversion problem from SciANN paper:\n",
        "+ https://arxiv.org/abs/2005.08803\n",
        "+ https://www.sciencedirect.com/science/article/pii/S0045782520307374\n",
        "\n",
        "The training data can be found in the following repository:\n",
        "+ https://github.com/maziarraissi/PINNs/tree/master/main/Data/cylinder_nektar_wake.mat"
      ]
    },
    {
      "cell_type": "code",
      "execution_count": null,
      "metadata": {
        "id": "A8BZu1PJ_JtM"
      },
      "outputs": [],
      "source": [
        "def PrepareData(num_data=5000, random=True):\n",
        "\n",
        "    # Get data file from:\n",
        "    #         https://github.com/maziarraissi/PINNs/tree/master/main/Data/cylinder_nektar_wake.mat\n",
        "    data = scipy.io.loadmat('/content/PatternLearning/PINNs/Raissi_2019_tensorflow2/main/Data/cylinder_nektar_wake.mat')\n",
        "\n",
        "    U_star = data['U_star'] # N x 2 x T\n",
        "    P_star = data['p_star'] # N x T\n",
        "    t_star = data['t'] # T x 1\n",
        "    X_star = data['X_star'] # N x 2\n",
        "\n",
        "    N = X_star.shape[0]\n",
        "    T = t_star.shape[0]\n",
        "\n",
        "    # Rearrange Data\n",
        "    XX = np.tile(X_star[:,0:1], (1,T)) # N x T\n",
        "    YY = np.tile(X_star[:,1:2], (1,T)) # N x T\n",
        "    TT = np.tile(t_star, (1,N)).T # N x T\n",
        "\n",
        "    UU = U_star[:,0,:] # N x T\n",
        "    VV = U_star[:,1,:] # N x T\n",
        "    PP = P_star # N x T\n",
        "\n",
        "    # Pick random data.\n",
        "    if random:\n",
        "        idx = np.random.choice(N*T, num_data, replace=False)\n",
        "    else:\n",
        "        idx = np.arange(0, N*T)\n",
        "\n",
        "    x = XX.flatten()[idx,None] # NT x 1\n",
        "    y = YY.flatten()[idx,None] # NT x 1\n",
        "    t = TT.flatten()[idx,None] # NT x 1\n",
        "\n",
        "    u = UU.flatten()[idx,None] # NT x 1\n",
        "    v = VV.flatten()[idx,None] # NT x 1\n",
        "    p = PP.flatten()[idx,None] # NT x 1\n",
        "\n",
        "    return (x,y,t,u,v,p)"
      ]
    },
    {
      "cell_type": "code",
      "execution_count": null,
      "metadata": {
        "id": "fgd2RvKe_JtN"
      },
      "outputs": [],
      "source": [
        "x_train, y_train, t_train, u_train, v_train, p_train = PrepareData(5000, random=True)"
      ]
    },
    {
      "cell_type": "markdown",
      "metadata": {
        "id": "2gIjA5yp_JtO"
      },
      "source": [
        "# PINN setup\n",
        "\n",
        "As discussed in the paper, the independent variables are $(x,y,t)$ and the solution variables are $(p, \\psi)$. The velocities are defined as $u=\\psi_{,y}$ and $v=-\\psi_{,x}$.\n",
        "\n",
        "The neural networks are:\n",
        "$$\n",
        "p: (x,y,t) \\rightarrow \\mathcal{N}_p(x,y,t; \\mathbf{W}, \\mathbf{b})\n",
        "\\\\\n",
        "\\psi: (x,y,t) \\rightarrow \\mathcal{N}_{\\psi}(x,y,t; \\mathbf{W}, \\mathbf{b})\n",
        "$$\n",
        "\n",
        "\n",
        "The governing relations are summerized as:\n",
        "$$\n",
        "p_{x} + u_{t} + \\lambda_1 (u u_{x} + v u_{y}) - \\lambda_2 (u_{xx} + u_{yy}) = 0 \\\\\n",
        "p_{y} + v_{t} + \\lambda_1 (u v_{x} + v v_{y}) - \\lambda_2 (v_{xx} + v_{yy}) = 0\n",
        "$$\n",
        "\n"
      ]
    },
    {
      "cell_type": "markdown",
      "metadata": {
        "id": "TNiCS3Tr_JtP"
      },
      "source": [
        "Define independent variables with `sn.Variable`:"
      ]
    },
    {
      "cell_type": "code",
      "execution_count": null,
      "metadata": {
        "id": "Nsna1B8P_JtP"
      },
      "outputs": [],
      "source": [
        "x = sn.Variable(\"x\", dtype='float64')\n",
        "y = sn.Variable(\"y\", dtype='float64')\n",
        "t = sn.Variable(\"t\", dtype='float64')"
      ]
    },
    {
      "cell_type": "markdown",
      "metadata": {
        "id": "xsVPbVfF_JtQ"
      },
      "source": [
        "Define solution variables with `sn.Functional` (multi-layer neural network):"
      ]
    },
    {
      "cell_type": "code",
      "execution_count": null,
      "metadata": {
        "id": "_zXZoIny_JtR"
      },
      "outputs": [],
      "source": [
        "P = sn.Functional(\"P\", [x, y, t], 8*[20], 'tanh')\n",
        "Psi = sn.Functional(\"Psi\", [x, y, t], 8*[20], 'tanh')"
      ]
    },
    {
      "cell_type": "markdown",
      "metadata": {
        "id": "QR-UnQK-_JtR"
      },
      "source": [
        "For inversion, define parameters using `sn.Parameter`:"
      ]
    },
    {
      "cell_type": "code",
      "execution_count": null,
      "metadata": {
        "id": "OkDtevGa_JtS"
      },
      "outputs": [],
      "source": [
        "lambda1 = sn.Parameter(np.random.rand(), inputs=[x,y,t], name=\"lambda1\")\n",
        "lambda2 = sn.Parameter(np.random.rand(), inputs=[x,y,t], name=\"lambda2\")"
      ]
    },
    {
      "cell_type": "markdown",
      "metadata": {
        "id": "q3pH2a3p_JtS"
      },
      "source": [
        "Use `sn.diff` and other mathematical operations to set up the PINN model."
      ]
    },
    {
      "cell_type": "code",
      "execution_count": null,
      "metadata": {
        "id": "HFUenTPa_JtT"
      },
      "outputs": [],
      "source": [
        "u = sn.diff(Psi, y)\n",
        "v = -sn.diff(Psi, x)\n",
        "\n",
        "u_t = sn.diff(u, t)\n",
        "u_x = sn.diff(u, x)\n",
        "u_y = sn.diff(u, y)\n",
        "u_xx = sn.diff(u, x, order=2)\n",
        "u_yy = sn.diff(u, y, order=2)\n",
        "\n",
        "v_t = sn.diff(v, t)\n",
        "v_x = sn.diff(v, x)\n",
        "v_y = sn.diff(v, y)\n",
        "v_xx = sn.diff(v, x, order=2)\n",
        "v_yy = sn.diff(v, y, order=2)\n",
        "\n",
        "p_x = sn.diff(P, x)\n",
        "p_y = sn.diff(P, y)"
      ]
    },
    {
      "cell_type": "markdown",
      "metadata": {
        "id": "xdkYbMxO_JtT"
      },
      "source": [
        "Define targets (losses) using `sn.Data`, `sn.Tie`, and `sn.PDE` interfaces."
      ]
    },
    {
      "cell_type": "markdown",
      "source": [
        "The governing relations are summerized as:\n",
        "$$\n",
        "p_{x} + u_{t} + \\lambda_1 (u u_{x} + v u_{y}) - \\lambda_2 (u_{xx} + u_{yy}) = 0 \\\\\n",
        "p_{y} + v_{t} + \\lambda_1 (u v_{x} + v v_{y}) - \\lambda_2 (v_{xx} + v_{yy}) = 0\n",
        "$$\n",
        "\n"
      ],
      "metadata": {
        "id": "DrXq44pcSKu6"
      }
    },
    {
      "cell_type": "code",
      "execution_count": null,
      "metadata": {
        "id": "kvuHtKem_JtT"
      },
      "outputs": [],
      "source": [
        "# Define constraints\n",
        "d1 = sn.Data(u)\n",
        "d2 = sn.Data(v)\n",
        "d3 = sn.Data(P)\n",
        "\n",
        "# tie solution of the neural network p, to the PDE residuals\n",
        "# this is the 'physics informed'part\n",
        "\n",
        "c1 = sn.Tie(-p_x,\n",
        "            u_t+lambda1*(u*u_x+v*u_y)-lambda2*(u_xx+u_yy))\n",
        "c2 = sn.Tie(-p_y,\n",
        "            v_t+lambda1*(u*v_x+v*v_y)-lambda2*(v_xx+v_yy))\n",
        "\n",
        "\n",
        "c3 = sn.Data(u_x + v_y)"
      ]
    },
    {
      "cell_type": "markdown",
      "metadata": {
        "id": "C5voZ8q8_JtU"
      },
      "source": [
        "Keras <= 1.4.0 requires training on every target. Therefore, it will through an error if we do not train on $\\psi$.\n",
        "\n",
        "To resolve this error, let's add a trivial target for $\\psi$:"
      ]
    },
    {
      "cell_type": "code",
      "execution_count": null,
      "metadata": {
        "id": "ozKtt2Md_JtU"
      },
      "outputs": [],
      "source": [
        "c4 = Psi*0.0"
      ]
    },
    {
      "cell_type": "markdown",
      "metadata": {
        "id": "kpDwMCA3_JtU"
      },
      "source": [
        "Define the optimization model with `sn.SciModel`:"
      ]
    },
    {
      "cell_type": "code",
      "execution_count": null,
      "metadata": {
        "id": "VV3BMCyv_JtU"
      },
      "outputs": [],
      "source": [
        "# Define the optimization model (set of inputs and constraints)\n",
        "model = sn.SciModel(\n",
        "    inputs=[x, y, t],\n",
        "    targets=[d1, d2, d3, c1, c2, c3, c4],\n",
        "    loss_func=\"mse\",\n",
        "    plot_to_file='NS-Model.png'\n",
        ")"
      ]
    },
    {
      "cell_type": "markdown",
      "metadata": {
        "id": "Zn8g8LZA_JtV"
      },
      "source": [
        "The network is plotted in the NS-Model.png file.\n",
        "\n",
        "![SciModel](https://github.com/ianbgroves/sciann-applications/blob/master/SciANN-NavierStokes/NS-Model.png?raw=1)"
      ]
    },
    {
      "cell_type": "markdown",
      "metadata": {
        "id": "eUzKcAJm_JtV"
      },
      "source": [
        "Prepare the training data according to the order they are defined in `sn.SciModel`."
      ]
    },
    {
      "cell_type": "code",
      "execution_count": null,
      "metadata": {
        "id": "I8c5KZA5_JtV"
      },
      "outputs": [],
      "source": [
        "input_data = [x_train, y_train, t_train]"
      ]
    },
    {
      "cell_type": "code",
      "execution_count": null,
      "metadata": {
        "id": "RYdWihjE_JtV"
      },
      "outputs": [],
      "source": [
        "data_d1 = u_train\n",
        "data_d2 = v_train\n",
        "data_d3 = p_train\n",
        "data_c1 = 'zeros'\n",
        "data_c2 = 'zeros'\n",
        "data_c3 = 'zeros'\n",
        "data_c4 = 'zeros'\n",
        "target_data = [data_d1, data_d2, data_d3, data_c1, data_c2, data_c3, data_c4]\n",
        "\n",
        "# c1 = sn.Tie(-p_x,\n",
        "#             u_t+lambda1*(u*u_x+v*u_y)-lambda2*(u_xx+u_yy))\n",
        "# c2 = sn.Tie(-p_y,\n",
        "#             v_t+lambda1*(u*v_x+v*v_y)-lambda2*(v_xx+v_yy))\n",
        "\n",
        "\n",
        "# c3 = sn.Data(u_x + v_y)"
      ]
    },
    {
      "cell_type": "markdown",
      "metadata": {
        "id": "ft3hG0yt_JtW"
      },
      "source": [
        "Train the model by calling `.train` function. Check the documentation at www.sciann.com for all the training options."
      ]
    },
    {
      "cell_type": "code",
      "execution_count": null,
      "metadata": {
        "id": "uY8zUG0P_JtW",
        "colab": {
          "base_uri": "https://localhost:8080/"
        },
        "outputId": "f8ca54a6-e98a-49f1-b1f7-5bca16434d52"
      },
      "outputs": [
        {
          "output_type": "stream",
          "name": "stdout",
          "text": [
            "\n",
            "Total samples: 5000 \n",
            "Batch size: 100 \n",
            "Total batches: 50 \n",
            "\n",
            "Epoch 1/50\n",
            "50/50 [==============================] - 37s 150ms/step - batch: 24.5000 - size: 100.0000 - loss: 0.7657 - Grad__loss: 0.6092 - mul_loss: 0.0840 - P_loss: 0.0260 - sub_2_loss: 0.0334 - sub_4_loss: 0.0131 - add_7_loss: 3.7017e-34 - mul_12_loss: 0.0000e+00 - lr: 0.0010 - time: 37.4552\n",
            "Epoch 2/50\n",
            "50/50 [==============================] - 6s 129ms/step - batch: 24.5000 - size: 100.0000 - loss: 0.3908 - Grad__loss: 0.2441 - mul_loss: 0.1062 - P_loss: 0.0095 - sub_2_loss: 0.0235 - sub_4_loss: 0.0074 - add_7_loss: 9.2019e-34 - mul_12_loss: 0.0000e+00 - lr: 0.0010 - time: 6.4799\n",
            "Epoch 3/50\n",
            "50/50 [==============================] - 7s 144ms/step - batch: 24.5000 - size: 100.0000 - loss: 0.2639 - Grad__loss: 0.1353 - mul_loss: 0.0927 - P_loss: 0.0093 - sub_2_loss: 0.0210 - sub_4_loss: 0.0056 - add_7_loss: 8.1321e-34 - mul_12_loss: 0.0000e+00 - lr: 0.0010 - time: 7.1905\n",
            "Epoch 4/50\n",
            "50/50 [==============================] - 6s 127ms/step - batch: 24.5000 - size: 100.0000 - loss: 0.2066 - Grad__loss: 0.0971 - mul_loss: 0.0815 - P_loss: 0.0088 - sub_2_loss: 0.0149 - sub_4_loss: 0.0044 - add_7_loss: 7.9871e-34 - mul_12_loss: 0.0000e+00 - lr: 0.0010 - time: 6.3459\n",
            "Epoch 5/50\n",
            "50/50 [==============================] - 7s 144ms/step - batch: 24.5000 - size: 100.0000 - loss: 0.1747 - Grad__loss: 0.0745 - mul_loss: 0.0758 - P_loss: 0.0079 - sub_2_loss: 0.0123 - sub_4_loss: 0.0041 - add_7_loss: 9.5883e-34 - mul_12_loss: 0.0000e+00 - lr: 0.0010 - time: 7.1624\n",
            "Epoch 6/50\n",
            "50/50 [==============================] - 7s 138ms/step - batch: 24.5000 - size: 100.0000 - loss: 0.1569 - Grad__loss: 0.0629 - mul_loss: 0.0729 - P_loss: 0.0074 - sub_2_loss: 0.0102 - sub_4_loss: 0.0035 - add_7_loss: 1.1784e-33 - mul_12_loss: 0.0000e+00 - lr: 0.0010 - time: 6.9055\n",
            "Epoch 7/50\n",
            "50/50 [==============================] - 7s 145ms/step - batch: 24.5000 - size: 100.0000 - loss: 0.1460 - Grad__loss: 0.0564 - mul_loss: 0.0713 - P_loss: 0.0067 - sub_2_loss: 0.0084 - sub_4_loss: 0.0032 - add_7_loss: 1.2929e-33 - mul_12_loss: 0.0000e+00 - lr: 0.0010 - time: 7.3059\n",
            "Epoch 8/50\n",
            "50/50 [==============================] - 7s 133ms/step - batch: 24.5000 - size: 100.0000 - loss: 0.1378 - Grad__loss: 0.0516 - mul_loss: 0.0699 - P_loss: 0.0060 - sub_2_loss: 0.0076 - sub_4_loss: 0.0028 - add_7_loss: 1.3759e-33 - mul_12_loss: 0.0000e+00 - lr: 0.0010 - time: 6.6439\n",
            "Epoch 9/50\n",
            "50/50 [==============================] - 7s 136ms/step - batch: 24.5000 - size: 100.0000 - loss: 0.1323 - Grad__loss: 0.0481 - mul_loss: 0.0691 - P_loss: 0.0054 - sub_2_loss: 0.0069 - sub_4_loss: 0.0028 - add_7_loss: 1.4276e-33 - mul_12_loss: 0.0000e+00 - lr: 0.0010 - time: 6.8662\n",
            "Epoch 10/50\n",
            "50/50 [==============================] - 7s 139ms/step - batch: 24.5000 - size: 100.0000 - loss: 0.1288 - Grad__loss: 0.0469 - mul_loss: 0.0683 - P_loss: 0.0050 - sub_2_loss: 0.0061 - sub_4_loss: 0.0025 - add_7_loss: 1.6693e-33 - mul_12_loss: 0.0000e+00 - lr: 0.0010 - time: 6.9546\n",
            "Epoch 11/50\n",
            "50/50 [==============================] - 6s 126ms/step - batch: 24.5000 - size: 100.0000 - loss: 0.1249 - Grad__loss: 0.0445 - mul_loss: 0.0678 - P_loss: 0.0048 - sub_2_loss: 0.0055 - sub_4_loss: 0.0023 - add_7_loss: 1.5735e-33 - mul_12_loss: 0.0000e+00 - lr: 0.0010 - time: 6.3078\n",
            "Epoch 12/50\n",
            "50/50 [==============================] - 7s 141ms/step - batch: 24.5000 - size: 100.0000 - loss: 0.1226 - Grad__loss: 0.0434 - mul_loss: 0.0675 - P_loss: 0.0046 - sub_2_loss: 0.0049 - sub_4_loss: 0.0022 - add_7_loss: 1.7282e-33 - mul_12_loss: 0.0000e+00 - lr: 0.0010 - time: 7.0359\n",
            "Epoch 13/50\n",
            "50/50 [==============================] - 6s 127ms/step - batch: 24.5000 - size: 100.0000 - loss: 0.1201 - Grad__loss: 0.0418 - mul_loss: 0.0672 - P_loss: 0.0045 - sub_2_loss: 0.0045 - sub_4_loss: 0.0021 - add_7_loss: 1.7819e-33 - mul_12_loss: 0.0000e+00 - lr: 0.0010 - time: 6.3677\n",
            "Epoch 14/50\n",
            "50/50 [==============================] - 7s 141ms/step - batch: 24.5000 - size: 100.0000 - loss: 0.1201 - Grad__loss: 0.0421 - mul_loss: 0.0669 - P_loss: 0.0047 - sub_2_loss: 0.0043 - sub_4_loss: 0.0021 - add_7_loss: 1.9111e-33 - mul_12_loss: 0.0000e+00 - lr: 0.0010 - time: 7.0312\n",
            "Epoch 15/50\n",
            "50/50 [==============================] - 6s 127ms/step - batch: 24.5000 - size: 100.0000 - loss: 0.1174 - Grad__loss: 0.0402 - mul_loss: 0.0667 - P_loss: 0.0046 - sub_2_loss: 0.0039 - sub_4_loss: 0.0021 - add_7_loss: 1.8637e-33 - mul_12_loss: 0.0000e+00 - lr: 0.0010 - time: 6.3592\n",
            "Epoch 16/50\n",
            "50/50 [==============================] - 7s 143ms/step - batch: 24.5000 - size: 100.0000 - loss: 0.1157 - Grad__loss: 0.0390 - mul_loss: 0.0664 - P_loss: 0.0049 - sub_2_loss: 0.0035 - sub_4_loss: 0.0020 - add_7_loss: 2.0172e-33 - mul_12_loss: 0.0000e+00 - lr: 0.0010 - time: 7.1168\n",
            "Epoch 17/50\n",
            "50/50 [==============================] - 6s 126ms/step - batch: 24.5000 - size: 100.0000 - loss: 0.1143 - Grad__loss: 0.0380 - mul_loss: 0.0659 - P_loss: 0.0047 - sub_2_loss: 0.0036 - sub_4_loss: 0.0021 - add_7_loss: 2.1055e-33 - mul_12_loss: 0.0000e+00 - lr: 0.0010 - time: 6.3299\n",
            "Epoch 18/50\n",
            "50/50 [==============================] - 7s 142ms/step - batch: 24.5000 - size: 100.0000 - loss: 0.1127 - Grad__loss: 0.0372 - mul_loss: 0.0657 - P_loss: 0.0047 - sub_2_loss: 0.0031 - sub_4_loss: 0.0020 - add_7_loss: 1.9931e-33 - mul_12_loss: 0.0000e+00 - lr: 0.0010 - time: 7.0699\n",
            "Epoch 19/50\n",
            "50/50 [==============================] - 7s 133ms/step - batch: 24.5000 - size: 100.0000 - loss: 0.1104 - Grad__loss: 0.0358 - mul_loss: 0.0654 - P_loss: 0.0044 - sub_2_loss: 0.0029 - sub_4_loss: 0.0019 - add_7_loss: 2.1967e-33 - mul_12_loss: 0.0000e+00 - lr: 0.0010 - time: 6.6578\n",
            "Epoch 20/50\n",
            "50/50 [==============================] - 7s 135ms/step - batch: 24.5000 - size: 100.0000 - loss: 0.1103 - Grad__loss: 0.0359 - mul_loss: 0.0650 - P_loss: 0.0046 - sub_2_loss: 0.0028 - sub_4_loss: 0.0019 - add_7_loss: 2.2331e-33 - mul_12_loss: 0.0000e+00 - lr: 0.0010 - time: 6.7910\n",
            "Epoch 21/50\n",
            "50/50 [==============================] - 7s 143ms/step - batch: 24.5000 - size: 100.0000 - loss: 0.1082 - Grad__loss: 0.0344 - mul_loss: 0.0648 - P_loss: 0.0046 - sub_2_loss: 0.0026 - sub_4_loss: 0.0019 - add_7_loss: 2.3018e-33 - mul_12_loss: 0.0000e+00 - lr: 0.0010 - time: 7.1242\n",
            "Epoch 22/50\n",
            "50/50 [==============================] - 6s 128ms/step - batch: 24.5000 - size: 100.0000 - loss: 0.1060 - Grad__loss: 0.0330 - mul_loss: 0.0643 - P_loss: 0.0043 - sub_2_loss: 0.0024 - sub_4_loss: 0.0019 - add_7_loss: 2.2948e-33 - mul_12_loss: 0.0000e+00 - lr: 0.0010 - time: 6.4081\n",
            "Epoch 23/50\n",
            "50/50 [==============================] - 7s 143ms/step - batch: 24.5000 - size: 100.0000 - loss: 0.1047 - Grad__loss: 0.0322 - mul_loss: 0.0642 - P_loss: 0.0043 - sub_2_loss: 0.0022 - sub_4_loss: 0.0018 - add_7_loss: 2.3295e-33 - mul_12_loss: 0.0000e+00 - lr: 0.0010 - time: 7.1538\n",
            "Epoch 24/50\n",
            "50/50 [==============================] - 6s 128ms/step - batch: 24.5000 - size: 100.0000 - loss: 0.1036 - Grad__loss: 0.0311 - mul_loss: 0.0639 - P_loss: 0.0047 - sub_2_loss: 0.0022 - sub_4_loss: 0.0017 - add_7_loss: 2.3766e-33 - mul_12_loss: 0.0000e+00 - lr: 0.0010 - time: 6.3746\n",
            "Epoch 25/50\n",
            "50/50 [==============================] - 7s 142ms/step - batch: 24.5000 - size: 100.0000 - loss: 0.1006 - Grad__loss: 0.0290 - mul_loss: 0.0634 - P_loss: 0.0045 - sub_2_loss: 0.0020 - sub_4_loss: 0.0017 - add_7_loss: 2.3446e-33 - mul_12_loss: 0.0000e+00 - lr: 0.0010 - time: 7.0870\n",
            "Epoch 26/50\n",
            "50/50 [==============================] - 6s 126ms/step - batch: 24.5000 - size: 100.0000 - loss: 0.1002 - Grad__loss: 0.0290 - mul_loss: 0.0631 - P_loss: 0.0046 - sub_2_loss: 0.0020 - sub_4_loss: 0.0015 - add_7_loss: 2.4015e-33 - mul_12_loss: 0.0000e+00 - lr: 0.0010 - time: 6.2893\n",
            "Epoch 27/50\n",
            "50/50 [==============================] - 7s 144ms/step - batch: 24.5000 - size: 100.0000 - loss: 0.0982 - Grad__loss: 0.0272 - mul_loss: 0.0629 - P_loss: 0.0046 - sub_2_loss: 0.0019 - sub_4_loss: 0.0015 - add_7_loss: 2.4768e-33 - mul_12_loss: 0.0000e+00 - lr: 0.0010 - time: 7.1761\n",
            "Epoch 28/50\n",
            "50/50 [==============================] - 6s 129ms/step - batch: 24.5000 - size: 100.0000 - loss: 0.0954 - Grad__loss: 0.0252 - mul_loss: 0.0624 - P_loss: 0.0047 - sub_2_loss: 0.0017 - sub_4_loss: 0.0014 - add_7_loss: 2.6110e-33 - mul_12_loss: 0.0000e+00 - lr: 0.0010 - time: 6.4673\n",
            "Epoch 29/50\n",
            "50/50 [==============================] - 7s 140ms/step - batch: 24.5000 - size: 100.0000 - loss: 0.0958 - Grad__loss: 0.0261 - mul_loss: 0.0621 - P_loss: 0.0048 - sub_2_loss: 0.0016 - sub_4_loss: 0.0013 - add_7_loss: 2.5994e-33 - mul_12_loss: 0.0000e+00 - lr: 0.0010 - time: 6.9694\n",
            "Epoch 30/50\n",
            "50/50 [==============================] - 7s 138ms/step - batch: 24.5000 - size: 100.0000 - loss: 0.0942 - Grad__loss: 0.0249 - mul_loss: 0.0615 - P_loss: 0.0049 - sub_2_loss: 0.0016 - sub_4_loss: 0.0012 - add_7_loss: 2.5551e-33 - mul_12_loss: 0.0000e+00 - lr: 0.0010 - time: 6.8772\n",
            "Epoch 31/50\n",
            "50/50 [==============================] - 7s 130ms/step - batch: 24.5000 - size: 100.0000 - loss: 0.0924 - Grad__loss: 0.0238 - mul_loss: 0.0610 - P_loss: 0.0048 - sub_2_loss: 0.0016 - sub_4_loss: 0.0013 - add_7_loss: 2.8836e-33 - mul_12_loss: 0.0000e+00 - lr: 0.0010 - time: 6.5406\n",
            "Epoch 32/50\n",
            "50/50 [==============================] - 7s 141ms/step - batch: 24.5000 - size: 100.0000 - loss: 0.0927 - Grad__loss: 0.0243 - mul_loss: 0.0607 - P_loss: 0.0047 - sub_2_loss: 0.0016 - sub_4_loss: 0.0014 - add_7_loss: 2.5770e-33 - mul_12_loss: 0.0000e+00 - lr: 0.0010 - time: 7.0060\n",
            "Epoch 33/50\n",
            "50/50 [==============================] - 6s 127ms/step - batch: 24.5000 - size: 100.0000 - loss: 0.0920 - Grad__loss: 0.0241 - mul_loss: 0.0601 - P_loss: 0.0050 - sub_2_loss: 0.0015 - sub_4_loss: 0.0014 - add_7_loss: 2.7295e-33 - mul_12_loss: 0.0000e+00 - lr: 0.0010 - time: 6.3290\n",
            "Epoch 34/50\n",
            "50/50 [==============================] - 7s 141ms/step - batch: 24.5000 - size: 100.0000 - loss: 0.0906 - Grad__loss: 0.0231 - mul_loss: 0.0598 - P_loss: 0.0047 - sub_2_loss: 0.0015 - sub_4_loss: 0.0014 - add_7_loss: 2.8878e-33 - mul_12_loss: 0.0000e+00 - lr: 0.0010 - time: 7.0336\n",
            "Epoch 35/50\n",
            "50/50 [==============================] - 6s 126ms/step - batch: 24.5000 - size: 100.0000 - loss: 0.0902 - Grad__loss: 0.0233 - mul_loss: 0.0591 - P_loss: 0.0047 - sub_2_loss: 0.0015 - sub_4_loss: 0.0015 - add_7_loss: 2.7067e-33 - mul_12_loss: 0.0000e+00 - lr: 0.0010 - time: 6.3238\n",
            "Epoch 36/50\n",
            "50/50 [==============================] - 7s 142ms/step - batch: 24.5000 - size: 100.0000 - loss: 0.0894 - Grad__loss: 0.0227 - mul_loss: 0.0590 - P_loss: 0.0047 - sub_2_loss: 0.0015 - sub_4_loss: 0.0015 - add_7_loss: 2.7976e-33 - mul_12_loss: 0.0000e+00 - lr: 0.0010 - time: 7.0983\n",
            "Epoch 37/50\n",
            "50/50 [==============================] - 6s 126ms/step - batch: 24.5000 - size: 100.0000 - loss: 0.0888 - Grad__loss: 0.0229 - mul_loss: 0.0582 - P_loss: 0.0046 - sub_2_loss: 0.0015 - sub_4_loss: 0.0016 - add_7_loss: 2.9769e-33 - mul_12_loss: 0.0000e+00 - lr: 0.0010 - time: 6.2911\n",
            "Epoch 38/50\n",
            "50/50 [==============================] - 7s 142ms/step - batch: 24.5000 - size: 100.0000 - loss: 0.0888 - Grad__loss: 0.0236 - mul_loss: 0.0573 - P_loss: 0.0047 - sub_2_loss: 0.0015 - sub_4_loss: 0.0017 - add_7_loss: 3.2314e-33 - mul_12_loss: 0.0000e+00 - lr: 0.0010 - time: 7.0739\n",
            "Epoch 39/50\n",
            "50/50 [==============================] - 6s 128ms/step - batch: 24.5000 - size: 100.0000 - loss: 0.0866 - Grad__loss: 0.0222 - mul_loss: 0.0566 - P_loss: 0.0046 - sub_2_loss: 0.0014 - sub_4_loss: 0.0018 - add_7_loss: 3.4339e-33 - mul_12_loss: 0.0000e+00 - lr: 0.0010 - time: 6.3847\n",
            "Epoch 40/50\n",
            "50/50 [==============================] - 7s 140ms/step - batch: 24.5000 - size: 100.0000 - loss: 0.0843 - Grad__loss: 0.0212 - mul_loss: 0.0551 - P_loss: 0.0045 - sub_2_loss: 0.0015 - sub_4_loss: 0.0020 - add_7_loss: 3.5162e-33 - mul_12_loss: 0.0000e+00 - lr: 0.0010 - time: 7.0829\n",
            "Epoch 41/50\n",
            "50/50 [==============================] - 7s 137ms/step - batch: 24.5000 - size: 100.0000 - loss: 0.0835 - Grad__loss: 0.0215 - mul_loss: 0.0538 - P_loss: 0.0045 - sub_2_loss: 0.0016 - sub_4_loss: 0.0020 - add_7_loss: 3.8294e-33 - mul_12_loss: 0.0000e+00 - lr: 0.0010 - time: 6.8443\n",
            "Epoch 42/50\n",
            "50/50 [==============================] - 7s 146ms/step - batch: 24.5000 - size: 100.0000 - loss: 0.0825 - Grad__loss: 0.0213 - mul_loss: 0.0529 - P_loss: 0.0046 - sub_2_loss: 0.0016 - sub_4_loss: 0.0021 - add_7_loss: 4.0237e-33 - mul_12_loss: 0.0000e+00 - lr: 0.0010 - time: 7.3389\n",
            "Epoch 43/50\n",
            "50/50 [==============================] - 7s 142ms/step - batch: 24.5000 - size: 100.0000 - loss: 0.0815 - Grad__loss: 0.0212 - mul_loss: 0.0522 - P_loss: 0.0045 - sub_2_loss: 0.0015 - sub_4_loss: 0.0021 - add_7_loss: 4.0099e-33 - mul_12_loss: 0.0000e+00 - lr: 0.0010 - time: 7.1158\n",
            "Epoch 44/50\n",
            "50/50 [==============================] - 6s 127ms/step - batch: 24.5000 - size: 100.0000 - loss: 0.0812 - Grad__loss: 0.0213 - mul_loss: 0.0519 - P_loss: 0.0044 - sub_2_loss: 0.0014 - sub_4_loss: 0.0021 - add_7_loss: 3.9063e-33 - mul_12_loss: 0.0000e+00 - lr: 0.0010 - time: 6.3631\n",
            "Epoch 45/50\n",
            "50/50 [==============================] - 7s 143ms/step - batch: 24.5000 - size: 100.0000 - loss: 0.0799 - Grad__loss: 0.0210 - mul_loss: 0.0511 - P_loss: 0.0044 - sub_2_loss: 0.0014 - sub_4_loss: 0.0021 - add_7_loss: 4.1054e-33 - mul_12_loss: 0.0000e+00 - lr: 0.0010 - time: 7.1344\n",
            "Epoch 46/50\n",
            "50/50 [==============================] - 6s 127ms/step - batch: 24.5000 - size: 100.0000 - loss: 0.0805 - Grad__loss: 0.0219 - mul_loss: 0.0507 - P_loss: 0.0044 - sub_2_loss: 0.0015 - sub_4_loss: 0.0020 - add_7_loss: 4.3158e-33 - mul_12_loss: 0.0000e+00 - lr: 0.0010 - time: 6.3445\n",
            "Epoch 47/50\n",
            "50/50 [==============================] - 7s 142ms/step - batch: 24.5000 - size: 100.0000 - loss: 0.0793 - Grad__loss: 0.0210 - mul_loss: 0.0504 - P_loss: 0.0045 - sub_2_loss: 0.0014 - sub_4_loss: 0.0020 - add_7_loss: 4.3937e-33 - mul_12_loss: 0.0000e+00 - lr: 0.0010 - time: 7.0712\n",
            "Epoch 48/50\n",
            "50/50 [==============================] - 6s 129ms/step - batch: 24.5000 - size: 100.0000 - loss: 0.0803 - Grad__loss: 0.0222 - mul_loss: 0.0501 - P_loss: 0.0045 - sub_2_loss: 0.0015 - sub_4_loss: 0.0020 - add_7_loss: 4.5445e-33 - mul_12_loss: 0.0000e+00 - lr: 0.0010 - time: 6.4194\n",
            "Epoch 49/50\n",
            "50/50 [==============================] - 7s 140ms/step - batch: 24.5000 - size: 100.0000 - loss: 0.0783 - Grad__loss: 0.0209 - mul_loss: 0.0495 - P_loss: 0.0045 - sub_2_loss: 0.0015 - sub_4_loss: 0.0020 - add_7_loss: 4.3407e-33 - mul_12_loss: 0.0000e+00 - lr: 0.0010 - time: 7.0578\n",
            "Epoch 50/50\n",
            "50/50 [==============================] - 7s 140ms/step - batch: 24.5000 - size: 100.0000 - loss: 0.0782 - Grad__loss: 0.0211 - mul_loss: 0.0491 - P_loss: 0.0045 - sub_2_loss: 0.0015 - sub_4_loss: 0.0020 - add_7_loss: 4.5925e-33 - mul_12_loss: 0.0000e+00 - lr: 0.0010 - time: 6.9843\n",
            "time taken to train: 377.12171030044556s\n"
          ]
        }
      ],
      "source": [
        "from time import time\n",
        "start = time()\n",
        "history = model.train(\n",
        "    x_true=input_data,\n",
        "    y_true=target_data,\n",
        "    epochs=50,\n",
        "    batch_size=100,\n",
        "    shuffle=True,\n",
        "    learning_rate=0.001,\n",
        "    reduce_lr_after=100,\n",
        "    stop_loss_value=1e-8,\n",
        "    verbose=1\n",
        ")\n",
        "print(\"time taken to train: {}s\".format(time()-start))\n"
      ]
    },
    {
      "cell_type": "code",
      "source": [
        "os.makedirs('/content/PatternLearning/PINNs/sciANN/saved_models/', exist_ok=True)\n",
        "model.save_weights('/content/PatternLearning/PINNs/sciANN/saved_models/trained-navier-stokes.hdf5')"
      ],
      "metadata": {
        "id": "Kb7Hzyl9lcl_"
      },
      "execution_count": null,
      "outputs": []
    },
    {
      "cell_type": "code",
      "execution_count": null,
      "metadata": {
        "id": "ISiH5qU4_JtW",
        "outputId": "20144e8e-2377-40ac-8dc1-63ce778da3d7",
        "colab": {
          "base_uri": "https://localhost:8080/"
        }
      },
      "outputs": [
        {
          "output_type": "stream",
          "name": "stdout",
          "text": [
            "lambda1: [0.86668912],  lambda2: [0.02769083]\n"
          ]
        }
      ],
      "source": [
        "print(\"lambda1: {},  lambda2: {}\".format(lambda1.value, lambda2.value))"
      ]
    },
    {
      "cell_type": "code",
      "execution_count": null,
      "metadata": {
        "id": "BcED7-Vs_JtX",
        "outputId": "eeb95c17-32cb-42b9-c9a7-dbae590385d1",
        "colab": {
          "base_uri": "https://localhost:8080/",
          "height": 466
        }
      },
      "outputs": [
        {
          "output_type": "execute_result",
          "data": {
            "text/plain": [
              "Text(0, 0.5, 'loss')"
            ]
          },
          "metadata": {},
          "execution_count": 25
        },
        {
          "output_type": "display_data",
          "data": {
            "text/plain": [
              "<Figure size 640x480 with 1 Axes>"
            ],
            "image/png": "[encoded data removed]"
          },
          "metadata": {}
        }
      ],
      "source": [
        "plt.semilogy(history.history['loss'])\n",
        "plt.xlabel('epochs')\n",
        "plt.ylabel('loss')"
      ]
    },
    {
      "cell_type": "markdown",
      "source": [
        "## Loading the model"
      ],
      "metadata": {
        "id": "XcwjRFfsse4I"
      }
    },
    {
      "cell_type": "code",
      "source": [
        "model = sn.SciModel(inputs=[x, y, t],\n",
        "    targets=[d1, d2, d3, c1, c2, c3, c4],\n",
        "    loss_func=\"mse\",\n",
        "                    load_weights_from='/content/PatternLearning/PINNs/sciANN/saved_models/trained-navier-stokes.hdf5',\n",
        "                    plot_to_file=None)\n",
        "\n",
        "\n"
      ],
      "metadata": {
        "id": "E_gpweMlqrfU"
      },
      "execution_count": null,
      "outputs": []
    },
    {
      "cell_type": "markdown",
      "source": [
        "# Schnakenberg"
      ],
      "metadata": {
        "id": "QQWUGEjQmJUh"
      }
    },
    {
      "cell_type": "markdown",
      "source": [
        "First load a solution to the following equations:\n",
        "\n",
        "\\begin{align}\n",
        "\\frac{\\partial u}{\\partial t} &= D_u \\nabla^2 u + \\gamma (a-u + u^2v)\\\\\n",
        "\\frac{\\partial v}{\\partial t} &= D_v \\nabla^2 v + \\gamma (b-u^2v)\n",
        "\\end{align}"
      ],
      "metadata": {
        "id": "xGcl2XgHmLsO"
      }
    },
    {
      "cell_type": "code",
      "execution_count": null,
      "metadata": {
        "id": "GXZ4weee_JtX",
        "outputId": "09f8091a-3288-4c43-ec64-e470ff28d6b5",
        "colab": {
          "base_uri": "https://localhost:8080/"
        }
      },
      "outputs": [
        {
          "output_type": "stream",
          "name": "stdout",
          "text": [
            "u_shape (101, 101, 2)\n"
          ]
        }
      ],
      "source": [
        "u = load_array('/content/PatternLearning/Operator_search/datasets/1D_Schnakenberg_soln_Jul-06-2023.pkl')\n",
        "print(f\"u_shape {u.shape}\")\n",
        "\n",
        "dt = 0.05\n"
      ]
    },
    {
      "cell_type": "code",
      "source": [
        "plt.plot(u[:,:,0][-1])\n",
        "plt.plot(u[:,:,1][-1])"
      ],
      "metadata": {
        "id": "PAjKs2JHZMXp",
        "outputId": "aa064fb2-dc25-427b-c90f-cdce4bf44da5",
        "colab": {
          "base_uri": "https://localhost:8080/",
          "height": 447
        }
      },
      "execution_count": null,
      "outputs": [
        {
          "output_type": "execute_result",
          "data": {
            "text/plain": [
              "[<matplotlib.lines.Line2D at 0x7f1416b7e860>]"
            ]
          },
          "metadata": {},
          "execution_count": 32
        },
        {
          "output_type": "display_data",
          "data": {
            "text/plain": [
              "<Figure size 640x480 with 1 Axes>"
            ],
            "image/png": "[encoded data removed]"
          },
          "metadata": {}
        }
      ]
    },
    {
      "cell_type": "markdown",
      "metadata": {
        "id": "61mrULYsYyXj"
      },
      "source": [
        "Define independent variables with `sn.Variable`:"
      ]
    },
    {
      "cell_type": "code",
      "execution_count": null,
      "metadata": {
        "id": "qcB6CAU7YyXj"
      },
      "outputs": [],
      "source": [
        "x = sn.Variable(\"x\", dtype='float64')\n",
        "y = sn.Variable(\"y\", dtype='float64')\n",
        "t = sn.Variable(\"t\", dtype='float64')"
      ]
    },
    {
      "cell_type": "markdown",
      "metadata": {
        "id": "3kKSHKELYyXk"
      },
      "source": [
        "# PINN setup\n",
        "\n",
        "As discussed in the paper, the independent variables are $(x,y,t)$ and the solution variables are $(p, \\psi)$. The velocities are defined as $u=\\psi_{,y}$ and $v=-\\psi_{,x}$.\n",
        "\n",
        "The neural networks are:\n",
        "$$\n",
        "p: (x,y,t) \\rightarrow \\mathcal{N}_p(x,y,t; \\mathbf{W}, \\mathbf{b})\n",
        "\\\\\n",
        "\\psi: (x,y,t) \\rightarrow \\mathcal{N}_{\\psi}(x,y,t; \\mathbf{W}, \\mathbf{b})\n",
        "$$\n",
        "\n",
        "Define solution variables with `sn.Functional` (multi-layer neural network):"
      ]
    },
    {
      "cell_type": "code",
      "execution_count": null,
      "metadata": {
        "id": "Jd6N2e9ZYyXk"
      },
      "outputs": [],
      "source": [
        "P = sn.Functional(\"P\", [x, y, t], 8*[20], 'tanh')\n",
        "Psi = sn.Functional(\"Psi\", [x, y, t], 8*[20], 'tanh')"
      ]
    },
    {
      "cell_type": "markdown",
      "metadata": {
        "id": "DMlUCnRbYyXk"
      },
      "source": [
        "For inversion, define parameters using `sn.Parameter`:"
      ]
    },
    {
      "cell_type": "code",
      "execution_count": null,
      "metadata": {
        "id": "km9QxXEbYyXk"
      },
      "outputs": [],
      "source": [
        "gamma = sn.Parameter(np.random.rand(), inputs=[x,y,t], name=\"gamma\")\n",
        "a = sn.Parameter(np.random.rand(), inputs=[x,y,t], name=\"a\")\n",
        "b = sn.Parameter(np.random.rand(), inputs=[x,y,t], name=\"b\")\n",
        "D_u = sn.Parameter(np.random.rand(), inputs=[x,y,t], name=\"Du\")\n",
        "D_v = sn.Parameter(np.random.rand(), inputs=[x,y,t], name=\"Dv\")\n"
      ]
    },
    {
      "cell_type": "markdown",
      "metadata": {
        "id": "Rl78EDmhYyXk"
      },
      "source": [
        "Use `sn.diff` and other mathematical operations to set up the PINN model."
      ]
    },
    {
      "cell_type": "code",
      "execution_count": null,
      "metadata": {
        "id": "Yt1pLlw_YyXk"
      },
      "outputs": [],
      "source": [
        "u = sn.diff(Psi, y)\n",
        "v = -sn.diff(Psi, x)\n",
        "\n",
        "u_t = sn.diff(u, t)\n",
        "u_x = sn.diff(u, x)\n",
        "u_y = sn.diff(u, y)\n",
        "u_xx = sn.diff(u, x, order=2)\n",
        "u_yy = sn.diff(u, y, order=2)\n",
        "\n",
        "v_t = sn.diff(v, t)\n",
        "v_x = sn.diff(v, x)\n",
        "v_y = sn.diff(v, y)\n",
        "v_xx = sn.diff(v, x, order=2)\n",
        "v_yy = sn.diff(v, y, order=2)\n",
        "\n",
        "p_x = sn.diff(P, x)\n",
        "p_y = sn.diff(P, y)"
      ]
    },
    {
      "cell_type": "markdown",
      "metadata": {
        "id": "LPR1kqh3YyXk"
      },
      "source": [
        "Define targets (losses) using `sn.Data`, `sn.Tie`, and `sn.PDE` interfaces."
      ]
    },
    {
      "cell_type": "markdown",
      "source": [
        "The governing relations are summerized as:\n",
        "$$\n",
        "p_{x} + u_{t} + \\lambda_1 (u u_{x} + v u_{y}) - \\lambda_2 (u_{xx} + u_{yy}) = 0 \\\\\n",
        "p_{y} + v_{t} + \\lambda_1 (u v_{x} + v v_{y}) - \\lambda_2 (v_{xx} + v_{yy}) = 0\n",
        "$$\n",
        "\n"
      ],
      "metadata": {
        "id": "K8y9ZSBlYyXk"
      }
    },
    {
      "cell_type": "code",
      "execution_count": null,
      "metadata": {
        "id": "RWiTcx6sYyXk"
      },
      "outputs": [],
      "source": [
        "# Define constraints\n",
        "d1 = sn.Data(u)\n",
        "d2 = sn.Data(v)\n",
        "d3 = sn.Data(P)\n",
        "\n",
        "# tie solution of the neural network p, to the PDE residuals\n",
        "# this is the 'physics informed'part\n",
        "\n",
        "c1 = sn.Tie(-p_x,\n",
        "            u_t+lambda1*(u*u_x+v*u_y)-lambda2*(u_xx+u_yy))\n",
        "c2 = sn.Tie(-p_y,\n",
        "            v_t+lambda1*(u*v_x+v*v_y)-lambda2*(v_xx+v_yy))\n",
        "\n",
        "\n",
        "c3 = sn.Data(u_x + v_y)"
      ]
    },
    {
      "cell_type": "code",
      "execution_count": null,
      "metadata": {
        "id": "w2F1LRO9cnG_"
      },
      "outputs": [],
      "source": [
        "input_data = [x_train, y_train, t_train]"
      ]
    },
    {
      "cell_type": "code",
      "execution_count": null,
      "metadata": {
        "id": "Rqsxt8OTcnHA"
      },
      "outputs": [],
      "source": [
        "data_d1 = u_train\n",
        "data_d2 = v_train\n",
        "data_d3 = p_train\n",
        "data_c1 = 'zeros'\n",
        "data_c2 = 'zeros'\n",
        "data_c3 = 'zeros'\n",
        "data_c4 = 'zeros'\n",
        "target_data = [data_d1, data_d2, data_d3, data_c1, data_c2, data_c3, data_c4]\n",
        "\n",
        "# c1 = sn.Tie(-p_x,\n",
        "#             u_t+lambda1*(u*u_x+v*u_y)-lambda2*(u_xx+u_yy))\n",
        "# c2 = sn.Tie(-p_y,\n",
        "#             v_t+lambda1*(u*v_x+v*v_y)-lambda2*(v_xx+v_yy))\n",
        "\n",
        "\n",
        "# c3 = sn.Data(u_x + v_y)"
      ]
    },
    {
      "cell_type": "markdown",
      "metadata": {
        "id": "saTasfJecnHA"
      },
      "source": [
        "Train the model by calling `.train` function. Check the documentation at www.sciann.com for all the training options."
      ]
    },
    {
      "cell_type": "code",
      "execution_count": null,
      "metadata": {
        "colab": {
          "base_uri": "https://localhost:8080/"
        },
        "outputId": "0d631afd-839c-46b2-f5aa-0db6c0cf6c4a",
        "id": "Ir0cyAJPcnHA"
      },
      "outputs": [
        {
          "output_type": "stream",
          "name": "stdout",
          "text": [
            "\n",
            "Total samples: 5000 \n",
            "Batch size: 100 \n",
            "Total batches: 50 \n",
            "\n",
            "Epoch 1/50\n",
            "50/50 [==============================] - 37s 139ms/step - batch: 24.5000 - size: 100.0000 - loss: 0.0785 - Grad__loss: 0.0211 - mul_loss: 0.0490 - P_loss: 0.0049 - sub_2_loss: 0.0015 - sub_4_loss: 0.0020 - add_7_loss: 4.8600e-33 - mul_12_loss: 0.0000e+00 - lr: 0.0010 - time: 37.4515\n",
            "Epoch 2/50\n",
            "50/50 [==============================] - 7s 146ms/step - batch: 24.5000 - size: 100.0000 - loss: 0.0765 - Grad__loss: 0.0201 - mul_loss: 0.0485 - P_loss: 0.0046 - sub_2_loss: 0.0014 - sub_4_loss: 0.0020 - add_7_loss: 4.8590e-33 - mul_12_loss: 0.0000e+00 - lr: 0.0010 - time: 7.2960\n",
            "Epoch 3/50\n",
            "50/50 [==============================] - 7s 132ms/step - batch: 24.5000 - size: 100.0000 - loss: 0.0758 - Grad__loss: 0.0200 - mul_loss: 0.0480 - P_loss: 0.0044 - sub_2_loss: 0.0014 - sub_4_loss: 0.0019 - add_7_loss: 5.3191e-33 - mul_12_loss: 0.0000e+00 - lr: 0.0010 - time: 6.5909\n",
            "Epoch 4/50\n",
            "50/50 [==============================] - 7s 140ms/step - batch: 24.5000 - size: 100.0000 - loss: 0.0751 - Grad__loss: 0.0197 - mul_loss: 0.0477 - P_loss: 0.0043 - sub_2_loss: 0.0014 - sub_4_loss: 0.0020 - add_7_loss: 5.3683e-33 - mul_12_loss: 0.0000e+00 - lr: 0.0010 - time: 7.0664\n",
            "Epoch 5/50\n",
            "50/50 [==============================] - 7s 145ms/step - batch: 24.5000 - size: 100.0000 - loss: 0.0754 - Grad__loss: 0.0203 - mul_loss: 0.0475 - P_loss: 0.0042 - sub_2_loss: 0.0015 - sub_4_loss: 0.0019 - add_7_loss: 5.2339e-33 - mul_12_loss: 0.0000e+00 - lr: 0.0010 - time: 7.2488\n",
            "Epoch 6/50\n",
            "50/50 [==============================] - 7s 141ms/step - batch: 24.5000 - size: 100.0000 - loss: 0.0740 - Grad__loss: 0.0192 - mul_loss: 0.0471 - P_loss: 0.0043 - sub_2_loss: 0.0015 - sub_4_loss: 0.0019 - add_7_loss: 5.7753e-33 - mul_12_loss: 0.0000e+00 - lr: 0.0010 - time: 7.0275\n",
            "Epoch 7/50\n",
            "50/50 [==============================] - 7s 144ms/step - batch: 24.5000 - size: 100.0000 - loss: 0.0739 - Grad__loss: 0.0196 - mul_loss: 0.0467 - P_loss: 0.0042 - sub_2_loss: 0.0014 - sub_4_loss: 0.0019 - add_7_loss: 6.1723e-33 - mul_12_loss: 0.0000e+00 - lr: 0.0010 - time: 7.1929\n",
            "Epoch 8/50\n",
            "50/50 [==============================] - 7s 140ms/step - batch: 24.5000 - size: 100.0000 - loss: 0.0744 - Grad__loss: 0.0201 - mul_loss: 0.0467 - P_loss: 0.0042 - sub_2_loss: 0.0016 - sub_4_loss: 0.0018 - add_7_loss: 5.7951e-33 - mul_12_loss: 0.0000e+00 - lr: 0.0010 - time: 6.9949\n",
            "Epoch 9/50\n",
            "50/50 [==============================] - 9s 191ms/step - batch: 24.5000 - size: 100.0000 - loss: 0.0731 - Grad__loss: 0.0193 - mul_loss: 0.0464 - P_loss: 0.0043 - sub_2_loss: 0.0014 - sub_4_loss: 0.0018 - add_7_loss: 6.1914e-33 - mul_12_loss: 0.0000e+00 - lr: 0.0010 - time: 9.4782\n",
            "Epoch 10/50\n",
            "50/50 [==============================] - 8s 164ms/step - batch: 24.5000 - size: 100.0000 - loss: 0.0722 - Grad__loss: 0.0190 - mul_loss: 0.0459 - P_loss: 0.0041 - sub_2_loss: 0.0014 - sub_4_loss: 0.0018 - add_7_loss: 6.5241e-33 - mul_12_loss: 0.0000e+00 - lr: 0.0010 - time: 8.2600\n",
            "Epoch 11/50\n",
            "50/50 [==============================] - 6s 129ms/step - batch: 24.5000 - size: 100.0000 - loss: 0.0727 - Grad__loss: 0.0196 - mul_loss: 0.0458 - P_loss: 0.0041 - sub_2_loss: 0.0014 - sub_4_loss: 0.0018 - add_7_loss: 6.7465e-33 - mul_12_loss: 0.0000e+00 - lr: 0.0010 - time: 6.4660\n",
            "Epoch 12/50\n",
            "50/50 [==============================] - 7s 146ms/step - batch: 24.5000 - size: 100.0000 - loss: 0.0719 - Grad__loss: 0.0190 - mul_loss: 0.0455 - P_loss: 0.0042 - sub_2_loss: 0.0014 - sub_4_loss: 0.0017 - add_7_loss: 6.8836e-33 - mul_12_loss: 0.0000e+00 - lr: 0.0010 - time: 7.2891\n",
            "Epoch 13/50\n",
            "50/50 [==============================] - 7s 130ms/step - batch: 24.5000 - size: 100.0000 - loss: 0.0724 - Grad__loss: 0.0197 - mul_loss: 0.0454 - P_loss: 0.0041 - sub_2_loss: 0.0014 - sub_4_loss: 0.0018 - add_7_loss: 7.1476e-33 - mul_12_loss: 0.0000e+00 - lr: 0.0010 - time: 6.5002\n",
            "Epoch 14/50\n",
            "50/50 [==============================] - 7s 145ms/step - batch: 24.5000 - size: 100.0000 - loss: 0.0707 - Grad__loss: 0.0183 - mul_loss: 0.0452 - P_loss: 0.0040 - sub_2_loss: 0.0014 - sub_4_loss: 0.0017 - add_7_loss: 7.1766e-33 - mul_12_loss: 0.0000e+00 - lr: 0.0010 - time: 7.2540\n",
            "Epoch 15/50\n",
            "50/50 [==============================] - 7s 141ms/step - batch: 24.5000 - size: 100.0000 - loss: 0.0707 - Grad__loss: 0.0186 - mul_loss: 0.0448 - P_loss: 0.0040 - sub_2_loss: 0.0015 - sub_4_loss: 0.0018 - add_7_loss: 7.0706e-33 - mul_12_loss: 0.0000e+00 - lr: 0.0010 - time: 7.0069\n",
            "Epoch 16/50\n",
            "50/50 [==============================] - 7s 132ms/step - batch: 24.5000 - size: 100.0000 - loss: 0.0720 - Grad__loss: 0.0196 - mul_loss: 0.0450 - P_loss: 0.0042 - sub_2_loss: 0.0014 - sub_4_loss: 0.0017 - add_7_loss: 7.3314e-33 - mul_12_loss: 0.0000e+00 - lr: 0.0010 - time: 6.6793\n",
            "Epoch 17/50\n",
            "50/50 [==============================] - 7s 143ms/step - batch: 24.5000 - size: 100.0000 - loss: 0.0700 - Grad__loss: 0.0184 - mul_loss: 0.0446 - P_loss: 0.0041 - sub_2_loss: 0.0013 - sub_4_loss: 0.0017 - add_7_loss: 8.0500e-33 - mul_12_loss: 0.0000e+00 - lr: 0.0010 - time: 7.1251\n",
            "Epoch 18/50\n",
            "50/50 [==============================] - 6s 127ms/step - batch: 24.5000 - size: 100.0000 - loss: 0.0702 - Grad__loss: 0.0187 - mul_loss: 0.0445 - P_loss: 0.0040 - sub_2_loss: 0.0014 - sub_4_loss: 0.0017 - add_7_loss: 8.2288e-33 - mul_12_loss: 0.0000e+00 - lr: 0.0010 - time: 6.3791\n",
            "Epoch 19/50\n",
            "50/50 [==============================] - 7s 146ms/step - batch: 24.5000 - size: 100.0000 - loss: 0.0696 - Grad__loss: 0.0185 - mul_loss: 0.0442 - P_loss: 0.0040 - sub_2_loss: 0.0014 - sub_4_loss: 0.0016 - add_7_loss: 8.7475e-33 - mul_12_loss: 0.0000e+00 - lr: 0.0010 - time: 7.2857\n",
            "Epoch 20/50\n",
            "50/50 [==============================] - 7s 130ms/step - batch: 24.5000 - size: 100.0000 - loss: 0.0710 - Grad__loss: 0.0197 - mul_loss: 0.0442 - P_loss: 0.0041 - sub_2_loss: 0.0013 - sub_4_loss: 0.0016 - add_7_loss: 9.0006e-33 - mul_12_loss: 0.0000e+00 - lr: 0.0010 - time: 6.5039\n",
            "Epoch 21/50\n",
            "50/50 [==============================] - 7s 147ms/step - batch: 24.5000 - size: 100.0000 - loss: 0.0692 - Grad__loss: 0.0183 - mul_loss: 0.0440 - P_loss: 0.0040 - sub_2_loss: 0.0014 - sub_4_loss: 0.0016 - add_7_loss: 8.6617e-33 - mul_12_loss: 0.0000e+00 - lr: 0.0010 - time: 7.3185\n",
            "Epoch 22/50\n",
            "50/50 [==============================] - 7s 131ms/step - batch: 24.5000 - size: 100.0000 - loss: 0.0685 - Grad__loss: 0.0180 - mul_loss: 0.0436 - P_loss: 0.0039 - sub_2_loss: 0.0013 - sub_4_loss: 0.0016 - add_7_loss: 9.4157e-33 - mul_12_loss: 0.0000e+00 - lr: 0.0010 - time: 6.5443\n",
            "Epoch 23/50\n",
            "50/50 [==============================] - 7s 141ms/step - batch: 24.5000 - size: 100.0000 - loss: 0.0689 - Grad__loss: 0.0183 - mul_loss: 0.0436 - P_loss: 0.0040 - sub_2_loss: 0.0014 - sub_4_loss: 0.0016 - add_7_loss: 9.3799e-33 - mul_12_loss: 0.0000e+00 - lr: 0.0010 - time: 7.0940\n",
            "Epoch 24/50\n",
            "50/50 [==============================] - 7s 143ms/step - batch: 24.5000 - size: 100.0000 - loss: 0.0692 - Grad__loss: 0.0189 - mul_loss: 0.0434 - P_loss: 0.0041 - sub_2_loss: 0.0013 - sub_4_loss: 0.0016 - add_7_loss: 9.6754e-33 - mul_12_loss: 0.0000e+00 - lr: 0.0010 - time: 7.1420\n",
            "Epoch 25/50\n",
            "50/50 [==============================] - 7s 130ms/step - batch: 24.5000 - size: 100.0000 - loss: 0.0679 - Grad__loss: 0.0177 - mul_loss: 0.0432 - P_loss: 0.0040 - sub_2_loss: 0.0014 - sub_4_loss: 0.0016 - add_7_loss: 9.6874e-33 - mul_12_loss: 0.0000e+00 - lr: 0.0010 - time: 6.5569\n",
            "Epoch 26/50\n",
            "50/50 [==============================] - 7s 148ms/step - batch: 24.5000 - size: 100.0000 - loss: 0.0680 - Grad__loss: 0.0181 - mul_loss: 0.0431 - P_loss: 0.0039 - sub_2_loss: 0.0013 - sub_4_loss: 0.0016 - add_7_loss: 1.0173e-32 - mul_12_loss: 0.0000e+00 - lr: 0.0010 - time: 7.3852\n",
            "Epoch 27/50\n",
            "50/50 [==============================] - 6s 129ms/step - batch: 24.5000 - size: 100.0000 - loss: 0.0676 - Grad__loss: 0.0178 - mul_loss: 0.0430 - P_loss: 0.0039 - sub_2_loss: 0.0013 - sub_4_loss: 0.0016 - add_7_loss: 1.0337e-32 - mul_12_loss: 0.0000e+00 - lr: 0.0010 - time: 6.4612\n",
            "Epoch 28/50\n",
            "50/50 [==============================] - 7s 145ms/step - batch: 24.5000 - size: 100.0000 - loss: 0.0676 - Grad__loss: 0.0177 - mul_loss: 0.0430 - P_loss: 0.0039 - sub_2_loss: 0.0014 - sub_4_loss: 0.0016 - add_7_loss: 1.0714e-32 - mul_12_loss: 0.0000e+00 - lr: 0.0010 - time: 7.2406\n",
            "Epoch 29/50\n",
            "50/50 [==============================] - 7s 132ms/step - batch: 24.5000 - size: 100.0000 - loss: 0.0669 - Grad__loss: 0.0174 - mul_loss: 0.0428 - P_loss: 0.0038 - sub_2_loss: 0.0014 - sub_4_loss: 0.0015 - add_7_loss: 1.0620e-32 - mul_12_loss: 0.0000e+00 - lr: 0.0010 - time: 6.5940\n",
            "Epoch 30/50\n",
            "50/50 [==============================] - 7s 144ms/step - batch: 24.5000 - size: 100.0000 - loss: 0.0678 - Grad__loss: 0.0179 - mul_loss: 0.0431 - P_loss: 0.0039 - sub_2_loss: 0.0014 - sub_4_loss: 0.0016 - add_7_loss: 1.1663e-32 - mul_12_loss: 0.0000e+00 - lr: 0.0010 - time: 7.1622\n",
            "Epoch 31/50\n",
            "50/50 [==============================] - 7s 134ms/step - batch: 24.5000 - size: 100.0000 - loss: 0.0690 - Grad__loss: 0.0187 - mul_loss: 0.0435 - P_loss: 0.0040 - sub_2_loss: 0.0014 - sub_4_loss: 0.0015 - add_7_loss: 9.0127e-33 - mul_12_loss: 0.0000e+00 - lr: 0.0010 - time: 6.7030\n",
            "Epoch 32/50\n",
            "50/50 [==============================] - 7s 139ms/step - batch: 24.5000 - size: 100.0000 - loss: 0.0671 - Grad__loss: 0.0178 - mul_loss: 0.0426 - P_loss: 0.0040 - sub_2_loss: 0.0013 - sub_4_loss: 0.0016 - add_7_loss: 9.7723e-33 - mul_12_loss: 0.0000e+00 - lr: 0.0010 - time: 7.0220\n",
            "Epoch 33/50\n",
            "50/50 [==============================] - 7s 146ms/step - batch: 24.5000 - size: 100.0000 - loss: 0.0661 - Grad__loss: 0.0172 - mul_loss: 0.0424 - P_loss: 0.0038 - sub_2_loss: 0.0013 - sub_4_loss: 0.0015 - add_7_loss: 1.0827e-32 - mul_12_loss: 0.0000e+00 - lr: 0.0010 - time: 7.2721\n",
            "Epoch 34/50\n",
            "50/50 [==============================] - 6s 129ms/step - batch: 24.5000 - size: 100.0000 - loss: 0.0659 - Grad__loss: 0.0171 - mul_loss: 0.0423 - P_loss: 0.0038 - sub_2_loss: 0.0012 - sub_4_loss: 0.0015 - add_7_loss: 1.0525e-32 - mul_12_loss: 0.0000e+00 - lr: 0.0010 - time: 6.4731\n",
            "Epoch 35/50\n",
            "50/50 [==============================] - 7s 144ms/step - batch: 24.5000 - size: 100.0000 - loss: 0.0659 - Grad__loss: 0.0171 - mul_loss: 0.0421 - P_loss: 0.0039 - sub_2_loss: 0.0013 - sub_4_loss: 0.0015 - add_7_loss: 1.0966e-32 - mul_12_loss: 0.0000e+00 - lr: 0.0010 - time: 7.2067\n",
            "Epoch 36/50\n",
            "50/50 [==============================] - 6s 130ms/step - batch: 24.5000 - size: 100.0000 - loss: 0.0659 - Grad__loss: 0.0173 - mul_loss: 0.0422 - P_loss: 0.0038 - sub_2_loss: 0.0013 - sub_4_loss: 0.0015 - add_7_loss: 1.0656e-32 - mul_12_loss: 0.0000e+00 - lr: 0.0010 - time: 6.4893\n",
            "Epoch 37/50\n",
            "50/50 [==============================] - 7s 146ms/step - batch: 24.5000 - size: 100.0000 - loss: 0.0673 - Grad__loss: 0.0184 - mul_loss: 0.0423 - P_loss: 0.0038 - sub_2_loss: 0.0013 - sub_4_loss: 0.0015 - add_7_loss: 1.0876e-32 - mul_12_loss: 0.0000e+00 - lr: 0.0010 - time: 7.2893\n",
            "Epoch 38/50\n",
            "50/50 [==============================] - 7s 130ms/step - batch: 24.5000 - size: 100.0000 - loss: 0.0661 - Grad__loss: 0.0175 - mul_loss: 0.0419 - P_loss: 0.0040 - sub_2_loss: 0.0013 - sub_4_loss: 0.0015 - add_7_loss: 1.1500e-32 - mul_12_loss: 0.0000e+00 - lr: 0.0010 - time: 6.5066\n",
            "Epoch 39/50\n",
            "50/50 [==============================] - 7s 143ms/step - batch: 24.5000 - size: 100.0000 - loss: 0.0649 - Grad__loss: 0.0168 - mul_loss: 0.0416 - P_loss: 0.0038 - sub_2_loss: 0.0013 - sub_4_loss: 0.0015 - add_7_loss: 1.1762e-32 - mul_12_loss: 0.0000e+00 - lr: 0.0010 - time: 7.1460\n",
            "Epoch 40/50\n",
            "50/50 [==============================] - 7s 136ms/step - batch: 24.5000 - size: 100.0000 - loss: 0.0648 - Grad__loss: 0.0167 - mul_loss: 0.0415 - P_loss: 0.0038 - sub_2_loss: 0.0013 - sub_4_loss: 0.0015 - add_7_loss: 1.1279e-32 - mul_12_loss: 0.0000e+00 - lr: 0.0010 - time: 6.7708\n",
            "Epoch 41/50\n",
            "50/50 [==============================] - 7s 137ms/step - batch: 24.5000 - size: 100.0000 - loss: 0.0664 - Grad__loss: 0.0179 - mul_loss: 0.0416 - P_loss: 0.0039 - sub_2_loss: 0.0013 - sub_4_loss: 0.0016 - add_7_loss: 1.2011e-32 - mul_12_loss: 0.0000e+00 - lr: 0.0010 - time: 6.9248\n",
            "Epoch 42/50\n",
            "50/50 [==============================] - 7s 147ms/step - batch: 24.5000 - size: 100.0000 - loss: 0.0655 - Grad__loss: 0.0176 - mul_loss: 0.0414 - P_loss: 0.0038 - sub_2_loss: 0.0013 - sub_4_loss: 0.0015 - add_7_loss: 1.2648e-32 - mul_12_loss: 0.0000e+00 - lr: 0.0010 - time: 7.3301\n",
            "Epoch 43/50\n",
            "50/50 [==============================] - 7s 131ms/step - batch: 24.5000 - size: 100.0000 - loss: 0.0647 - Grad__loss: 0.0169 - mul_loss: 0.0414 - P_loss: 0.0038 - sub_2_loss: 0.0012 - sub_4_loss: 0.0015 - add_7_loss: 1.1438e-32 - mul_12_loss: 0.0000e+00 - lr: 0.0010 - time: 6.5522\n",
            "Epoch 44/50\n",
            "50/50 [==============================] - 7s 145ms/step - batch: 24.5000 - size: 100.0000 - loss: 0.0641 - Grad__loss: 0.0165 - mul_loss: 0.0413 - P_loss: 0.0036 - sub_2_loss: 0.0013 - sub_4_loss: 0.0015 - add_7_loss: 1.2314e-32 - mul_12_loss: 0.0000e+00 - lr: 0.0010 - time: 7.2219\n",
            "Epoch 45/50\n",
            "50/50 [==============================] - 7s 131ms/step - batch: 24.5000 - size: 100.0000 - loss: 0.0647 - Grad__loss: 0.0169 - mul_loss: 0.0412 - P_loss: 0.0037 - sub_2_loss: 0.0013 - sub_4_loss: 0.0014 - add_7_loss: 1.2533e-32 - mul_12_loss: 0.0000e+00 - lr: 0.0010 - time: 6.5613\n",
            "Epoch 46/50\n",
            "50/50 [==============================] - 7s 147ms/step - batch: 24.5000 - size: 100.0000 - loss: 0.0643 - Grad__loss: 0.0168 - mul_loss: 0.0411 - P_loss: 0.0038 - sub_2_loss: 0.0012 - sub_4_loss: 0.0014 - add_7_loss: 1.2893e-32 - mul_12_loss: 0.0000e+00 - lr: 0.0010 - time: 7.3346\n",
            "Epoch 47/50\n",
            "50/50 [==============================] - 7s 131ms/step - batch: 24.5000 - size: 100.0000 - loss: 0.0639 - Grad__loss: 0.0166 - mul_loss: 0.0409 - P_loss: 0.0037 - sub_2_loss: 0.0012 - sub_4_loss: 0.0014 - add_7_loss: 1.2263e-32 - mul_12_loss: 0.0000e+00 - lr: 0.0010 - time: 6.5481\n",
            "Epoch 48/50\n",
            "50/50 [==============================] - 7s 144ms/step - batch: 24.5000 - size: 100.0000 - loss: 0.0640 - Grad__loss: 0.0167 - mul_loss: 0.0409 - P_loss: 0.0037 - sub_2_loss: 0.0013 - sub_4_loss: 0.0015 - add_7_loss: 1.2558e-32 - mul_12_loss: 0.0000e+00 - lr: 0.0010 - time: 7.2465\n",
            "Epoch 49/50\n",
            "50/50 [==============================] - 7s 144ms/step - batch: 24.5000 - size: 100.0000 - loss: 0.0635 - Grad__loss: 0.0163 - mul_loss: 0.0408 - P_loss: 0.0037 - sub_2_loss: 0.0012 - sub_4_loss: 0.0014 - add_7_loss: 1.3112e-32 - mul_12_loss: 0.0000e+00 - lr: 0.0010 - time: 7.1874\n",
            "Epoch 50/50\n",
            "50/50 [==============================] - 7s 129ms/step - batch: 24.5000 - size: 100.0000 - loss: 0.0632 - Grad__loss: 0.0163 - mul_loss: 0.0406 - P_loss: 0.0036 - sub_2_loss: 0.0012 - sub_4_loss: 0.0014 - add_7_loss: 1.3499e-32 - mul_12_loss: 0.0000e+00 - lr: 0.0010 - time: 6.5076\n",
            "time taken to train: 397.34192419052124s\n"
          ]
        }
      ],
      "source": [
        "from time import time\n",
        "start = time()\n",
        "history = model.train(\n",
        "    x_true=input_data,\n",
        "    y_true=target_data,\n",
        "    epochs=50,\n",
        "    batch_size=100,\n",
        "    shuffle=True,\n",
        "    learning_rate=0.001,\n",
        "    reduce_lr_after=100,\n",
        "    stop_loss_value=1e-8,\n",
        "    verbose=1\n",
        ")\n",
        "print(\"time taken to train: {}s\".format(time()-start))\n"
      ]
    },
    {
      "cell_type": "code",
      "source": [],
      "metadata": {
        "id": "HamLLmvIcq-J"
      },
      "execution_count": null,
      "outputs": []
    }
  ],
  "metadata": {
    "kernelspec": {
      "display_name": "Python 3",
      "language": "python",
      "name": "python3"
    },
    "language_info": {
      "codemirror_mode": {
        "name": "ipython",
        "version": 3
      },
      "file_extension": ".py",
      "mimetype": "text/x-python",
      "name": "python",
      "nbconvert_exporter": "python",
      "pygments_lexer": "ipython3",
      "version": "3.7.7"
    },
    "colab": {
      "provenance": []
    },
    "accelerator": "GPU"
  },
  "nbformat": 4,
  "nbformat_minor": 0
}