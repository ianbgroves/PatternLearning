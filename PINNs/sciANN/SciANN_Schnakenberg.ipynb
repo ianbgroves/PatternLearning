{
  "cells": [
    {
      "cell_type": "code",
      "source": [
        "pip install sciann"
      ],
      "metadata": {
        "colab": {
          "base_uri": "https://localhost:8080/"
        },
        "id": "U9cHngewgUdF",
        "outputId": "873857fa-00e4-4c93-943c-3c636c455827"
      },
      "execution_count": 1,
      "outputs": [
        {
          "output_type": "stream",
          "name": "stdout",
          "text": [
            "Collecting sciann\n",
            "  Downloading SciANN-0.7.0.1-py3-none-any.whl (169 kB)\n",
            "\u001b[?25l     \u001b[90m━━━━━━━━━━━━━━━━━━━━━━━━━━━━━━━━━━━━━━━━\u001b[0m \u001b[32m0.0/169.6 kB\u001b[0m \u001b[31m?\u001b[0m eta \u001b[36m-:--:--\u001b[0m\r\u001b[2K     \u001b[90m━━━━━━━━━━━━━━━━━━━━━━━━━━━━━━━━━━━━━━━\u001b[0m \u001b[32m169.6/169.6 kB\u001b[0m \u001b[31m5.2 MB/s\u001b[0m eta \u001b[36m0:00:00\u001b[0m\n",
            "\u001b[?25hRequirement already satisfied: numpy in /usr/local/lib/python3.10/dist-packages (from sciann) (1.22.4)\n",
            "Requirement already satisfied: scipy in /usr/local/lib/python3.10/dist-packages (from sciann) (1.10.1)\n",
            "Requirement already satisfied: six in /usr/local/lib/python3.10/dist-packages (from sciann) (1.16.0)\n",
            "Requirement already satisfied: pyyaml in /usr/local/lib/python3.10/dist-packages (from sciann) (6.0)\n",
            "Requirement already satisfied: h5py in /usr/local/lib/python3.10/dist-packages (from sciann) (3.8.0)\n",
            "Requirement already satisfied: scikit-learn in /usr/local/lib/python3.10/dist-packages (from sciann) (1.2.2)\n",
            "Collecting pybtex (from sciann)\n",
            "  Downloading pybtex-0.24.0-py2.py3-none-any.whl (561 kB)\n",
            "\u001b[2K     \u001b[90m━━━━━━━━━━━━━━━━━━━━━━━━━━━━━━━━━━━━━━\u001b[0m \u001b[32m561.4/561.4 kB\u001b[0m \u001b[31m19.9 MB/s\u001b[0m eta \u001b[36m0:00:00\u001b[0m\n",
            "\u001b[?25hCollecting latexcodec>=1.0.4 (from pybtex->sciann)\n",
            "  Downloading latexcodec-2.0.1-py2.py3-none-any.whl (18 kB)\n",
            "Requirement already satisfied: joblib>=1.1.1 in /usr/local/lib/python3.10/dist-packages (from scikit-learn->sciann) (1.2.0)\n",
            "Requirement already satisfied: threadpoolctl>=2.0.0 in /usr/local/lib/python3.10/dist-packages (from scikit-learn->sciann) (3.1.0)\n",
            "Installing collected packages: latexcodec, pybtex, sciann\n",
            "Successfully installed latexcodec-2.0.1 pybtex-0.24.0 sciann-0.7.0.1\n"
          ]
        }
      ]
    },
    {
      "cell_type": "code",
      "source": [
        "!git clone https://github.com/ianbgroves/PatternLearning"
      ],
      "metadata": {
        "colab": {
          "base_uri": "https://localhost:8080/"
        },
        "id": "4zeVfxzsgZE5",
        "outputId": "dc854614-e794-4ed6-97b2-ff38462f9d9b"
      },
      "execution_count": 20,
      "outputs": [
        {
          "output_type": "stream",
          "name": "stdout",
          "text": [
            "Cloning into 'PatternLearning'...\n",
            "remote: Enumerating objects: 645, done.\u001b[K\n",
            "remote: Counting objects: 100% (33/33), done.\u001b[K\n",
            "remote: Compressing objects: 100% (28/28), done.\u001b[K\n",
            "remote: Total 645 (delta 12), reused 10 (delta 5), pack-reused 612\u001b[K\n",
            "Receiving objects: 100% (645/645), 525.79 MiB | 22.69 MiB/s, done.\n",
            "Resolving deltas: 100% (33/33), done.\n",
            "Updating files: 100% (579/579), done.\n"
          ]
        }
      ]
    },
    {
      "cell_type": "code",
      "execution_count": 3,
      "metadata": {
        "id": "moWgYKkV_JtF",
        "outputId": "b3bb1c41-8f28-41e6-fd49-093ce7418ce9",
        "colab": {
          "base_uri": "https://localhost:8080/"
        }
      },
      "outputs": [
        {
          "output_type": "stream",
          "name": "stdout",
          "text": [
            "---------------------- SCIANN 0.7.0.1 ---------------------- \n",
            "For details, check out our review paper and the documentation at: \n",
            " +  \"https://www.sciencedirect.com/science/article/pii/S0045782520307374\", \n",
            " +  \"https://arxiv.org/abs/2005.08803\", \n",
            " +  \"https://www.sciann.com\". \n",
            "\n",
            " Need support or would like to contribute, please join sciann`s slack group: \n",
            " +  \"https://join.slack.com/t/sciann/shared_invite/zt-ne1f5jlx-k_dY8RGo3ZreDXwz0f~CeA\" \n",
            " \n",
            "TensorFlow Version: 2.12.0 \n",
            "Python Version: 3.10.12 (main, Jun  7 2023, 12:45:35) [GCC 9.4.0] \n",
            "\n"
          ]
        }
      ],
      "source": [
        "import numpy as np\n",
        "import sciann as sn\n",
        "import matplotlib.pyplot as plt\n",
        "import scipy.io\n",
        "import os"
      ]
    },
    {
      "cell_type": "code",
      "source": [
        "# \".\" for Colab/VSCode, and \"..\" for GitHub\n",
        "repoPath = os.path.join(\".\", \"PINNs\")\n",
        "# repoPath = os.path.join(\"..\", \"PINNs\")\n",
        "utilsPath = os.path.join(repoPath, \"Utilities\")\n",
        "dataPath = os.path.join(repoPath, \"main\", \"Data\")\n",
        "appDataPath = os.path.join(repoPath, \"appendix\", \"Data\")\n"
      ],
      "metadata": {
        "id": "GdJzTSkTgdo8"
      },
      "execution_count": 4,
      "outputs": []
    },
    {
      "cell_type": "code",
      "source": [
        "ls"
      ],
      "metadata": {
        "colab": {
          "base_uri": "https://localhost:8080/"
        },
        "id": "FY1EGXmMgx5Q",
        "outputId": "f4bc83c3-a968-4e5a-f847-b1654ac17647"
      },
      "execution_count": 5,
      "outputs": [
        {
          "output_type": "stream",
          "name": "stdout",
          "text": [
            "\u001b[0m\u001b[01;34msample_data\u001b[0m/  \u001b[01;34msciann-applications\u001b[0m/\n"
          ]
        }
      ]
    },
    {
      "cell_type": "markdown",
      "metadata": {
        "id": "5ylNwZ8f_JtJ"
      },
      "source": [
        "# Introduction\n",
        "This is the code for the Navier-Stokes inversion problem from SciANN paper:\n",
        "+ https://arxiv.org/abs/2005.08803\n",
        "+ https://www.sciencedirect.com/science/article/pii/S0045782520307374\n",
        "\n",
        "The training data can be found in the following repository:\n",
        "+ https://github.com/maziarraissi/PINNs/tree/master/main/Data/cylinder_nektar_wake.mat"
      ]
    },
    {
      "cell_type": "code",
      "execution_count": 6,
      "metadata": {
        "id": "A8BZu1PJ_JtM"
      },
      "outputs": [],
      "source": [
        "def PrepareData(num_data=5000, random=True):\n",
        "\n",
        "    # Get data file from:\n",
        "    #         https://github.com/maziarraissi/PINNs/tree/master/main/Data/cylinder_nektar_wake.mat\n",
        "    data = scipy.io.loadmat('sciann-applications/PINNs/main/Data/cylinder_nektar_wake.mat')\n",
        "\n",
        "    U_star = data['U_star'] # N x 2 x T\n",
        "    P_star = data['p_star'] # N x T\n",
        "    t_star = data['t'] # T x 1\n",
        "    X_star = data['X_star'] # N x 2\n",
        "\n",
        "    N = X_star.shape[0]\n",
        "    T = t_star.shape[0]\n",
        "\n",
        "    # Rearrange Data\n",
        "    XX = np.tile(X_star[:,0:1], (1,T)) # N x T\n",
        "    YY = np.tile(X_star[:,1:2], (1,T)) # N x T\n",
        "    TT = np.tile(t_star, (1,N)).T # N x T\n",
        "\n",
        "    UU = U_star[:,0,:] # N x T\n",
        "    VV = U_star[:,1,:] # N x T\n",
        "    PP = P_star # N x T\n",
        "\n",
        "    # Pick random data.\n",
        "    if random:\n",
        "        idx = np.random.choice(N*T, num_data, replace=False)\n",
        "    else:\n",
        "        idx = np.arange(0, N*T)\n",
        "\n",
        "    x = XX.flatten()[idx,None] # NT x 1\n",
        "    y = YY.flatten()[idx,None] # NT x 1\n",
        "    t = TT.flatten()[idx,None] # NT x 1\n",
        "\n",
        "    u = UU.flatten()[idx,None] # NT x 1\n",
        "    v = VV.flatten()[idx,None] # NT x 1\n",
        "    p = PP.flatten()[idx,None] # NT x 1\n",
        "\n",
        "    return (x,y,t,u,v,p)"
      ]
    },
    {
      "cell_type": "code",
      "execution_count": 7,
      "metadata": {
        "id": "fgd2RvKe_JtN"
      },
      "outputs": [],
      "source": [
        "x_train, y_train, t_train, u_train, v_train, p_train = PrepareData(5000, random=True)"
      ]
    },
    {
      "cell_type": "markdown",
      "metadata": {
        "id": "2gIjA5yp_JtO"
      },
      "source": [
        "# PINN setup\n",
        "\n",
        "As discussed in the paper, the independent variables are $(x,y,t)$ and the solution variables are $(p, \\psi)$. The velocities are defined as $u=\\psi_{,y}$ and $v=-\\psi_{,x}$.\n",
        "\n",
        "The neural networks are:\n",
        "$$\n",
        "p: (x,y,t) \\rightarrow \\mathcal{N}_p(x,y,t; \\mathbf{W}, \\mathbf{b})\n",
        "\\psi: (x,y,t) \\rightarrow \\mathcal{N}_{\\psi}(x,y,t; \\mathbf{W}, \\mathbf{b})\n",
        "$$\n",
        "\n",
        "\n",
        "The governing relations are summerized as:\n",
        "$$\n",
        "u_{,t} + p_{,x} + \\lambda_1 (u u_{,x} + v u_{,y}) - \\lambda_2 (u_{,xx} + u_{,yy}) = 0 \\\\\n",
        "v_{,t} + p_{,y} + \\lambda_1 (u v_{,x} + v v_{,y}) - \\lambda_2 (v_{,xx} + v_{,yy}) = 0\n",
        "$$\n",
        "\n"
      ]
    },
    {
      "cell_type": "markdown",
      "metadata": {
        "id": "TNiCS3Tr_JtP"
      },
      "source": [
        "Define independent variables with `sn.Variable`:"
      ]
    },
    {
      "cell_type": "code",
      "execution_count": 8,
      "metadata": {
        "id": "Nsna1B8P_JtP"
      },
      "outputs": [],
      "source": [
        "x = sn.Variable(\"x\", dtype='float64')\n",
        "y = sn.Variable(\"y\", dtype='float64')\n",
        "t = sn.Variable(\"t\", dtype='float64')"
      ]
    },
    {
      "cell_type": "markdown",
      "metadata": {
        "id": "xsVPbVfF_JtQ"
      },
      "source": [
        "Define solution variables with `sn.Functional` (multi-layer neural network):"
      ]
    },
    {
      "cell_type": "code",
      "execution_count": 9,
      "metadata": {
        "id": "_zXZoIny_JtR"
      },
      "outputs": [],
      "source": [
        "P = sn.Functional(\"P\", [x, y, t], 8*[20], 'tanh')\n",
        "Psi = sn.Functional(\"Psi\", [x, y, t], 8*[20], 'tanh')"
      ]
    },
    {
      "cell_type": "markdown",
      "metadata": {
        "id": "QR-UnQK-_JtR"
      },
      "source": [
        "For inversion, define parameters using `sn.Parameter`:"
      ]
    },
    {
      "cell_type": "code",
      "execution_count": 10,
      "metadata": {
        "id": "OkDtevGa_JtS"
      },
      "outputs": [],
      "source": [
        "lambda1 = sn.Parameter(np.random.rand(), inputs=[x,y,t], name=\"lambda1\")\n",
        "lambda2 = sn.Parameter(np.random.rand(), inputs=[x,y,t], name=\"lambda2\")"
      ]
    },
    {
      "cell_type": "markdown",
      "metadata": {
        "id": "q3pH2a3p_JtS"
      },
      "source": [
        "Use `sn.diff` and other mathematical operations to set up the PINN model."
      ]
    },
    {
      "cell_type": "code",
      "execution_count": 11,
      "metadata": {
        "id": "HFUenTPa_JtT"
      },
      "outputs": [],
      "source": [
        "u = sn.diff(Psi, y)\n",
        "v = -sn.diff(Psi, x)\n",
        "\n",
        "u_t = sn.diff(u, t)\n",
        "u_x = sn.diff(u, x)\n",
        "u_y = sn.diff(u, y)\n",
        "u_xx = sn.diff(u, x, order=2)\n",
        "u_yy = sn.diff(u, y, order=2)\n",
        "\n",
        "v_t = sn.diff(v, t)\n",
        "v_x = sn.diff(v, x)\n",
        "v_y = sn.diff(v, y)\n",
        "v_xx = sn.diff(v, x, order=2)\n",
        "v_yy = sn.diff(v, y, order=2)\n",
        "\n",
        "p_x = sn.diff(P, x)\n",
        "p_y = sn.diff(P, y)"
      ]
    },
    {
      "cell_type": "markdown",
      "metadata": {
        "id": "xdkYbMxO_JtT"
      },
      "source": [
        "Define targets (losses) using `sn.Data`, `sn.Tie`, and `sn.PDE` interfaces."
      ]
    },
    {
      "cell_type": "code",
      "execution_count": 12,
      "metadata": {
        "id": "kvuHtKem_JtT"
      },
      "outputs": [],
      "source": [
        "# Define constraints\n",
        "d1 = sn.Data(u)\n",
        "d2 = sn.Data(v)\n",
        "d3 = sn.Data(P)\n",
        "\n",
        "c1 = sn.Tie(-p_x, u_t+lambda1*(u*u_x+v*u_y)-lambda2*(u_xx+u_yy))\n",
        "c2 = sn.Tie(-p_y, v_t+lambda1*(u*v_x+v*v_y)-lambda2*(v_xx+v_yy))\n",
        "c3 = sn.Data(u_x + v_y)"
      ]
    },
    {
      "cell_type": "markdown",
      "metadata": {
        "id": "C5voZ8q8_JtU"
      },
      "source": [
        "Keras <= 1.4.0 requires training on every target. Therefore, it will through an error if we do not train on $\\psi$.\n",
        "\n",
        "To resolve this error, let's add a trivial target for $\\psi$:"
      ]
    },
    {
      "cell_type": "code",
      "execution_count": 13,
      "metadata": {
        "id": "ozKtt2Md_JtU"
      },
      "outputs": [],
      "source": [
        "c4 = Psi*0.0"
      ]
    },
    {
      "cell_type": "markdown",
      "metadata": {
        "id": "kpDwMCA3_JtU"
      },
      "source": [
        "Define the optimization model with `sn.SciModel`:"
      ]
    },
    {
      "cell_type": "code",
      "execution_count": 14,
      "metadata": {
        "id": "VV3BMCyv_JtU"
      },
      "outputs": [],
      "source": [
        "# Define the optimization model (set of inputs and constraints)\n",
        "model = sn.SciModel(\n",
        "    inputs=[x, y, t],\n",
        "    targets=[d1, d2, d3, c1, c2, c3, c4],\n",
        "    loss_func=\"mse\",\n",
        "    plot_to_file='NS-Model.png'\n",
        ")"
      ]
    },
    {
      "cell_type": "markdown",
      "metadata": {
        "id": "Zn8g8LZA_JtV"
      },
      "source": [
        "The network is plotted in the NS-Model.png file.\n",
        "\n",
        "![SciModel](https://github.com/ianbgroves/sciann-applications/blob/master/SciANN-NavierStokes/NS-Model.png?raw=1)"
      ]
    },
    {
      "cell_type": "markdown",
      "metadata": {
        "id": "eUzKcAJm_JtV"
      },
      "source": [
        "Prepare the training data according to the order they are defined in `sn.SciModel`."
      ]
    },
    {
      "cell_type": "code",
      "execution_count": 15,
      "metadata": {
        "id": "I8c5KZA5_JtV"
      },
      "outputs": [],
      "source": [
        "input_data = [x_train, y_train, t_train]"
      ]
    },
    {
      "cell_type": "code",
      "execution_count": 16,
      "metadata": {
        "id": "RYdWihjE_JtV"
      },
      "outputs": [],
      "source": [
        "data_d1 = u_train\n",
        "data_d2 = v_train\n",
        "data_d3 = p_train\n",
        "data_c1 = 'zeros'\n",
        "data_c2 = 'zeros'\n",
        "data_c3 = 'zeros'\n",
        "data_c4 = 'zeros'\n",
        "target_data = [data_d1, data_d2, data_d3, data_c1, data_c2, data_c3, data_c4]"
      ]
    },
    {
      "cell_type": "markdown",
      "metadata": {
        "id": "ft3hG0yt_JtW"
      },
      "source": [
        "Train the model by calling `.train` function. Check the documentation at www.sciann.com for all the training options."
      ]
    },
    {
      "cell_type": "code",
      "execution_count": 19,
      "metadata": {
        "id": "uY8zUG0P_JtW",
        "colab": {
          "base_uri": "https://localhost:8080/"
        },
        "outputId": "d1da07a6-5177-42a4-a3bb-2203ec8a6801"
      },
      "outputs": [
        {
          "output_type": "stream",
          "name": "stdout",
          "text": [
            "\n",
            "Total samples: 5000 \n",
            "Batch size: 100 \n",
            "Total batches: 50 \n",
            "\n",
            "Epoch 1/50\n",
            "50/50 [==============================] - 9s 168ms/step - batch: 24.5000 - size: 100.0000 - loss: 0.0110 - Grad__loss: 0.0033 - mul_loss: 0.0039 - P_loss: 9.1094e-04 - sub_2_loss: 0.0016 - sub_4_loss: 0.0013 - add_7_loss: 3.0079e-32 - mul_12_loss: 0.0000e+00 - lr: 0.0010 - time: 8.5315\n",
            "Epoch 2/50\n",
            "50/50 [==============================] - 6s 125ms/step - batch: 24.5000 - size: 100.0000 - loss: 0.0105 - Grad__loss: 0.0031 - mul_loss: 0.0037 - P_loss: 8.9724e-04 - sub_2_loss: 0.0015 - sub_4_loss: 0.0013 - add_7_loss: 2.8129e-32 - mul_12_loss: 0.0000e+00 - lr: 0.0010 - time: 6.2746\n",
            "Epoch 3/50\n",
            "50/50 [==============================] - 8s 170ms/step - batch: 24.5000 - size: 100.0000 - loss: 0.0106 - Grad__loss: 0.0032 - mul_loss: 0.0037 - P_loss: 8.5929e-04 - sub_2_loss: 0.0015 - sub_4_loss: 0.0013 - add_7_loss: 2.7954e-32 - mul_12_loss: 0.0000e+00 - lr: 0.0010 - time: 8.4574\n",
            "Epoch 4/50\n",
            "50/50 [==============================] - 8s 155ms/step - batch: 24.5000 - size: 100.0000 - loss: 0.0106 - Grad__loss: 0.0031 - mul_loss: 0.0037 - P_loss: 8.5121e-04 - sub_2_loss: 0.0017 - sub_4_loss: 0.0013 - add_7_loss: 2.9052e-32 - mul_12_loss: 0.0000e+00 - lr: 0.0010 - time: 7.7637\n",
            "Epoch 5/50\n",
            "50/50 [==============================] - 6s 128ms/step - batch: 24.5000 - size: 100.0000 - loss: 0.0099 - Grad__loss: 0.0029 - mul_loss: 0.0034 - P_loss: 8.1613e-04 - sub_2_loss: 0.0016 - sub_4_loss: 0.0013 - add_7_loss: 2.8189e-32 - mul_12_loss: 0.0000e+00 - lr: 0.0010 - time: 6.3752\n",
            "Epoch 6/50\n",
            "50/50 [==============================] - 7s 142ms/step - batch: 24.5000 - size: 100.0000 - loss: 0.0106 - Grad__loss: 0.0032 - mul_loss: 0.0036 - P_loss: 8.5561e-04 - sub_2_loss: 0.0016 - sub_4_loss: 0.0013 - add_7_loss: 2.8706e-32 - mul_12_loss: 0.0000e+00 - lr: 0.0010 - time: 7.0806\n",
            "Epoch 7/50\n",
            "50/50 [==============================] - 6s 126ms/step - batch: 24.5000 - size: 100.0000 - loss: 0.0098 - Grad__loss: 0.0028 - mul_loss: 0.0035 - P_loss: 8.1863e-04 - sub_2_loss: 0.0015 - sub_4_loss: 0.0013 - add_7_loss: 2.9437e-32 - mul_12_loss: 0.0000e+00 - lr: 0.0010 - time: 6.2966\n",
            "Epoch 8/50\n",
            "50/50 [==============================] - 7s 142ms/step - batch: 24.5000 - size: 100.0000 - loss: 0.0099 - Grad__loss: 0.0029 - mul_loss: 0.0033 - P_loss: 8.4167e-04 - sub_2_loss: 0.0015 - sub_4_loss: 0.0013 - add_7_loss: 2.9895e-32 - mul_12_loss: 0.0000e+00 - lr: 0.0010 - time: 7.0703\n",
            "Epoch 9/50\n",
            "50/50 [==============================] - 6s 126ms/step - batch: 24.5000 - size: 100.0000 - loss: 0.0099 - Grad__loss: 0.0028 - mul_loss: 0.0033 - P_loss: 8.3693e-04 - sub_2_loss: 0.0016 - sub_4_loss: 0.0014 - add_7_loss: 2.8198e-32 - mul_12_loss: 0.0000e+00 - lr: 0.0010 - time: 6.3195\n",
            "Epoch 10/50\n",
            "50/50 [==============================] - 7s 141ms/step - batch: 24.5000 - size: 100.0000 - loss: 0.0120 - Grad__loss: 0.0038 - mul_loss: 0.0040 - P_loss: 8.7771e-04 - sub_2_loss: 0.0018 - sub_4_loss: 0.0016 - add_7_loss: 2.8425e-32 - mul_12_loss: 0.0000e+00 - lr: 0.0010 - time: 7.0445\n",
            "Epoch 11/50\n",
            "50/50 [==============================] - 6s 125ms/step - batch: 24.5000 - size: 100.0000 - loss: 0.0113 - Grad__loss: 0.0035 - mul_loss: 0.0037 - P_loss: 9.2141e-04 - sub_2_loss: 0.0017 - sub_4_loss: 0.0015 - add_7_loss: 2.9065e-32 - mul_12_loss: 0.0000e+00 - lr: 0.0010 - time: 6.2891\n",
            "Epoch 12/50\n",
            "50/50 [==============================] - 7s 141ms/step - batch: 24.5000 - size: 100.0000 - loss: 0.0101 - Grad__loss: 0.0030 - mul_loss: 0.0034 - P_loss: 8.3601e-04 - sub_2_loss: 0.0016 - sub_4_loss: 0.0013 - add_7_loss: 2.6969e-32 - mul_12_loss: 0.0000e+00 - lr: 0.0010 - time: 7.0269\n",
            "Epoch 13/50\n",
            "50/50 [==============================] - 7s 132ms/step - batch: 24.5000 - size: 100.0000 - loss: 0.0090 - Grad__loss: 0.0026 - mul_loss: 0.0030 - P_loss: 7.5227e-04 - sub_2_loss: 0.0014 - sub_4_loss: 0.0012 - add_7_loss: 2.8004e-32 - mul_12_loss: 0.0000e+00 - lr: 0.0010 - time: 6.5708\n",
            "Epoch 14/50\n",
            "50/50 [==============================] - 7s 136ms/step - batch: 24.5000 - size: 100.0000 - loss: 0.0092 - Grad__loss: 0.0027 - mul_loss: 0.0030 - P_loss: 7.6837e-04 - sub_2_loss: 0.0015 - sub_4_loss: 0.0012 - add_7_loss: 3.0030e-32 - mul_12_loss: 0.0000e+00 - lr: 0.0010 - time: 6.8636\n",
            "Epoch 15/50\n",
            "50/50 [==============================] - 7s 142ms/step - batch: 24.5000 - size: 100.0000 - loss: 0.0090 - Grad__loss: 0.0026 - mul_loss: 0.0030 - P_loss: 7.3525e-04 - sub_2_loss: 0.0015 - sub_4_loss: 0.0012 - add_7_loss: 2.9092e-32 - mul_12_loss: 0.0000e+00 - lr: 0.0010 - time: 7.0601\n",
            "Epoch 16/50\n",
            "50/50 [==============================] - 6s 125ms/step - batch: 24.5000 - size: 100.0000 - loss: 0.0086 - Grad__loss: 0.0025 - mul_loss: 0.0028 - P_loss: 7.4293e-04 - sub_2_loss: 0.0015 - sub_4_loss: 0.0011 - add_7_loss: 2.8398e-32 - mul_12_loss: 0.0000e+00 - lr: 0.0010 - time: 6.2686\n",
            "Epoch 17/50\n",
            "50/50 [==============================] - 7s 141ms/step - batch: 24.5000 - size: 100.0000 - loss: 0.0086 - Grad__loss: 0.0024 - mul_loss: 0.0028 - P_loss: 7.4565e-04 - sub_2_loss: 0.0015 - sub_4_loss: 0.0012 - add_7_loss: 2.9559e-32 - mul_12_loss: 0.0000e+00 - lr: 0.0010 - time: 7.0127\n",
            "Epoch 18/50\n",
            "50/50 [==============================] - 6s 126ms/step - batch: 24.5000 - size: 100.0000 - loss: 0.0095 - Grad__loss: 0.0027 - mul_loss: 0.0030 - P_loss: 7.9458e-04 - sub_2_loss: 0.0017 - sub_4_loss: 0.0013 - add_7_loss: 2.9723e-32 - mul_12_loss: 0.0000e+00 - lr: 0.0010 - time: 6.3057\n",
            "Epoch 19/50\n",
            "50/50 [==============================] - 7s 150ms/step - batch: 24.5000 - size: 100.0000 - loss: 0.0089 - Grad__loss: 0.0025 - mul_loss: 0.0029 - P_loss: 7.5714e-04 - sub_2_loss: 0.0015 - sub_4_loss: 0.0012 - add_7_loss: 2.8846e-32 - mul_12_loss: 0.0000e+00 - lr: 0.0010 - time: 7.4966\n",
            "Epoch 20/50\n",
            "50/50 [==============================] - 6s 126ms/step - batch: 24.5000 - size: 100.0000 - loss: 0.0081 - Grad__loss: 0.0022 - mul_loss: 0.0027 - P_loss: 7.1548e-04 - sub_2_loss: 0.0015 - sub_4_loss: 0.0011 - add_7_loss: 2.7929e-32 - mul_12_loss: 0.0000e+00 - lr: 0.0010 - time: 6.3288\n",
            "Epoch 21/50\n",
            "50/50 [==============================] - 8s 151ms/step - batch: 24.5000 - size: 100.0000 - loss: 0.0082 - Grad__loss: 0.0023 - mul_loss: 0.0027 - P_loss: 7.0010e-04 - sub_2_loss: 0.0014 - sub_4_loss: 0.0011 - add_7_loss: 2.7912e-32 - mul_12_loss: 0.0000e+00 - lr: 0.0010 - time: 7.5187\n",
            "Epoch 22/50\n",
            "50/50 [==============================] - 6s 126ms/step - batch: 24.5000 - size: 100.0000 - loss: 0.0082 - Grad__loss: 0.0022 - mul_loss: 0.0027 - P_loss: 6.7797e-04 - sub_2_loss: 0.0014 - sub_4_loss: 0.0012 - add_7_loss: 3.1073e-32 - mul_12_loss: 0.0000e+00 - lr: 0.0010 - time: 6.2772\n",
            "Epoch 23/50\n",
            "50/50 [==============================] - 7s 142ms/step - batch: 24.5000 - size: 100.0000 - loss: 0.0082 - Grad__loss: 0.0023 - mul_loss: 0.0027 - P_loss: 6.2924e-04 - sub_2_loss: 0.0014 - sub_4_loss: 0.0011 - add_7_loss: 2.8857e-32 - mul_12_loss: 0.0000e+00 - lr: 0.0010 - time: 7.1032\n",
            "Epoch 24/50\n",
            "50/50 [==============================] - 7s 132ms/step - batch: 24.5000 - size: 100.0000 - loss: 0.0080 - Grad__loss: 0.0022 - mul_loss: 0.0026 - P_loss: 6.7797e-04 - sub_2_loss: 0.0014 - sub_4_loss: 0.0011 - add_7_loss: 2.9178e-32 - mul_12_loss: 0.0000e+00 - lr: 0.0010 - time: 6.5911\n",
            "Epoch 25/50\n",
            "50/50 [==============================] - 7s 134ms/step - batch: 24.5000 - size: 100.0000 - loss: 0.0080 - Grad__loss: 0.0023 - mul_loss: 0.0025 - P_loss: 6.9142e-04 - sub_2_loss: 0.0014 - sub_4_loss: 0.0011 - add_7_loss: 2.8075e-32 - mul_12_loss: 0.0000e+00 - lr: 0.0010 - time: 6.7422\n",
            "Epoch 26/50\n",
            "50/50 [==============================] - 7s 142ms/step - batch: 24.5000 - size: 100.0000 - loss: 0.0078 - Grad__loss: 0.0022 - mul_loss: 0.0026 - P_loss: 6.2131e-04 - sub_2_loss: 0.0014 - sub_4_loss: 0.0010 - add_7_loss: 2.9390e-32 - mul_12_loss: 0.0000e+00 - lr: 0.0010 - time: 7.1019\n",
            "Epoch 27/50\n",
            "50/50 [==============================] - 6s 127ms/step - batch: 24.5000 - size: 100.0000 - loss: 0.0079 - Grad__loss: 0.0022 - mul_loss: 0.0026 - P_loss: 6.0839e-04 - sub_2_loss: 0.0014 - sub_4_loss: 0.0011 - add_7_loss: 2.8812e-32 - mul_12_loss: 0.0000e+00 - lr: 0.0010 - time: 6.3347\n",
            "Epoch 28/50\n",
            "50/50 [==============================] - 7s 142ms/step - batch: 24.5000 - size: 100.0000 - loss: 0.0081 - Grad__loss: 0.0023 - mul_loss: 0.0026 - P_loss: 6.2809e-04 - sub_2_loss: 0.0014 - sub_4_loss: 0.0011 - add_7_loss: 2.9158e-32 - mul_12_loss: 0.0000e+00 - lr: 0.0010 - time: 7.0866\n",
            "Epoch 29/50\n",
            "50/50 [==============================] - 6s 125ms/step - batch: 24.5000 - size: 100.0000 - loss: 0.0084 - Grad__loss: 0.0025 - mul_loss: 0.0027 - P_loss: 6.5294e-04 - sub_2_loss: 0.0014 - sub_4_loss: 0.0011 - add_7_loss: 2.9055e-32 - mul_12_loss: 0.0000e+00 - lr: 0.0010 - time: 6.2566\n",
            "Epoch 30/50\n",
            "50/50 [==============================] - 7s 138ms/step - batch: 24.5000 - size: 100.0000 - loss: 0.0079 - Grad__loss: 0.0022 - mul_loss: 0.0026 - P_loss: 6.3384e-04 - sub_2_loss: 0.0014 - sub_4_loss: 0.0011 - add_7_loss: 2.9764e-32 - mul_12_loss: 0.0000e+00 - lr: 0.0010 - time: 6.9019\n",
            "Epoch 31/50\n",
            "50/50 [==============================] - 6s 126ms/step - batch: 24.5000 - size: 100.0000 - loss: 0.0077 - Grad__loss: 0.0021 - mul_loss: 0.0025 - P_loss: 6.6393e-04 - sub_2_loss: 0.0013 - sub_4_loss: 0.0011 - add_7_loss: 2.8041e-32 - mul_12_loss: 0.0000e+00 - lr: 0.0010 - time: 6.3264\n",
            "Epoch 32/50\n",
            "50/50 [==============================] - 7s 143ms/step - batch: 24.5000 - size: 100.0000 - loss: 0.0077 - Grad__loss: 0.0021 - mul_loss: 0.0025 - P_loss: 6.4337e-04 - sub_2_loss: 0.0013 - sub_4_loss: 0.0011 - add_7_loss: 2.9016e-32 - mul_12_loss: 0.0000e+00 - lr: 0.0010 - time: 7.1375\n",
            "Epoch 33/50\n",
            "50/50 [==============================] - 6s 127ms/step - batch: 24.5000 - size: 100.0000 - loss: 0.0078 - Grad__loss: 0.0022 - mul_loss: 0.0025 - P_loss: 6.4181e-04 - sub_2_loss: 0.0014 - sub_4_loss: 0.0011 - add_7_loss: 3.0082e-32 - mul_12_loss: 0.0000e+00 - lr: 0.0010 - time: 6.3581\n",
            "Epoch 34/50\n",
            "50/50 [==============================] - 7s 140ms/step - batch: 24.5000 - size: 100.0000 - loss: 0.0077 - Grad__loss: 0.0022 - mul_loss: 0.0024 - P_loss: 6.5352e-04 - sub_2_loss: 0.0014 - sub_4_loss: 0.0011 - add_7_loss: 2.9555e-32 - mul_12_loss: 0.0000e+00 - lr: 0.0010 - time: 6.9798\n",
            "Epoch 35/50\n",
            "50/50 [==============================] - 6s 129ms/step - batch: 24.5000 - size: 100.0000 - loss: 0.0074 - Grad__loss: 0.0021 - mul_loss: 0.0023 - P_loss: 6.1755e-04 - sub_2_loss: 0.0013 - sub_4_loss: 0.0011 - add_7_loss: 3.0538e-32 - mul_12_loss: 0.0000e+00 - lr: 0.0010 - time: 6.4285\n",
            "Epoch 36/50\n",
            "50/50 [==============================] - 7s 140ms/step - batch: 24.5000 - size: 100.0000 - loss: 0.0073 - Grad__loss: 0.0020 - mul_loss: 0.0023 - P_loss: 6.0051e-04 - sub_2_loss: 0.0013 - sub_4_loss: 0.0010 - add_7_loss: 2.8474e-32 - mul_12_loss: 0.0000e+00 - lr: 0.0010 - time: 7.0492\n",
            "Epoch 37/50\n",
            "50/50 [==============================] - 7s 135ms/step - batch: 24.5000 - size: 100.0000 - loss: 0.0077 - Grad__loss: 0.0022 - mul_loss: 0.0024 - P_loss: 6.3338e-04 - sub_2_loss: 0.0014 - sub_4_loss: 0.0011 - add_7_loss: 2.9745e-32 - mul_12_loss: 0.0000e+00 - lr: 0.0010 - time: 6.7400\n",
            "Epoch 38/50\n",
            "50/50 [==============================] - 7s 131ms/step - batch: 24.5000 - size: 100.0000 - loss: 0.0075 - Grad__loss: 0.0023 - mul_loss: 0.0023 - P_loss: 5.8032e-04 - sub_2_loss: 0.0012 - sub_4_loss: 0.0011 - add_7_loss: 3.0279e-32 - mul_12_loss: 0.0000e+00 - lr: 0.0010 - time: 6.6143\n",
            "Epoch 39/50\n",
            "50/50 [==============================] - 7s 139ms/step - batch: 24.5000 - size: 100.0000 - loss: 0.0075 - Grad__loss: 0.0020 - mul_loss: 0.0024 - P_loss: 6.4219e-04 - sub_2_loss: 0.0013 - sub_4_loss: 0.0011 - add_7_loss: 2.8665e-32 - mul_12_loss: 0.0000e+00 - lr: 0.0010 - time: 6.9644\n",
            "Epoch 40/50\n",
            "50/50 [==============================] - 6s 128ms/step - batch: 24.5000 - size: 100.0000 - loss: 0.0078 - Grad__loss: 0.0022 - mul_loss: 0.0025 - P_loss: 6.3461e-04 - sub_2_loss: 0.0014 - sub_4_loss: 0.0011 - add_7_loss: 2.9574e-32 - mul_12_loss: 0.0000e+00 - lr: 0.0010 - time: 6.3880\n",
            "Epoch 41/50\n",
            "50/50 [==============================] - 7s 142ms/step - batch: 24.5000 - size: 100.0000 - loss: 0.0074 - Grad__loss: 0.0021 - mul_loss: 0.0025 - P_loss: 5.4476e-04 - sub_2_loss: 0.0013 - sub_4_loss: 0.0011 - add_7_loss: 2.9007e-32 - mul_12_loss: 0.0000e+00 - lr: 0.0010 - time: 7.0566\n",
            "Epoch 42/50\n",
            "50/50 [==============================] - 6s 127ms/step - batch: 24.5000 - size: 100.0000 - loss: 0.0067 - Grad__loss: 0.0018 - mul_loss: 0.0022 - P_loss: 5.4767e-04 - sub_2_loss: 0.0012 - sub_4_loss: 9.4042e-04 - add_7_loss: 2.9349e-32 - mul_12_loss: 0.0000e+00 - lr: 0.0010 - time: 6.3400\n",
            "Epoch 43/50\n",
            "50/50 [==============================] - 7s 140ms/step - batch: 24.5000 - size: 100.0000 - loss: 0.0071 - Grad__loss: 0.0020 - mul_loss: 0.0022 - P_loss: 6.2491e-04 - sub_2_loss: 0.0013 - sub_4_loss: 0.0010 - add_7_loss: 2.9713e-32 - mul_12_loss: 0.0000e+00 - lr: 0.0010 - time: 6.9959\n",
            "Epoch 44/50\n",
            "50/50 [==============================] - 6s 128ms/step - batch: 24.5000 - size: 100.0000 - loss: 0.0082 - Grad__loss: 0.0022 - mul_loss: 0.0024 - P_loss: 7.6065e-04 - sub_2_loss: 0.0016 - sub_4_loss: 0.0013 - add_7_loss: 2.8100e-32 - mul_12_loss: 0.0000e+00 - lr: 0.0010 - time: 6.3718\n",
            "Epoch 45/50\n",
            "50/50 [==============================] - 7s 143ms/step - batch: 24.5000 - size: 100.0000 - loss: 0.0070 - Grad__loss: 0.0020 - mul_loss: 0.0023 - P_loss: 5.4643e-04 - sub_2_loss: 0.0012 - sub_4_loss: 9.7729e-04 - add_7_loss: 2.8348e-32 - mul_12_loss: 0.0000e+00 - lr: 0.0010 - time: 7.1409\n",
            "Epoch 46/50\n",
            "50/50 [==============================] - 6s 127ms/step - batch: 24.5000 - size: 100.0000 - loss: 0.0072 - Grad__loss: 0.0020 - mul_loss: 0.0022 - P_loss: 5.6312e-04 - sub_2_loss: 0.0013 - sub_4_loss: 0.0011 - add_7_loss: 2.9683e-32 - mul_12_loss: 0.0000e+00 - lr: 0.0010 - time: 6.3428\n",
            "Epoch 47/50\n",
            "50/50 [==============================] - 7s 143ms/step - batch: 24.5000 - size: 100.0000 - loss: 0.0068 - Grad__loss: 0.0019 - mul_loss: 0.0021 - P_loss: 5.4883e-04 - sub_2_loss: 0.0012 - sub_4_loss: 9.8788e-04 - add_7_loss: 3.0001e-32 - mul_12_loss: 0.0000e+00 - lr: 0.0010 - time: 7.1170\n",
            "Epoch 48/50\n",
            "50/50 [==============================] - 7s 135ms/step - batch: 24.5000 - size: 100.0000 - loss: 0.0073 - Grad__loss: 0.0021 - mul_loss: 0.0022 - P_loss: 5.7884e-04 - sub_2_loss: 0.0013 - sub_4_loss: 0.0011 - add_7_loss: 2.9631e-32 - mul_12_loss: 0.0000e+00 - lr: 0.0010 - time: 6.7553\n",
            "Epoch 49/50\n",
            "50/50 [==============================] - 7s 136ms/step - batch: 24.5000 - size: 100.0000 - loss: 0.0074 - Grad__loss: 0.0020 - mul_loss: 0.0025 - P_loss: 5.5944e-04 - sub_2_loss: 0.0013 - sub_4_loss: 0.0011 - add_7_loss: 2.8752e-32 - mul_12_loss: 0.0000e+00 - lr: 0.0010 - time: 6.8386\n",
            "Epoch 50/50\n",
            "50/50 [==============================] - 7s 144ms/step - batch: 24.5000 - size: 100.0000 - loss: 0.0069 - Grad__loss: 0.0019 - mul_loss: 0.0022 - P_loss: 5.3200e-04 - sub_2_loss: 0.0012 - sub_4_loss: 0.0010 - add_7_loss: 2.8845e-32 - mul_12_loss: 0.0000e+00 - lr: 0.0010 - time: 7.1693\n",
            "time taken to train: 342.0122539997101s\n"
          ]
        }
      ],
      "source": [
        "from time import time\n",
        "start = time()\n",
        "history = model.train(\n",
        "    x_true=input_data,\n",
        "    y_true=target_data,\n",
        "    epochs=50,\n",
        "    batch_size=100,\n",
        "    shuffle=True,\n",
        "    learning_rate=0.001,\n",
        "    reduce_lr_after=100,\n",
        "    stop_loss_value=1e-8,\n",
        "    verbose=1\n",
        ")\n",
        "print(\"time taken to train: {}s\".format(time()-start))\n"
      ]
    },
    {
      "cell_type": "code",
      "source": [
        "model.save_weights('/content/PatternLearning/PINNs/sciANN/saved_models/trained-navier-stokes.hdf5')"
      ],
      "metadata": {
        "id": "Kb7Hzyl9lcl_"
      },
      "execution_count": 21,
      "outputs": []
    },
    {
      "cell_type": "code",
      "execution_count": 22,
      "metadata": {
        "id": "ISiH5qU4_JtW",
        "outputId": "3f48ea33-f258-43ec-a013-fbe56bf73759",
        "colab": {
          "base_uri": "https://localhost:8080/"
        }
      },
      "outputs": [
        {
          "output_type": "stream",
          "name": "stdout",
          "text": [
            "lambda1: [0.96212573],  lambda2: [0.01240732]\n"
          ]
        }
      ],
      "source": [
        "print(\"lambda1: {},  lambda2: {}\".format(lambda1.value, lambda2.value))"
      ]
    },
    {
      "cell_type": "code",
      "execution_count": 23,
      "metadata": {
        "id": "BcED7-Vs_JtX",
        "outputId": "2c7383b8-5d06-4113-e69e-64483d6db5f3",
        "colab": {
          "base_uri": "https://localhost:8080/",
          "height": 466
        }
      },
      "outputs": [
        {
          "output_type": "execute_result",
          "data": {
            "text/plain": [
              "Text(0, 0.5, 'loss')"
            ]
          },
          "metadata": {},
          "execution_count": 23
        },
        {
          "output_type": "display_data",
          "data": {
            "text/plain": [
              "<Figure size 640x480 with 1 Axes>"
            ],
            "image/png": "[encoded data removed]"
          },
          "metadata": {}
        }
      ],
      "source": [
        "plt.semilogy(history.history['loss'])\n",
        "plt.xlabel('epochs')\n",
        "plt.ylabel('loss')"
      ]
    },
    {
      "cell_type": "markdown",
      "source": [
        "## Loading the model"
      ],
      "metadata": {
        "id": "XcwjRFfsse4I"
      }
    },
    {
      "cell_type": "code",
      "source": [
        "model = sn.SciModel(inputs=[x, y, t],\n",
        "    targets=[d1, d2, d3, c1, c2, c3, c4],\n",
        "    loss_func=\"mse\",\n",
        "                    load_weights_from='/content/PatternLearning/PINNs/sciANN/saved_models/trained-navier-stokes.hdf5',\n",
        "                    plot_to_file=None)\n",
        "\n",
        "\n"
      ],
      "metadata": {
        "id": "E_gpweMlqrfU"
      },
      "execution_count": 25,
      "outputs": []
    },
    {
      "cell_type": "markdown",
      "source": [
        "# Schnakenberg"
      ],
      "metadata": {
        "id": "QQWUGEjQmJUh"
      }
    },
    {
      "cell_type": "markdown",
      "source": [
        "First load a solution to the following equations:\n",
        "\n",
        "\\begin{align}\n",
        "\\frac{\\partial u}{\\partial t} &= D_u \\nabla^2 u + \\gamma (a-u + u^2v)\\\\\n",
        "\\frac{\\partial v}{\\partial t} &= D_v \\nabla^2 v + \\gamma (b-u^2v)\n",
        "\\end{align}"
      ],
      "metadata": {
        "id": "xGcl2XgHmLsO"
      }
    },
    {
      "cell_type": "code",
      "source": [
        "import pickle as pkl\n",
        "def load_array(save_path):\n",
        "    with open(save_path, 'rb') as pickle_file:\n",
        "        saved_array = pkl.load(pickle_file)\n",
        "\n",
        "    return saved_array\n"
      ],
      "metadata": {
        "id": "HUfL2mpys8vs"
      },
      "execution_count": 27,
      "outputs": []
    },
    {
      "cell_type": "code",
      "execution_count": 30,
      "metadata": {
        "id": "GXZ4weee_JtX",
        "outputId": "9089a866-1be2-4d1c-92e5-c0c53c34bd10",
        "colab": {
          "base_uri": "https://localhost:8080/"
        }
      },
      "outputs": [
        {
          "output_type": "stream",
          "name": "stdout",
          "text": [
            "u_shape (128, 128, 200, 2)\n"
          ]
        }
      ],
      "source": [
        "u = load_array('/content/PatternLearning/Operator_search/datasets/Schnakenberg_solution.pkl')\n",
        "print(f\"u_shape {u.shape}\")\n",
        "\n",
        "dt = 0.05\n"
      ]
    },
    {
      "cell_type": "code",
      "source": [],
      "metadata": {
        "id": "L4ZU6IGVs0qI"
      },
      "execution_count": null,
      "outputs": []
    }
  ],
  "metadata": {
    "kernelspec": {
      "display_name": "Python 3",
      "language": "python",
      "name": "python3"
    },
    "language_info": {
      "codemirror_mode": {
        "name": "ipython",
        "version": 3
      },
      "file_extension": ".py",
      "mimetype": "text/x-python",
      "name": "python",
      "nbconvert_exporter": "python",
      "pygments_lexer": "ipython3",
      "version": "3.7.7"
    },
    "colab": {
      "provenance": []
    },
    "accelerator": "GPU"
  },
  "nbformat": 4,
  "nbformat_minor": 0
}