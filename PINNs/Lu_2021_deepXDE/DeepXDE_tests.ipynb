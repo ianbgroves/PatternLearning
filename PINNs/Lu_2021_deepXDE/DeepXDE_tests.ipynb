{
  "nbformat": 4,
  "nbformat_minor": 0,
  "metadata": {
    "colab": {
      "provenance": [],
      "gpuType": "T4"
    },
    "kernelspec": {
      "name": "python3",
      "display_name": "Python 3"
    },
    "language_info": {
      "name": "python"
    },
    "accelerator": "GPU"
  },
  "cells": [
    {
      "cell_type": "markdown",
      "source": [
        "# Clone for datasets, Install DeepXDE via pip"
      ],
      "metadata": {
        "id": "Lp9Gz2VC83l0"
      }
    },
    {
      "cell_type": "code",
      "source": [
        "!git clone https://github.com/lululxvi/deepxde\n",
        "!git clone https://github.com/ianbgroves/PatternLearning/"
      ],
      "metadata": {
        "colab": {
          "base_uri": "https://localhost:8080/"
        },
        "id": "Kxy11bdWDunS",
        "outputId": "a40591a7-5206-47ed-d6ba-a6ec61144a2c"
      },
      "execution_count": null,
      "outputs": [
        {
          "output_type": "stream",
          "name": "stdout",
          "text": [
            "Cloning into 'deepxde'...\n",
            "remote: Enumerating objects: 7529, done.\u001b[K\n",
            "remote: Counting objects: 100% (954/954), done.\u001b[K\n",
            "remote: Compressing objects: 100% (145/145), done.\u001b[K\n",
            "remote: Total 7529 (delta 858), reused 826 (delta 809), pack-reused 6575\u001b[K\n",
            "Receiving objects: 100% (7529/7529), 26.91 MiB | 11.31 MiB/s, done.\n",
            "Resolving deltas: 100% (5409/5409), done.\n"
          ]
        }
      ]
    },
    {
      "cell_type": "code",
      "execution_count": null,
      "metadata": {
        "colab": {
          "base_uri": "https://localhost:8080/"
        },
        "id": "2k1ukL538zdj",
        "outputId": "15b250e0-0a44-4cc7-adcf-e56be10f79c1"
      },
      "outputs": [
        {
          "output_type": "stream",
          "name": "stdout",
          "text": [
            "Looking in indexes: https://pypi.org/simple, https://us-python.pkg.dev/colab-wheels/public/simple/\n",
            "Collecting deepxde\n",
            "  Downloading DeepXDE-1.9.1-py3-none-any.whl (156 kB)\n",
            "\u001b[2K     \u001b[90m━━━━━━━━━━━━━━━━━━━━━━━━━━━━━━━━━━━━━━\u001b[0m \u001b[32m156.8/156.8 kB\u001b[0m \u001b[31m14.8 MB/s\u001b[0m eta \u001b[36m0:00:00\u001b[0m\n",
            "\u001b[?25hRequirement already satisfied: matplotlib in /usr/local/lib/python3.10/dist-packages (from deepxde) (3.7.1)\n",
            "Requirement already satisfied: numpy in /usr/local/lib/python3.10/dist-packages (from deepxde) (1.22.4)\n",
            "Requirement already satisfied: scikit-learn in /usr/local/lib/python3.10/dist-packages (from deepxde) (1.2.2)\n",
            "Collecting scikit-optimize>=0.9.0 (from deepxde)\n",
            "  Downloading scikit_optimize-0.9.0-py2.py3-none-any.whl (100 kB)\n",
            "\u001b[2K     \u001b[90m━━━━━━━━━━━━━━━━━━━━━━━━━━━━━━━━━━━━━━\u001b[0m \u001b[32m100.3/100.3 kB\u001b[0m \u001b[31m12.6 MB/s\u001b[0m eta \u001b[36m0:00:00\u001b[0m\n",
            "\u001b[?25hRequirement already satisfied: scipy in /usr/local/lib/python3.10/dist-packages (from deepxde) (1.10.1)\n",
            "Requirement already satisfied: joblib>=0.11 in /usr/local/lib/python3.10/dist-packages (from scikit-optimize>=0.9.0->deepxde) (1.2.0)\n",
            "Collecting pyaml>=16.9 (from scikit-optimize>=0.9.0->deepxde)\n",
            "  Downloading pyaml-23.5.9-py3-none-any.whl (17 kB)\n",
            "Requirement already satisfied: threadpoolctl>=2.0.0 in /usr/local/lib/python3.10/dist-packages (from scikit-learn->deepxde) (3.1.0)\n",
            "Requirement already satisfied: contourpy>=1.0.1 in /usr/local/lib/python3.10/dist-packages (from matplotlib->deepxde) (1.1.0)\n",
            "Requirement already satisfied: cycler>=0.10 in /usr/local/lib/python3.10/dist-packages (from matplotlib->deepxde) (0.11.0)\n",
            "Requirement already satisfied: fonttools>=4.22.0 in /usr/local/lib/python3.10/dist-packages (from matplotlib->deepxde) (4.40.0)\n",
            "Requirement already satisfied: kiwisolver>=1.0.1 in /usr/local/lib/python3.10/dist-packages (from matplotlib->deepxde) (1.4.4)\n",
            "Requirement already satisfied: packaging>=20.0 in /usr/local/lib/python3.10/dist-packages (from matplotlib->deepxde) (23.1)\n",
            "Requirement already satisfied: pillow>=6.2.0 in /usr/local/lib/python3.10/dist-packages (from matplotlib->deepxde) (8.4.0)\n",
            "Requirement already satisfied: pyparsing>=2.3.1 in /usr/local/lib/python3.10/dist-packages (from matplotlib->deepxde) (3.1.0)\n",
            "Requirement already satisfied: python-dateutil>=2.7 in /usr/local/lib/python3.10/dist-packages (from matplotlib->deepxde) (2.8.2)\n",
            "Requirement already satisfied: PyYAML in /usr/local/lib/python3.10/dist-packages (from pyaml>=16.9->scikit-optimize>=0.9.0->deepxde) (6.0)\n",
            "Requirement already satisfied: six>=1.5 in /usr/local/lib/python3.10/dist-packages (from python-dateutil>=2.7->matplotlib->deepxde) (1.16.0)\n",
            "Installing collected packages: pyaml, scikit-optimize, deepxde\n",
            "Successfully installed deepxde-1.9.1 pyaml-23.5.9 scikit-optimize-0.9.0\n"
          ]
        }
      ],
      "source": [
        "pip install deepxde"
      ]
    },
    {
      "cell_type": "markdown",
      "source": [
        "## Imports"
      ],
      "metadata": {
        "id": "40qd9KRf9FKo"
      }
    },
    {
      "cell_type": "code",
      "source": [
        "import deepxde as dde\n",
        "from deepxde.backend import tf\n",
        "import numpy as np"
      ],
      "metadata": {
        "id": "f6Mpqo8888n0",
        "colab": {
          "base_uri": "https://localhost:8080/"
        },
        "outputId": "82fea015-5e01-4766-cece-ad079f89a35b"
      },
      "execution_count": null,
      "outputs": [
        {
          "output_type": "stream",
          "name": "stderr",
          "text": [
            "Using backend: tensorflow.compat.v1\n",
            "Other supported backends: tensorflow, pytorch, jax, paddle.\n",
            "paddle supports more examples now and is recommended.\n",
            "WARNING:tensorflow:From /usr/local/lib/python3.10/dist-packages/tensorflow/python/compat/v2_compat.py:107: disable_resource_variables (from tensorflow.python.ops.variable_scope) is deprecated and will be removed in a future version.\n",
            "Instructions for updating:\n",
            "non-resource variables are not supported in the long term\n",
            "WARNING:tensorflow:From /usr/local/lib/python3.10/dist-packages/deepxde/nn/initializers.py:118: The name tf.keras.initializers.he_normal is deprecated. Please use tf.compat.v1.keras.initializers.he_normal instead.\n",
            "\n"
          ]
        }
      ]
    },
    {
      "cell_type": "markdown",
      "source": [
        "We begin by defining a computational geometry. We can use a built-in class Interval as follows"
      ],
      "metadata": {
        "id": "HMMmNbFp9KPW"
      }
    },
    {
      "cell_type": "code",
      "source": [
        "geom = dde.geometry.Interval(-1, 1)"
      ],
      "metadata": {
        "id": "PdZh_Qwu9HRr"
      },
      "execution_count": null,
      "outputs": []
    },
    {
      "cell_type": "markdown",
      "source": [
        "Next, we express the PDE residual of the Poisson equation\n",
        "\n",
        "The first argument to pde is the network input, i.e., the x\n",
        "-coordinate. The second argument is the network output, i.e., the solution u(x)\n",
        ", but here we use y as the name of the variable."
      ],
      "metadata": {
        "id": "JFKOMmBS9Wc3"
      }
    },
    {
      "cell_type": "markdown",
      "source": [
        "$-\\frac{{\\partial^2 y}}{{\\partial x^2}} = \\pi^2 \\sin(\\pi x)$"
      ],
      "metadata": {
        "id": "xeMdqCVj-MlL"
      }
    },
    {
      "cell_type": "code",
      "source": [
        "def pde(x, y):\n",
        "    dy_xx = dde.grad.hessian(y, x)\n",
        "    return -dy_xx - np.pi ** 2 * tf.sin(np.pi * x)"
      ],
      "metadata": {
        "id": "4TfHn5i59M8T"
      },
      "execution_count": null,
      "outputs": []
    },
    {
      "cell_type": "markdown",
      "source": [
        "Next, we consider the Dirichlet boundary condition. A simple Python function, returning a boolean, is used to define the subdomain for the Dirichlet boundary condition ({−1,1}\n",
        "). The function should return True for those points inside the subdomain and False for the points outside. In our case, the points x\n",
        " of the Dirichlet boundary condition are x=−1\n",
        " and x=1\n",
        ". (Note that because of rounding-off errors, it is often wise to use dde.utils.isclose to test whether two floating point values are equivalent.)"
      ],
      "metadata": {
        "id": "EVSU11S1-Z9H"
      }
    },
    {
      "cell_type": "code",
      "source": [
        "def boundary(x, _):\n",
        "    return dde.utils.isclose(x[0], -1) or dde.utils.isclose(x[0], 1)"
      ],
      "metadata": {
        "id": "4BzWRfNC-ZNl"
      },
      "execution_count": null,
      "outputs": []
    },
    {
      "cell_type": "markdown",
      "source": [
        "The argument x to\n",
        "\n",
        "```\n",
        "boundary()\n",
        "```\n",
        "\n",
        "is the network input and is a d\n",
        "-dim vector, where d\n",
        " is the dimension and d=1\n",
        " in this case. To facilitate the implementation of boundary, a boolean on_boundary is used as the second argument. If the point x (the first argument) is on the entire boundary of the geometry (the left and right endpoints of the interval in this case), then on_boundary is True, otherwise, on_boundary is False. Thus, we can also define boundary in a simpler way:"
      ],
      "metadata": {
        "id": "VD0miwV9R4jQ"
      }
    },
    {
      "cell_type": "code",
      "source": [
        "def func(x):\n",
        "    return 0"
      ],
      "metadata": {
        "id": "pQJrsGvITiOx"
      },
      "execution_count": null,
      "outputs": []
    },
    {
      "cell_type": "markdown",
      "source": [
        "Next, we define a function to return the value of u(x)\n",
        " for the points x\n",
        " on the boundary. In this case, it is u(x)=0\n",
        ".\n",
        "\\\n",
        "If the function value is not a constant, we can also use NumPy to compute. For example, sin(πx)\n",
        " is 0 on the boundary, and thus we can also use"
      ],
      "metadata": {
        "id": "jxLFUM3YThZs"
      }
    },
    {
      "cell_type": "code",
      "source": [
        "def func(x):\n",
        "    return np.sin(np.pi * x)"
      ],
      "metadata": {
        "id": "kzvfKpzM-wUf"
      },
      "execution_count": null,
      "outputs": []
    },
    {
      "cell_type": "markdown",
      "source": [
        "Then, the Dirichlet boundary condition is"
      ],
      "metadata": {
        "id": "HhXZFVVfURgo"
      }
    },
    {
      "cell_type": "code",
      "source": [
        "bc = dde.icbc.DirichletBC(geom, func, boundary)"
      ],
      "metadata": {
        "id": "Tb2F60ZTUSCv"
      },
      "execution_count": null,
      "outputs": []
    },
    {
      "cell_type": "markdown",
      "source": [
        "Now, we have specified the geometry, PDE residual, and Dirichlet boundary condition. We then define the PDE problem as"
      ],
      "metadata": {
        "id": "rlt7aRXwUnkS"
      }
    },
    {
      "cell_type": "code",
      "source": [
        "data = dde.data.PDE(geom,\n",
        "                    pde,\n",
        "                    bc,\n",
        "                    16, # number of collocation points sampled within the domain\n",
        "                    2, # number of boundary training data (number of boundaries perhaps?)\n",
        "                    solution=func, # reference solution (ground truth)\n",
        "                    num_test=100 #number of residual (collocation) points to test the PDE\n",
        "                    )"
      ],
      "metadata": {
        "id": "FtxgLCymUrYp"
      },
      "execution_count": null,
      "outputs": []
    },
    {
      "cell_type": "markdown",
      "source": [
        "The number 16 is the number of training residual points sampled inside the domain, and the number 2 is the number of training points sampled on the boundary. The argument solution=func is the reference solution to compute the error of our solution, and can be ignored if we don’t have a reference solution. We use 100 residual points for testing the PDE residual.\n",
        "\n",
        "Next, we choose the network. Here, we use a fully connected neural network of depth 4 (i.e., 3 hidden layers) and width 50:"
      ],
      "metadata": {
        "id": "eLTwePoeUvmZ"
      }
    },
    {
      "cell_type": "code",
      "source": [
        "layer_size = [1] + [50] * 5 + [1] # input/output shape is 1\n",
        "activation = \"tanh\"\n",
        "initializer = \"Glorot uniform\" #how the weights are initialised - this could be an important optimisation step, potential for transfer learning\n",
        "net = dde.nn.FNN(layer_size, activation, initializer)"
      ],
      "metadata": {
        "id": "yuvDkm-7VOjw"
      },
      "execution_count": null,
      "outputs": []
    },
    {
      "cell_type": "markdown",
      "source": [
        "Now, we have the PDE problem and the network. We build a Model and choose the optimizer and learning rate:"
      ],
      "metadata": {
        "id": "NYCO2jJnYL20"
      }
    },
    {
      "cell_type": "code",
      "source": [
        "model = dde.Model(data, net)\n",
        "model.compile(\"adam\", lr=0.001, metrics=[\"l2 relative error\"])"
      ],
      "metadata": {
        "colab": {
          "base_uri": "https://localhost:8080/"
        },
        "id": "3hzFKS87YDaE",
        "outputId": "40df6ea8-e7bf-48f9-a37a-7c559214bbc8"
      },
      "execution_count": null,
      "outputs": [
        {
          "output_type": "stream",
          "name": "stdout",
          "text": [
            "Compiling model...\n",
            "Building feed-forward neural network...\n"
          ]
        },
        {
          "output_type": "stream",
          "name": "stderr",
          "text": [
            "/usr/local/lib/python3.10/dist-packages/deepxde/nn/tensorflow_compat_v1/fnn.py:116: UserWarning: `tf.layers.dense` is deprecated and will be removed in a future version. Please use `tf.keras.layers.Dense` instead.\n",
            "  return tf.layers.dense(\n"
          ]
        },
        {
          "output_type": "stream",
          "name": "stdout",
          "text": [
            "'build' took 0.363281 s\n",
            "\n",
            "'compile' took 2.230316 s\n",
            "\n"
          ]
        }
      ]
    },
    {
      "cell_type": "markdown",
      "source": [
        "We also compute the L2\n",
        " relative error as a metric during training. We can also use callbacks to save the model and the movie during training, which is optional.\n"
      ],
      "metadata": {
        "id": "_iaV5Hp8VhXK"
      }
    },
    {
      "cell_type": "code",
      "source": [
        "!apt install imagemagick"
      ],
      "metadata": {
        "colab": {
          "base_uri": "https://localhost:8080/"
        },
        "id": "sPpLZpZGVqA0",
        "outputId": "d8014941-b513-4f50-c4ae-fcb49b90551f"
      },
      "execution_count": null,
      "outputs": [
        {
          "output_type": "stream",
          "name": "stdout",
          "text": [
            "Reading package lists... Done\n",
            "Building dependency tree       \n",
            "Reading state information... Done\n",
            "imagemagick is already the newest version (8:6.9.10.23+dfsg-2.1ubuntu11.7).\n",
            "0 upgraded, 0 newly installed, 0 to remove and 13 not upgraded.\n"
          ]
        }
      ]
    },
    {
      "cell_type": "code",
      "source": [
        "checkpointer = dde.callbacks.ModelCheckpoint(\n",
        "    \"model/model.ckpt\", verbose=1, save_better_only=True\n",
        ")\n",
        "# ImageMagick (https://imagemagick.org/) is required to generate the movie.\n",
        "movie = dde.callbacks.MovieDumper(\n",
        "    \"model/movie\", [-1], [1], period=100, save_spectrum=True, y_reference=func\n",
        ")"
      ],
      "metadata": {
        "id": "CQlbNqpVVtcJ"
      },
      "execution_count": null,
      "outputs": []
    },
    {
      "cell_type": "markdown",
      "source": [
        "We then train the model for 10000 iterations:"
      ],
      "metadata": {
        "id": "9koMXU2-VyuE"
      }
    },
    {
      "cell_type": "code",
      "source": [
        "losshistory, train_state = model.train(\n",
        "    iterations=10000, callbacks=[checkpointer, movie]\n",
        ")"
      ],
      "metadata": {
        "colab": {
          "base_uri": "https://localhost:8080/"
        },
        "id": "PukfaqAPVzFp",
        "outputId": "5aca6866-412c-42b7-9d1c-c84a4a974694"
      },
      "execution_count": null,
      "outputs": [
        {
          "output_type": "stream",
          "name": "stdout",
          "text": [
            "Training model...\n",
            "\n",
            "Step      Train loss              Test loss               Test metric   \n",
            "0         [4.36e+01, 4.31e-03]    [4.93e+01, 4.31e-03]    [1.04e+00]    \n",
            "Epoch 1: train loss improved from inf to 4.36e+01, saving model to model/model.ckpt-1.ckpt ...\n",
            "\n",
            "1000      [8.03e-04, 1.13e-06]    [7.10e-04, 1.13e-06]    [8.70e-04]    \n",
            "Epoch 1000: train loss improved from 4.36e+01 to 8.04e-04, saving model to model/model.ckpt-1000.ckpt ...\n",
            "\n",
            "2000      [2.18e-04, 9.60e-08]    [2.55e-04, 9.60e-08]    [2.82e-04]    \n",
            "Epoch 2000: train loss improved from 8.04e-04 to 2.18e-04, saving model to model/model.ckpt-2000.ckpt ...\n",
            "\n",
            "3000      [5.02e-03, 7.61e-04]    [3.72e-03, 7.61e-04]    [2.49e-02]    \n",
            "4000      [1.14e-03, 1.95e-04]    [9.65e-04, 1.95e-04]    [1.25e-02]    \n",
            "5000      [3.01e-04, 1.79e-05]    [1.29e-04, 1.79e-05]    [3.38e-03]    \n",
            "6000      [1.80e-04, 8.14e-07]    [1.67e-04, 8.14e-07]    [1.22e-03]    \n",
            "Epoch 6000: train loss improved from 2.18e-04 to 1.81e-04, saving model to model/model.ckpt-6000.ckpt ...\n",
            "\n",
            "7000      [7.15e-04, 1.10e-04]    [6.04e-04, 1.10e-04]    [9.30e-03]    \n",
            "8000      [8.08e-04, 1.41e-04]    [4.71e-04, 1.41e-04]    [1.11e-02]    \n",
            "9000      [5.13e-04, 6.26e-05]    [6.19e-04, 6.26e-05]    [9.35e-03]    \n",
            "10000     [1.54e-04, 1.59e-05]    [8.13e-05, 1.59e-05]    [3.18e-03]    \n",
            "Epoch 10000: train loss improved from 1.81e-04 to 1.70e-04, saving model to model/model.ckpt-10000.ckpt ...\n",
            "\n",
            "\n",
            "Saving the movie of function to model/movie_x.txt, model/movie_y.txt, model/movie_y.gif...\n",
            "Saving the movie of spectrum to model/movie_spectrum.txt, model/movie_spectrum.gif...\n",
            "\n",
            "Best model at step 10000:\n",
            "  train loss: 1.70e-04\n",
            "  test loss: 9.72e-05\n",
            "  test metric: [3.18e-03]\n",
            "\n",
            "'train' took 163.242949 s\n",
            "\n"
          ]
        }
      ]
    },
    {
      "cell_type": "markdown",
      "source": [
        "# Reaction-diffusion PDE"
      ],
      "metadata": {
        "id": "h7kE-xyPsnSX"
      }
    },
    {
      "cell_type": "markdown",
      "source": [
        "$\\frac{{\\partial y}}{{\\partial t}} = d\\frac{{\\partial^2 y}}{{\\partial x^2}} + e^{-t}\\left(3\\sin^2(x^2) + 8\\sin^3(x^3) + 15\\sin^4(x^4) + 63\\sin^8(x^8)\\right)$"
      ],
      "metadata": {
        "id": "VgnwwSCTs7Fc"
      }
    },
    {
      "cell_type": "markdown",
      "source": [
        "with initial conditions:\n",
        "\n",
        "$y(t, -\\pi) = y(t, \\pi) = 0, \\quad t \\in [0, 1]$"
      ],
      "metadata": {
        "id": "ekbHNX4qtV30"
      }
    },
    {
      "cell_type": "markdown",
      "source": [
        "We also specify the following parameters for the equation:\n",
        "\n",
        "$d=1$"
      ],
      "metadata": {
        "id": "TyEfxKOjtept"
      }
    },
    {
      "cell_type": "markdown",
      "source": [
        "The exact solution is\n",
        "\n",
        "$y(x,t) = e^{-t}(\\sin(x) + \\sin(2x^2) + \\sin(3x^3) + \\sin(4x^4) + \\sin(8x^8))$"
      ],
      "metadata": {
        "id": "wttIl-p-tjcr"
      }
    },
    {
      "cell_type": "markdown",
      "source": [
        "First, express the PDE residual:\n",
        "\n",
        "The first argument to pde is the 2 dimensional vector where the first component(x[:, 0]) is the x\n",
        "-coordinate, and the second component(x[:, 1]) is the t\n",
        "-coordinate. The second argument is the network output, i.e., the solution u(x)\n",
        ", but here we use y as the name of the variable."
      ],
      "metadata": {
        "id": "lZ56atbXuLHs"
      }
    },
    {
      "cell_type": "code",
      "source": [
        "def pde(x, y):\n",
        "    dy_t = dde.grad.jacobian(y, x, i=0, j=1)\n",
        "    dy_xx = dde.grad.hessian(y, x, i=0, j=0)\n",
        "    d = 1\n",
        "    # Backend tensorflow.compact.v1 or tensorflow\n",
        "    return (\n",
        "        dy_t\n",
        "        - d * dy_xx # diffusion component\n",
        "        - tf.exp(-x[:, 1:]) # first column presumably space, second time\n",
        "        * (\n",
        "            3 * tf.sin(2 * x[:, 0:1]) / 2\n",
        "            + 8 * tf.sin(3 * x[:, 0:1]) / 3\n",
        "            + 15 * tf.sin(4 * x[:, 0:1]) / 4\n",
        "            + 63 * tf.sin(8 * x[:, 0:1]) / 8\n",
        "        )\n",
        "    )"
      ],
      "metadata": {
        "id": "Gzy04DAusoku"
      },
      "execution_count": null,
      "outputs": []
    },
    {
      "cell_type": "markdown",
      "source": [
        "Exact solution of the PDE"
      ],
      "metadata": {
        "id": "fE-0nZcVvf1Z"
      }
    },
    {
      "cell_type": "code",
      "source": [
        "def func(x):\n",
        "    return np.exp(-x[:, 1:]) * (\n",
        "        np.sin(x[:, 0:1])\n",
        "        + np.sin(2 * x[:, 0:1]) / 2\n",
        "        + np.sin(3 * x[:, 0:1]) / 3\n",
        "        + np.sin(4 * x[:, 0:1]) / 4\n",
        "        + np.sin(8 * x[:, 0:1]) / 8\n",
        "    )"
      ],
      "metadata": {
        "id": "zTImImtvuOEG"
      },
      "execution_count": null,
      "outputs": []
    },
    {
      "cell_type": "markdown",
      "source": [
        "Define the spatial domain and timecourse\n",
        "\n",
        "Now we can define a computational geometry and time domain. We can use a built-in class Interval and TimeDomain and we combine both the domains using GeometryXTime as follows"
      ],
      "metadata": {
        "id": "VC18d2rUvmYh"
      }
    },
    {
      "cell_type": "code",
      "source": [
        "geom = dde.geometry.Interval(-1, 1)\n",
        "timedomain = dde.geometry.TimeDomain(0, 0.99)\n",
        "geomtime = dde.geometry.GeometryXTime(geom, timedomain)"
      ],
      "metadata": {
        "id": "QYu5sHhtvicY"
      },
      "execution_count": null,
      "outputs": []
    },
    {
      "cell_type": "code",
      "source": [
        "data = dde.data.TimePDE(\n",
        "    geomtime, pde, [], num_domain=320, solution=func, num_test=80000\n",
        ")"
      ],
      "metadata": {
        "colab": {
          "base_uri": "https://localhost:8080/"
        },
        "id": "agrIlfIqvtp6",
        "outputId": "a95f32e3-2364-487d-cf01-9d4a7f2b658b"
      },
      "execution_count": null,
      "outputs": [
        {
          "output_type": "stream",
          "name": "stdout",
          "text": [
            "Warning: 80000 points required, but 80197 points sampled.\n"
          ]
        }
      ]
    },
    {
      "cell_type": "markdown",
      "source": [
        "The number 320 is the number of training residual points sampled inside the domain, and the number 80000 is the number of points sampled inside the domain for testing the PDE loss.\n",
        "\n",
        "Next, we choose the network. Here, we use a fully connected neural network of depth 7 (i.e., 6 hidden layers) and width 30:"
      ],
      "metadata": {
        "id": "ntoZl0H4v1gK"
      }
    },
    {
      "cell_type": "code",
      "source": [
        "layer_size = [2] + [30] * 6 + [1]\n",
        "activation = \"tanh\"\n",
        "initializer = \"Glorot uniform\"\n",
        "net = dde.nn.FNN(layer_size, activation, initializer)"
      ],
      "metadata": {
        "id": "z5dSw0gDv2CL"
      },
      "execution_count": null,
      "outputs": []
    },
    {
      "cell_type": "markdown",
      "source": [
        "Then we construct a function that satisfies both the initial and the boundary conditions to tansform the network output. In this case,\n",
        "$t(π2−x2)y+sinx+sin2x2+sin3x3+sin4x4+sin8x8$\n",
        "\n",
        " is used. If $t=0$, the initial condition is recovered. When $x=−π$ or $π$\n",
        ", the boundary condition is recovered. Hence the initial and boundary conditions are both hard conditions."
      ],
      "metadata": {
        "id": "Qr46NuUawS92"
      }
    },
    {
      "cell_type": "code",
      "source": [
        "def output_transform(x, y):\n",
        "    return (\n",
        "        x[:, 1:2] * (np.pi ** 2 - x[:, 0:1] ** 2) * y\n",
        "        + tf.sin(x[:, 0:1])\n",
        "        + tf.sin(2 * x[:, 0:1]) / 2\n",
        "        + tf.sin(3 * x[:, 0:1]) / 3\n",
        "        + tf.sin(4 * x[:, 0:1]) / 4\n",
        "        + tf.sin(8 * x[:, 0:1]) / 8\n",
        "    )\n",
        "\n",
        "net.apply_output_transform(output_transform)"
      ],
      "metadata": {
        "id": "S7fah67twOab"
      },
      "execution_count": null,
      "outputs": []
    },
    {
      "cell_type": "markdown",
      "source": [
        "Now, we have the PDE problem and the network. We build a Model and choose the optimizer and learning rate. We then train the model for 20000 iterations."
      ],
      "metadata": {
        "id": "edCTFxPjxvBd"
      }
    },
    {
      "cell_type": "code",
      "source": [
        "checkpointer = dde.callbacks.ModelCheckpoint(\n",
        "    \"RDmodel/model.ckpt\", verbose=1, save_better_only=True\n",
        ")\n",
        "# ImageMagick (https://imagemagick.org/) is required to generate the movie.\n",
        "movie = dde.callbacks.MovieDumper(\n",
        "    \"RDmodel/movie\", [-1], [1], period=320, save_spectrum=True, y_reference=func\n",
        ")"
      ],
      "metadata": {
        "id": "A-l5c8yhykFt"
      },
      "execution_count": null,
      "outputs": []
    },
    {
      "cell_type": "code",
      "source": [
        "# model = dde.Model(data, net)\n",
        "# model.compile(\"adam\", lr=1e-3, metrics=[\"l2 relative error\"])\n",
        "# losshistory, train_state = model.train(iterations=20000, callbacks=[checkpointer, movie]\n",
        "# )\n",
        "\n",
        "model = dde.Model(data, net)\n",
        "model.compile(\"adam\", lr=1e-3, metrics=[\"l2 relative error\"])\n",
        "losshistory, train_state = model.train(iterations=20000)"
      ],
      "metadata": {
        "colab": {
          "base_uri": "https://localhost:8080/"
        },
        "id": "DfNZ3cLaxprY",
        "outputId": "05b333b1-00cb-4d39-b607-3f4ccdf7d31f"
      },
      "execution_count": null,
      "outputs": [
        {
          "output_type": "stream",
          "name": "stdout",
          "text": [
            "Compiling model...\n",
            "Building feed-forward neural network...\n",
            "'build' took 0.170913 s\n",
            "\n",
            "'compile' took 1.846076 s\n",
            "\n",
            "Training model...\n",
            "\n",
            "Step      Train loss    Test loss     Test metric   \n",
            "0         [1.08e+01]    [1.09e+01]    [1.12e+00]    \n",
            "1000      [4.01e-02]    [3.89e-02]    [5.98e-01]    \n",
            "2000      [1.15e-01]    [1.16e-01]    [4.69e-01]    \n",
            "3000      [8.77e-03]    [8.95e-03]    [3.63e-01]    \n",
            "4000      [4.96e-03]    [5.14e-03]    [2.91e-01]    \n",
            "5000      [4.94e-03]    [5.06e-03]    [2.18e-01]    \n",
            "6000      [2.87e-03]    [2.99e-03]    [1.38e-01]    \n",
            "7000      [1.23e-03]    [1.25e-03]    [8.83e-02]    \n",
            "8000      [4.25e-03]    [4.29e-03]    [6.13e-02]    \n",
            "9000      [3.76e-04]    [3.85e-04]    [4.58e-02]    \n",
            "10000     [8.22e-04]    [8.38e-04]    [4.44e-02]    \n",
            "11000     [7.90e-04]    [8.00e-04]    [3.81e-02]    \n",
            "12000     [4.51e-03]    [4.56e-03]    [2.39e-02]    \n",
            "13000     [1.61e-04]    [1.77e-04]    [3.29e-02]    \n",
            "14000     [1.31e-03]    [1.34e-03]    [2.97e-02]    \n",
            "15000     [4.66e-04]    [4.74e-04]    [2.37e-02]    \n",
            "16000     [1.69e-04]    [1.81e-04]    [2.58e-02]    \n",
            "17000     [2.22e-04]    [2.31e-04]    [2.09e-02]    \n",
            "18000     [3.80e-03]    [3.85e-03]    [2.13e-02]    \n",
            "19000     [3.65e-03]    [3.74e-03]    [3.32e-02]    \n",
            "20000     [2.70e-04]    [2.80e-04]    [1.52e-02]    \n",
            "\n",
            "Best model at step 13000:\n",
            "  train loss: 1.61e-04\n",
            "  test loss: 1.77e-04\n",
            "  test metric: [3.29e-02]\n",
            "\n",
            "'train' took 146.348795 s\n",
            "\n"
          ]
        }
      ]
    },
    {
      "cell_type": "code",
      "source": [
        "dde.saveplot(losshistory, train_state, issave=True, isplot=True)"
      ],
      "metadata": {
        "colab": {
          "base_uri": "https://localhost:8080/",
          "height": 899
        },
        "id": "-yukUNnMxyMh",
        "outputId": "85c60997-58cb-41c1-8df0-a44dcaac3e8f"
      },
      "execution_count": null,
      "outputs": [
        {
          "output_type": "stream",
          "name": "stdout",
          "text": [
            "Saving loss history to /content/loss.dat ...\n",
            "Saving training data to /content/train.dat ...\n",
            "Saving test data to /content/test.dat ...\n"
          ]
        },
        {
          "output_type": "display_data",
          "data": {
            "text/plain": [
              "<Figure size 640x480 with 1 Axes>"
            ],
            "image/png": "[encoded data removed]"
          },
          "metadata": {}
        },
        {
          "output_type": "display_data",
          "data": {
            "text/plain": [
              "<Figure size 640x480 with 1 Axes>"
            ],
            "image/png": "[encoded data removed]"
          },
          "metadata": {}
        }
      ]
    },
    {
      "cell_type": "markdown",
      "source": [
        "# Inverse problem for a 2 component reaction diffusion PDE"
      ],
      "metadata": {
        "id": "JXeCYf70HAoj"
      }
    },
    {
      "cell_type": "code",
      "source": [
        "import deepxde as dde\n",
        "import numpy as np"
      ],
      "metadata": {
        "colab": {
          "base_uri": "https://localhost:8080/"
        },
        "id": "K-rl8qjqA-fg",
        "outputId": "b7b6a03f-8d5d-4490-d7d2-d5fa5be8691c"
      },
      "execution_count": null,
      "outputs": [
        {
          "output_type": "stream",
          "name": "stdout",
          "text": [
            "No backend selected.\n",
            "Finding available backend...\n"
          ]
        },
        {
          "output_type": "stream",
          "name": "stderr",
          "text": [
            "Using backend: tensorflow.compat.v1\n",
            "Other supported backends: tensorflow, pytorch, jax, paddle.\n",
            "paddle supports more examples now and is recommended.\n",
            "WARNING:tensorflow:From /usr/local/lib/python3.10/dist-packages/tensorflow/python/compat/v2_compat.py:107: disable_resource_variables (from tensorflow.python.ops.variable_scope) is deprecated and will be removed in a future version.\n",
            "Instructions for updating:\n",
            "non-resource variables are not supported in the long term\n"
          ]
        },
        {
          "output_type": "stream",
          "name": "stdout",
          "text": [
            "Found tensorflow.compat.v1\n",
            "Setting the default backend to \"tensorflow.compat.v1\". You can change it in the ~/.deepxde/config.json file or export the DDE_BACKEND environment variable. Valid options are: tensorflow.compat.v1, tensorflow, pytorch, jax, paddle (all lowercase)\n",
            "Enable just-in-time compilation with XLA.\n",
            "\n"
          ]
        },
        {
          "output_type": "stream",
          "name": "stderr",
          "text": [
            "WARNING:tensorflow:From /usr/local/lib/python3.10/dist-packages/deepxde/nn/initializers.py:118: The name tf.keras.initializers.he_normal is deprecated. Please use tf.compat.v1.keras.initializers.he_normal instead.\n",
            "\n"
          ]
        }
      ]
    },
    {
      "cell_type": "markdown",
      "source": [
        "We will solve an inverse problem for diffusion-reaction systems for unknowns $D$\n",
        " and $kf$\n",
        ":\\\n",
        "$\n",
        "\\frac{{\\partial C_A}}{{\\partial t}} = D\\frac{{\\partial^2 C_A}}{{\\partial x^2}} - k_f C_A C_B^2, \\\\\n",
        "\\frac{{\\partial C_B}}{{\\partial t}} = D\\frac{{\\partial^2 C_B}}{{\\partial x^2}} - 2k_f C_A C_B^2$\n",
        "\n",
        "for the initial conditions $x∈[0,1]$\n",
        " and $t∈[0,10]$:\n",
        "\n",
        "$C_A(x, 0) = C_B(x, 0) = e^{-20x}$\n",
        "\n",
        "and boundary conditions:\\\n",
        "$C_A(0, t) = C_B(0, t) = 1 \\\\\n",
        "C_A(1, t) = C_B(1, t) = 0$"
      ],
      "metadata": {
        "id": "PZosv7C6H0vI"
      }
    },
    {
      "cell_type": "markdown",
      "source": [
        "Define the initial guesses of $D$ and $k_f$ as 0.05 and 1 (real values are 0.002 and 0.1)"
      ],
      "metadata": {
        "id": "pO1Vjv3POEAz"
      }
    },
    {
      "cell_type": "code",
      "source": [
        "kf = dde.Variable(0.05)\n",
        "D = dde.Variable(1.0)"
      ],
      "metadata": {
        "id": "LDJsTPPwNhVu"
      },
      "execution_count": null,
      "outputs": []
    },
    {
      "cell_type": "markdown",
      "source": [
        "We define the computational geometries by using the built-in Interval and TimeDomain classes and combining them with GeometryXTime:"
      ],
      "metadata": {
        "id": "FyVmIEnVjvfF"
      }
    },
    {
      "cell_type": "code",
      "source": [
        "geom = dde.geometry.Interval(0, 1)\n",
        "timedomain = dde.geometry.TimeDomain(0, 10)\n",
        "geomtime = dde.geometry.GeometryXTime(geom, timedomain)"
      ],
      "metadata": {
        "id": "POXodLYkYtLU"
      },
      "execution_count": null,
      "outputs": []
    },
    {
      "cell_type": "markdown",
      "source": [
        "Then define a function for the PDE system:"
      ],
      "metadata": {
        "id": "Ev4HQaK3ID-l"
      }
    },
    {
      "cell_type": "code",
      "source": [
        "def pde(x, y):\n",
        "    ca, cb = y[:, 0:1], y[:, 1:2]\n",
        "    dca_t = dde.grad.jacobian(y, x, i=0, j=1)\n",
        "    dca_xx = dde.grad.hessian(y, x, component=0, i=0, j=0)\n",
        "    dcb_t = dde.grad.jacobian(y, x, i=1, j=1)\n",
        "    dcb_xx = dde.grad.hessian(y, x, component=1, i=0, j=0)\n",
        "    eq_a = dca_t - 1e-3 * D * dca_xx + kf * ca * cb ** 2\n",
        "    eq_b = dcb_t - 1e-3 * D * dcb_xx + 2 * kf * ca * cb ** 2\n",
        "    return [eq_a, eq_b]"
      ],
      "metadata": {
        "id": "MLI5Bfo3yRug"
      },
      "execution_count": null,
      "outputs": []
    },
    {
      "cell_type": "markdown",
      "source": [
        "Here, the first parameter is: \\\\\n",
        "\n",
        "$t$\n",
        "which is a coordinate, and it is represented by the arg $x$ as. The second arg $y$ contains $C_A$\n",
        " and $C_B$. Then, we use\n",
        "\n",
        "```\n",
        "dde.grad.jacobian\n",
        "```\n",
        "and\n",
        "```\n",
        "dde.grad.hessian\n",
        "```\n",
        "to represent the desired first and second order partial derivatives.\n",
        "\n",
        "Next, we consider the Dirichlet boundary conditions:"
      ],
      "metadata": {
        "id": "fc3-PBpxj3BI"
      }
    },
    {
      "cell_type": "code",
      "source": [
        " def fun_bc(x):\n",
        "    return 1 - x[:, 0:1]"
      ],
      "metadata": {
        "id": "zKxK-s9sjxWR"
      },
      "execution_count": null,
      "outputs": []
    },
    {
      "cell_type": "code",
      "source": [
        "bc_a = dde.icbc.DirichletBC(\n",
        "    geomtime, fun_bc, lambda _, on_boundary: on_boundary, component=0\n",
        ")\n",
        "bc_b = dde.icbc.DirichletBC(\n",
        "    geomtime, fun_bc, lambda _, on_boundary: on_boundary, component=1\n",
        ")"
      ],
      "metadata": {
        "id": "uCmvH61P66vF"
      },
      "execution_count": null,
      "outputs": []
    },
    {
      "cell_type": "markdown",
      "source": [
        "And the initial conditions $x∈[0,1]$\n",
        " and $t∈[0,10]$:\n",
        "\n",
        "$C_A(x, 0) = C_B(x, 0) = e^{-20x}$"
      ],
      "metadata": {
        "id": "7rGx5yBY6lsA"
      }
    },
    {
      "cell_type": "code",
      "source": [
        "def fun_init(x):\n",
        "    return np.exp(-20 * x[:, 0:1])"
      ],
      "metadata": {
        "id": "DrNBiLQX6lOU"
      },
      "execution_count": null,
      "outputs": []
    },
    {
      "cell_type": "code",
      "source": [
        "ic1 = dde.icbc.IC(\n",
        "    geomtime, fun_init, lambda _, on_initial: on_initial, component=0\n",
        ")\n",
        "ic2 = dde.icbc.IC(\n",
        "    geomtime, fun_init, lambda _, on_initial: on_initial, component=1\n",
        ")"
      ],
      "metadata": {
        "id": "FR7TUThK6vPr"
      },
      "execution_count": null,
      "outputs": []
    },
    {
      "cell_type": "markdown",
      "source": [
        "Organising the training data"
      ],
      "metadata": {
        "id": "eKKTA-7r7B7U"
      }
    },
    {
      "cell_type": "markdown",
      "source": [
        "First define a function to load the training data, which was solved with:\n",
        "$D = 2⋅10−3,\\\\\n",
        " k_f= 0.1\n",
        "$"
      ],
      "metadata": {
        "id": "z5ElLgV1JVLq"
      }
    },
    {
      "cell_type": "code",
      "source": [
        "def gen_traindata():\n",
        "    data = np.load(\"deepxde/examples/dataset/reaction.npz\")\n",
        "    t, x, ca, cb = data[\"t\"], data[\"x\"], data[\"Ca\"], data[\"Cb\"]\n",
        "    X, T = np.meshgrid(x, t)\n",
        "    X = np.reshape(X, (-1, 1))\n",
        "    T = np.reshape(T, (-1, 1))\n",
        "    Ca = np.reshape(ca, (-1, 1))\n",
        "    Cb = np.reshape(cb, (-1, 1))\n",
        "    return np.hstack((X, T)), Ca, Cb"
      ],
      "metadata": {
        "id": "JwXhj1RCKIDv"
      },
      "execution_count": null,
      "outputs": []
    },
    {
      "cell_type": "code",
      "source": [
        "observe_x, Ca, Cb = gen_traindata()\n",
        "observe_y1 = dde.icbc.PointSetBC(observe_x, Ca, component=0)\n",
        "observe_y2 = dde.icbc.PointSetBC(observe_x, Cb, component=1)"
      ],
      "metadata": {
        "id": "xqqxwacY6-gm"
      },
      "execution_count": null,
      "outputs": []
    },
    {
      "cell_type": "markdown",
      "source": [
        "Now, we can define the TimePDE problem as follows:"
      ],
      "metadata": {
        "id": "V-DnRgJK880Y"
      }
    },
    {
      "cell_type": "code",
      "source": [
        "data = dde.data.TimePDE(\n",
        "    geomtime,\n",
        "    pde,\n",
        "    [bc_a, bc_b, ic1, ic2, observe_y1, observe_y2],\n",
        "    num_domain=2000,\n",
        "    num_boundary=100,\n",
        "    num_initial=100,\n",
        "    anchors=observe_x,\n",
        "    num_test=50000,\n",
        ")"
      ],
      "metadata": {
        "colab": {
          "base_uri": "https://localhost:8080/"
        },
        "id": "c65g4I5w7P7_",
        "outputId": "c1462ea0-5079-426c-f9fb-6d56ad523e07"
      },
      "execution_count": null,
      "outputs": [
        {
          "output_type": "stream",
          "name": "stdout",
          "text": [
            "Warning: 50000 points required, but 50055 points sampled.\n"
          ]
        }
      ]
    },
    {
      "cell_type": "markdown",
      "source": [
        "We have 2000 training residual points in the domain, 100 points on the boundary, 100 points for the initial conditions, and 50000 to test the PDE residual.\n",
        "\n",
        "```\n",
        "anchors\n",
        "```\n",
        "\n",
        "specifies the training points"
      ],
      "metadata": {
        "id": "ko-j4lH69ijn"
      }
    },
    {
      "cell_type": "markdown",
      "source": [
        "Create the network"
      ],
      "metadata": {
        "id": "e-7N_NWI90kE"
      }
    },
    {
      "cell_type": "code",
      "source": [
        "net = dde.nn.FNN([2] + [20] * 3 + [2], \"tanh\", \"Glorot uniform\")"
      ],
      "metadata": {
        "id": "irloJm9F9z8P"
      },
      "execution_count": null,
      "outputs": []
    },
    {
      "cell_type": "markdown",
      "source": [
        "This network has two inputs, one for the $t$\n",
        "-coordinate and one for the $x$\n",
        "-coordinate, and three hidden layers with 20 neurons each. The output layer has two outputs, one for $C_A$\n",
        " and one for $C_B$\n",
        ". We also choose tanh to be the activation function, and the initializer is Glorot uniform."
      ],
      "metadata": {
        "id": "kRekxiyE-CQh"
      }
    },
    {
      "cell_type": "markdown",
      "source": [
        "Now, we create the Model and specify the optimizer, learning rate, and external_trainable_variables. We also output the values of $D$\n",
        " and $k_f$\n",
        " every 1000 iterations."
      ],
      "metadata": {
        "id": "LqxM4ncA-Ia8"
      }
    },
    {
      "cell_type": "code",
      "source": [
        "model = dde.Model(data, net)\n",
        "model.compile(\"adam\", lr=0.001, external_trainable_variables=[kf, D])\n",
        "variable = dde.callbacks.VariableValue([kf, D], period=1000, filename=\"variables.dat\")"
      ],
      "metadata": {
        "colab": {
          "base_uri": "https://localhost:8080/"
        },
        "id": "op9K0BVl9f1V",
        "outputId": "6c5ebb80-8367-4fa6-a987-b1b0c46cbbdf"
      },
      "execution_count": null,
      "outputs": [
        {
          "output_type": "stream",
          "name": "stdout",
          "text": [
            "Compiling model...\n",
            "Warning: For the backend tensorflow.compat.v1, `external_trainable_variables` is ignored, and all trainable ``tf.Variable`` objects are automatically collected.\n",
            "Building feed-forward neural network...\n",
            "'build' took 0.059345 s\n",
            "\n"
          ]
        },
        {
          "output_type": "stream",
          "name": "stderr",
          "text": [
            "/usr/local/lib/python3.10/dist-packages/deepxde/nn/tensorflow_compat_v1/fnn.py:116: UserWarning: `tf.layers.dense` is deprecated and will be removed in a future version. Please use `tf.keras.layers.Dense` instead.\n",
            "  return tf.layers.dense(\n"
          ]
        },
        {
          "output_type": "stream",
          "name": "stdout",
          "text": [
            "'compile' took 4.262584 s\n",
            "\n"
          ]
        }
      ]
    },
    {
      "cell_type": "markdown",
      "source": [
        "Train the network (80000 epochs)"
      ],
      "metadata": {
        "id": "Wrl6DuND-POe"
      }
    },
    {
      "cell_type": "code",
      "source": [
        "losshistory, train_state = model.train(iterations=80000, callbacks=[variable])\n",
        "dde.saveplot(losshistory, train_state, issave=True, isplot=True)"
      ],
      "metadata": {
        "colab": {
          "base_uri": "https://localhost:8080/",
          "height": 1000
        },
        "id": "zLvWES5L-Mzz",
        "outputId": "beade41e-ad64-40e5-b24e-681979ca1677"
      },
      "execution_count": null,
      "outputs": [
        {
          "output_type": "stream",
          "name": "stdout",
          "text": [
            "Training model...\n",
            "\n",
            "Step      Train loss                                                                          Test loss                                                                           Test metric\n",
            "0         [3.24e-02, 3.40e-03, 2.28e+00, 5.82e-01, 2.73e-02, 4.46e-02, 1.22e+00, 1.10e-01]    [3.15e-02, 3.38e-03, 2.28e+00, 5.82e-01, 2.73e-02, 4.46e-02, 1.22e+00, 1.10e-01]    []  \n",
            "1000      [4.52e-04, 3.27e-04, 1.14e-03, 7.81e-04, 1.93e-03, 1.44e-03, 3.83e-04, 2.82e-04]    [3.59e-04, 2.52e-04, 1.14e-03, 7.81e-04, 1.93e-03, 1.44e-03, 3.83e-04, 2.82e-04]    []  \n",
            "2000      [1.28e-04, 8.28e-05, 2.74e-04, 1.78e-04, 4.61e-04, 2.63e-04, 1.55e-04, 1.58e-04]    [9.35e-05, 6.14e-05, 2.74e-04, 1.78e-04, 4.61e-04, 2.63e-04, 1.55e-04, 1.58e-04]    []  \n",
            "3000      [5.34e-05, 6.15e-05, 8.49e-05, 5.16e-05, 1.54e-04, 6.51e-05, 2.88e-05, 5.83e-05]    [4.09e-05, 5.04e-05, 8.49e-05, 5.16e-05, 1.54e-04, 6.51e-05, 2.88e-05, 5.83e-05]    []  \n",
            "4000      [4.35e-05, 6.56e-05, 3.12e-05, 1.53e-05, 5.35e-05, 2.09e-05, 1.09e-05, 2.32e-05]    [3.79e-05, 5.42e-05, 3.12e-05, 1.53e-05, 5.35e-05, 2.09e-05, 1.09e-05, 2.32e-05]    []  \n",
            "5000      [3.76e-05, 5.95e-05, 1.75e-05, 8.72e-06, 2.90e-05, 1.08e-05, 7.86e-06, 1.28e-05]    [3.36e-05, 4.67e-05, 1.75e-05, 8.72e-06, 2.90e-05, 1.08e-05, 7.86e-06, 1.28e-05]    []  \n",
            "6000      [2.90e-05, 4.92e-05, 1.29e-05, 7.11e-06, 2.23e-05, 7.92e-06, 6.31e-06, 9.63e-06]    [2.58e-05, 3.66e-05, 1.29e-05, 7.11e-06, 2.23e-05, 7.92e-06, 6.31e-06, 9.63e-06]    []  \n",
            "7000      [2.19e-05, 3.97e-05, 1.01e-05, 6.16e-06, 1.93e-05, 6.76e-06, 5.16e-06, 8.21e-06]    [1.95e-05, 2.81e-05, 1.01e-05, 6.16e-06, 1.93e-05, 6.76e-06, 5.16e-06, 8.21e-06]    []  \n",
            "8000      [1.67e-05, 3.22e-05, 1.20e-05, 6.52e-06, 1.90e-05, 6.25e-06, 6.41e-06, 1.02e-05]    [1.49e-05, 2.13e-05, 1.20e-05, 6.52e-06, 1.90e-05, 6.25e-06, 6.41e-06, 1.02e-05]    []  \n",
            "9000      [1.37e-05, 2.68e-05, 6.28e-06, 6.11e-06, 1.47e-05, 5.45e-06, 3.45e-06, 5.56e-06]    [1.23e-05, 1.72e-05, 6.28e-06, 6.11e-06, 1.47e-05, 5.45e-06, 3.45e-06, 5.56e-06]    []  \n",
            "10000     [1.10e-05, 2.20e-05, 2.27e-05, 1.90e-05, 1.61e-05, 5.32e-06, 1.10e-05, 5.12e-06]    [9.64e-06, 1.40e-05, 2.27e-05, 1.90e-05, 1.61e-05, 5.32e-06, 1.10e-05, 5.12e-06]    []  \n",
            "11000     [8.80e-06, 1.90e-05, 9.63e-06, 8.73e-06, 1.87e-05, 8.00e-06, 9.49e-06, 6.55e-06]    [7.53e-06, 1.14e-05, 9.63e-06, 8.73e-06, 1.87e-05, 8.00e-06, 9.49e-06, 6.55e-06]    []  \n",
            "12000     [6.81e-06, 1.54e-05, 3.24e-06, 3.09e-06, 9.14e-06, 3.75e-06, 1.76e-06, 2.45e-06]    [5.41e-06, 9.10e-06, 3.24e-06, 3.09e-06, 9.14e-06, 3.75e-06, 1.76e-06, 2.45e-06]    []  \n",
            "13000     [5.30e-06, 1.18e-05, 2.84e-06, 2.72e-06, 7.78e-06, 3.44e-06, 1.55e-06, 1.63e-06]    [3.89e-06, 7.00e-06, 2.84e-06, 2.72e-06, 7.78e-06, 3.44e-06, 1.55e-06, 1.63e-06]    []  \n",
            "14000     [4.58e-06, 9.22e-06, 2.64e-05, 3.15e-05, 1.19e-05, 7.56e-06, 1.13e-05, 1.10e-05]    [3.25e-06, 5.02e-06, 2.64e-05, 3.15e-05, 1.19e-05, 7.56e-06, 1.13e-05, 1.10e-05]    []  \n",
            "15000     [3.72e-06, 6.89e-06, 2.12e-06, 2.08e-06, 5.90e-06, 3.25e-06, 1.24e-06, 1.09e-06]    [2.68e-06, 4.00e-06, 2.12e-06, 2.08e-06, 5.90e-06, 3.25e-06, 1.24e-06, 1.09e-06]    []  \n",
            "16000     [3.36e-06, 5.72e-06, 1.90e-06, 1.92e-06, 5.26e-06, 3.17e-06, 1.09e-06, 9.69e-07]    [2.44e-06, 3.29e-06, 1.90e-06, 1.92e-06, 5.26e-06, 3.17e-06, 1.09e-06, 9.69e-07]    []  \n",
            "17000     [3.09e-06, 4.95e-06, 1.71e-06, 1.78e-06, 4.74e-06, 3.03e-06, 9.41e-07, 8.78e-07]    [2.24e-06, 2.82e-06, 1.71e-06, 1.78e-06, 4.74e-06, 3.03e-06, 9.41e-07, 8.78e-07]    []  \n",
            "18000     [2.87e-06, 4.37e-06, 1.54e-06, 1.69e-06, 4.35e-06, 2.88e-06, 8.44e-07, 8.65e-07]    [2.07e-06, 2.49e-06, 1.54e-06, 1.69e-06, 4.35e-06, 2.88e-06, 8.44e-07, 8.65e-07]    []  \n",
            "19000     [2.68e-06, 3.97e-06, 1.42e-06, 1.57e-06, 3.90e-06, 2.70e-06, 7.43e-07, 7.23e-07]    [1.92e-06, 2.25e-06, 1.42e-06, 1.57e-06, 3.90e-06, 2.70e-06, 7.43e-07, 7.23e-07]    []  \n",
            "20000     [2.52e-06, 3.63e-06, 1.31e-06, 1.44e-06, 3.64e-06, 2.50e-06, 6.52e-07, 6.81e-07]    [1.80e-06, 2.06e-06, 1.31e-06, 1.44e-06, 3.64e-06, 2.50e-06, 6.52e-07, 6.81e-07]    []  \n",
            "21000     [2.40e-06, 3.37e-06, 1.16e-06, 1.33e-06, 3.27e-06, 2.33e-06, 5.31e-07, 6.06e-07]    [1.68e-06, 1.90e-06, 1.16e-06, 1.33e-06, 3.27e-06, 2.33e-06, 5.31e-07, 6.06e-07]    []  \n",
            "22000     [2.27e-06, 3.11e-06, 1.07e-06, 1.24e-06, 3.01e-06, 2.17e-06, 4.47e-07, 5.52e-07]    [1.58e-06, 1.74e-06, 1.07e-06, 1.24e-06, 3.01e-06, 2.17e-06, 4.47e-07, 5.52e-07]    []  \n",
            "23000     [2.14e-06, 2.85e-06, 1.03e-06, 1.31e-06, 2.79e-06, 2.14e-06, 4.47e-07, 5.51e-07]    [1.49e-06, 1.61e-06, 1.03e-06, 1.31e-06, 2.79e-06, 2.14e-06, 4.47e-07, 5.51e-07]    []  \n",
            "24000     [2.03e-06, 2.63e-06, 9.31e-07, 1.12e-06, 2.56e-06, 1.93e-06, 3.27e-07, 4.99e-07]    [1.40e-06, 1.47e-06, 9.31e-07, 1.12e-06, 2.56e-06, 1.93e-06, 3.27e-07, 4.99e-07]    []  \n",
            "25000     [1.86e-06, 2.46e-06, 3.55e-06, 3.70e-06, 3.13e-06, 2.21e-06, 1.47e-06, 1.13e-06]    [1.34e-06, 1.36e-06, 3.55e-06, 3.70e-06, 3.13e-06, 2.21e-06, 1.47e-06, 1.13e-06]    []  \n",
            "26000     [1.78e-06, 2.27e-06, 8.15e-06, 6.15e-06, 4.45e-06, 2.22e-06, 3.56e-06, 1.45e-06]    [1.24e-06, 1.33e-06, 8.15e-06, 6.15e-06, 4.45e-06, 2.22e-06, 3.56e-06, 1.45e-06]    []  \n",
            "27000     [1.67e-06, 2.18e-06, 8.31e-06, 9.62e-06, 3.76e-06, 2.99e-06, 3.10e-06, 2.82e-06]    [1.19e-06, 1.09e-06, 8.31e-06, 9.62e-06, 3.76e-06, 2.99e-06, 3.10e-06, 2.82e-06]    []  \n",
            "28000     [1.54e-06, 1.87e-06, 7.74e-07, 1.08e-06, 1.89e-06, 1.60e-06, 1.76e-07, 3.60e-07]    [1.04e-06, 9.34e-07, 7.74e-07, 1.08e-06, 1.89e-06, 1.60e-06, 1.76e-07, 3.60e-07]    []  \n",
            "29000     [1.44e-06, 1.73e-06, 6.85e-07, 7.63e-07, 1.75e-06, 1.41e-06, 1.36e-07, 2.44e-07]    [9.53e-07, 8.38e-07, 6.85e-07, 7.63e-07, 1.75e-06, 1.41e-06, 1.36e-07, 2.44e-07]    []  \n",
            "30000     [1.35e-06, 1.61e-06, 6.52e-07, 7.13e-07, 1.62e-06, 1.32e-06, 1.19e-07, 2.11e-07]    [8.87e-07, 7.58e-07, 6.52e-07, 7.13e-07, 1.62e-06, 1.32e-06, 1.19e-07, 2.11e-07]    []  \n",
            "31000     [1.28e-06, 1.50e-06, 6.28e-07, 6.70e-07, 1.50e-06, 1.24e-06, 1.07e-07, 1.81e-07]    [8.32e-07, 6.94e-07, 6.28e-07, 6.70e-07, 1.50e-06, 1.24e-06, 1.07e-07, 1.81e-07]    []  \n",
            "32000     [1.22e-06, 1.41e-06, 6.05e-07, 6.33e-07, 1.39e-06, 1.16e-06, 1.05e-07, 1.64e-07]    [7.88e-07, 6.44e-07, 6.05e-07, 6.33e-07, 1.39e-06, 1.16e-06, 1.05e-07, 1.64e-07]    []  \n",
            "33000     [1.28e-06, 1.36e-06, 3.73e-06, 2.74e-06, 2.62e-06, 1.27e-06, 2.38e-06, 1.01e-06]    [8.94e-07, 6.11e-07, 3.73e-06, 2.74e-06, 2.62e-06, 1.27e-06, 2.38e-06, 1.01e-06]    []  \n",
            "34000     [1.12e-06, 1.25e-06, 6.79e-07, 1.03e-06, 1.21e-06, 1.21e-06, 1.31e-07, 3.61e-07]    [7.28e-07, 5.59e-07, 6.79e-07, 1.03e-06, 1.21e-06, 1.21e-06, 1.31e-07, 3.61e-07]    []  \n",
            "35000     [1.08e-06, 1.19e-06, 5.44e-07, 5.42e-07, 1.12e-06, 9.56e-07, 9.79e-08, 1.37e-07]    [6.89e-07, 5.46e-07, 5.44e-07, 5.42e-07, 1.12e-06, 9.56e-07, 9.79e-08, 1.37e-07]    []  \n",
            "36000     [1.20e-06, 1.44e-06, 2.06e-05, 2.19e-05, 5.88e-06, 3.90e-06, 8.34e-06, 6.61e-06]    [8.21e-07, 6.62e-07, 2.06e-05, 2.19e-05, 5.88e-06, 3.90e-06, 8.34e-06, 6.61e-06]    []  \n",
            "37000     [1.11e-06, 1.24e-06, 1.24e-05, 1.27e-05, 4.03e-06, 2.48e-06, 5.14e-06, 3.72e-06]    [7.42e-07, 5.61e-07, 1.24e-05, 1.27e-05, 4.03e-06, 2.48e-06, 5.14e-06, 3.72e-06]    []  \n",
            "38000     [9.91e-07, 1.02e-06, 1.78e-06, 8.08e-07, 2.37e-06, 1.37e-06, 1.48e-06, 7.03e-07]    [6.24e-07, 4.78e-07, 1.78e-06, 8.08e-07, 2.37e-06, 1.37e-06, 1.48e-06, 7.03e-07]    []  \n",
            "39000     [9.66e-07, 9.67e-07, 4.79e-07, 4.23e-07, 8.89e-07, 7.68e-07, 1.01e-07, 9.09e-08]    [6.07e-07, 4.69e-07, 4.79e-07, 4.23e-07, 8.89e-07, 7.68e-07, 1.01e-07, 9.09e-08]    []  \n",
            "40000     [9.52e-07, 9.34e-07, 4.94e-07, 4.27e-07, 8.87e-07, 7.56e-07, 1.34e-07, 1.07e-07]    [5.91e-07, 4.46e-07, 4.94e-07, 4.27e-07, 8.87e-07, 7.56e-07, 1.34e-07, 1.07e-07]    []  \n",
            "41000     [9.32e-07, 8.94e-07, 4.61e-07, 3.83e-07, 8.12e-07, 6.93e-07, 1.07e-07, 8.21e-08]    [5.77e-07, 4.36e-07, 4.61e-07, 3.83e-07, 8.12e-07, 6.93e-07, 1.07e-07, 8.21e-08]    []  \n",
            "42000     [9.10e-07, 8.57e-07, 4.33e-07, 3.63e-07, 7.66e-07, 6.60e-07, 8.86e-08, 7.88e-08]    [5.63e-07, 4.20e-07, 4.33e-07, 3.63e-07, 7.66e-07, 6.60e-07, 8.86e-08, 7.88e-08]    []  \n",
            "43000     [8.92e-07, 8.26e-07, 4.40e-07, 3.77e-07, 7.39e-07, 6.39e-07, 9.61e-08, 9.05e-08]    [5.50e-07, 4.12e-07, 4.40e-07, 3.77e-07, 7.39e-07, 6.39e-07, 9.61e-08, 9.05e-08]    []  \n",
            "44000     [8.91e-07, 8.02e-07, 9.05e-07, 1.20e-06, 7.49e-07, 7.63e-07, 2.66e-07, 3.51e-07]    [5.55e-07, 3.91e-07, 9.05e-07, 1.20e-06, 7.49e-07, 7.63e-07, 2.66e-07, 3.51e-07]    []  \n",
            "45000     [8.54e-07, 7.80e-07, 8.10e-07, 1.69e-06, 6.88e-07, 1.08e-06, 1.60e-07, 7.90e-07]    [5.22e-07, 4.08e-07, 8.10e-07, 1.69e-06, 6.88e-07, 1.08e-06, 1.60e-07, 7.90e-07]    []  \n",
            "46000     [8.38e-07, 7.40e-07, 7.24e-07, 9.25e-07, 7.01e-07, 7.00e-07, 1.90e-07, 3.26e-07]    [5.23e-07, 3.65e-07, 7.24e-07, 9.25e-07, 7.01e-07, 7.00e-07, 1.90e-07, 3.26e-07]    []  \n",
            "47000     [8.17e-07, 7.08e-07, 3.85e-07, 3.13e-07, 6.31e-07, 5.43e-07, 8.35e-08, 7.38e-08]    [5.01e-07, 3.56e-07, 3.85e-07, 3.13e-07, 6.31e-07, 5.43e-07, 8.35e-08, 7.38e-08]    []  \n",
            "48000     [8.28e-07, 7.50e-07, 1.02e-05, 8.36e-06, 3.87e-06, 1.53e-06, 3.95e-06, 1.66e-06]    [5.30e-07, 4.18e-07, 1.02e-05, 8.36e-06, 3.87e-06, 1.53e-06, 3.95e-06, 1.66e-06]    []  \n",
            "49000     [7.98e-07, 7.25e-07, 4.51e-06, 4.89e-06, 1.70e-06, 1.17e-06, 1.78e-06, 1.43e-06]    [4.83e-07, 4.01e-07, 4.51e-06, 4.89e-06, 1.70e-06, 1.17e-06, 1.78e-06, 1.43e-06]    []  \n",
            "50000     [7.61e-07, 6.34e-07, 3.44e-07, 2.64e-07, 5.73e-07, 4.84e-07, 7.17e-08, 6.29e-08]    [4.65e-07, 3.20e-07, 3.44e-07, 2.64e-07, 5.73e-07, 4.84e-07, 7.17e-08, 6.29e-08]    []  \n",
            "51000     [7.48e-07, 6.19e-07, 3.46e-07, 2.70e-07, 5.60e-07, 4.72e-07, 7.46e-08, 6.72e-08]    [4.57e-07, 3.16e-07, 3.46e-07, 2.70e-07, 5.60e-07, 4.72e-07, 7.46e-08, 6.72e-08]    []  \n",
            "52000     [7.28e-07, 5.93e-07, 3.38e-07, 2.61e-07, 5.44e-07, 4.55e-07, 7.11e-08, 6.18e-08]    [4.45e-07, 2.99e-07, 3.38e-07, 2.61e-07, 5.44e-07, 4.55e-07, 7.11e-08, 6.18e-08]    []  \n",
            "53000     [7.25e-07, 5.97e-07, 9.41e-07, 1.81e-06, 5.68e-07, 9.46e-07, 2.41e-07, 9.04e-07]    [4.50e-07, 3.03e-07, 9.41e-07, 1.81e-06, 5.68e-07, 9.46e-07, 2.41e-07, 9.04e-07]    []  \n",
            "54000     [6.96e-07, 5.59e-07, 3.86e-07, 3.32e-07, 5.53e-07, 4.49e-07, 1.17e-07, 8.79e-08]    [4.26e-07, 2.93e-07, 3.86e-07, 3.32e-07, 5.53e-07, 4.49e-07, 1.17e-07, 8.79e-08]    []  \n",
            "55000     [6.80e-07, 5.41e-07, 3.03e-07, 2.31e-07, 5.01e-07, 4.15e-07, 5.97e-08, 5.50e-08]    [4.16e-07, 2.74e-07, 3.03e-07, 2.31e-07, 5.01e-07, 4.15e-07, 5.97e-08, 5.50e-08]    []  \n",
            "56000     [6.69e-07, 5.26e-07, 3.49e-07, 7.03e-07, 5.27e-07, 6.27e-07, 9.48e-08, 3.22e-07]    [4.10e-07, 2.64e-07, 3.49e-07, 7.03e-07, 5.27e-07, 6.27e-07, 9.48e-08, 3.22e-07]    []  \n",
            "57000     [6.51e-07, 5.07e-07, 3.17e-07, 2.61e-07, 4.83e-07, 3.99e-07, 6.48e-08, 6.32e-08]    [4.00e-07, 2.58e-07, 3.17e-07, 2.61e-07, 4.83e-07, 3.99e-07, 6.48e-08, 6.32e-08]    []  \n",
            "58000     [6.46e-07, 5.06e-07, 1.39e-06, 1.71e-06, 6.76e-07, 6.13e-07, 4.43e-07, 4.99e-07]    [4.00e-07, 2.57e-07, 1.39e-06, 1.71e-06, 6.76e-07, 6.13e-07, 4.43e-07, 4.99e-07]    []  \n",
            "59000     [6.24e-07, 4.77e-07, 2.74e-07, 2.13e-07, 4.58e-07, 3.75e-07, 5.11e-08, 5.05e-08]    [3.84e-07, 2.46e-07, 2.74e-07, 2.13e-07, 4.58e-07, 3.75e-07, 5.11e-08, 5.05e-08]    []  \n",
            "60000     [6.12e-07, 4.67e-07, 2.66e-07, 2.04e-07, 4.49e-07, 3.65e-07, 5.02e-08, 4.92e-08]    [3.77e-07, 2.43e-07, 2.66e-07, 2.04e-07, 4.49e-07, 3.65e-07, 5.02e-08, 4.92e-08]    []  \n",
            "61000     [6.06e-07, 4.66e-07, 8.94e-07, 6.02e-07, 6.96e-07, 3.76e-07, 4.05e-07, 1.56e-07]    [3.75e-07, 2.45e-07, 8.94e-07, 6.02e-07, 6.96e-07, 3.76e-07, 4.05e-07, 1.56e-07]    []  \n",
            "62000     [5.86e-07, 4.44e-07, 2.55e-07, 1.98e-07, 4.32e-07, 3.50e-07, 4.77e-08, 4.91e-08]    [3.62e-07, 2.35e-07, 2.55e-07, 1.98e-07, 4.32e-07, 3.50e-07, 4.77e-08, 4.91e-08]    []  \n",
            "63000     [5.74e-07, 4.34e-07, 2.56e-07, 2.01e-07, 4.29e-07, 3.44e-07, 5.00e-08, 4.98e-08]    [3.56e-07, 2.32e-07, 2.56e-07, 2.01e-07, 4.29e-07, 3.44e-07, 5.00e-08, 4.98e-08]    []  \n",
            "64000     [5.61e-07, 4.24e-07, 2.43e-07, 1.84e-07, 4.17e-07, 3.34e-07, 4.35e-08, 4.42e-08]    [3.49e-07, 2.27e-07, 2.43e-07, 1.84e-07, 4.17e-07, 3.34e-07, 4.35e-08, 4.42e-08]    []  \n",
            "65000     [5.52e-07, 4.19e-07, 2.38e-07, 1.82e-07, 4.08e-07, 3.27e-07, 4.30e-08, 4.43e-08]    [3.43e-07, 2.27e-07, 2.38e-07, 1.82e-07, 4.08e-07, 3.27e-07, 4.30e-08, 4.43e-08]    []  \n",
            "66000     [5.38e-07, 4.23e-07, 3.76e-06, 3.09e-06, 1.66e-06, 7.43e-07, 1.52e-06, 8.22e-07]    [3.37e-07, 2.31e-07, 3.76e-06, 3.09e-06, 1.66e-06, 7.43e-07, 1.52e-06, 8.22e-07]    []  \n",
            "67000     [5.26e-07, 4.03e-07, 2.28e-07, 1.71e-07, 3.98e-07, 3.16e-07, 4.07e-08, 4.23e-08]    [3.30e-07, 2.22e-07, 2.28e-07, 1.71e-07, 3.98e-07, 3.16e-07, 4.07e-08, 4.23e-08]    []  \n",
            "68000     [5.32e-07, 4.38e-07, 9.26e-07, 6.71e-06, 1.06e-06, 4.01e-06, 5.92e-07, 4.36e-06]    [3.36e-07, 2.49e-07, 9.26e-07, 6.71e-06, 1.06e-06, 4.01e-06, 5.92e-07, 4.36e-06]    []  \n",
            "69000     [5.04e-07, 3.91e-07, 2.21e-07, 1.63e-07, 3.86e-07, 3.06e-07, 3.98e-08, 4.17e-08]    [3.19e-07, 2.19e-07, 2.21e-07, 1.63e-07, 3.86e-07, 3.06e-07, 3.98e-08, 4.17e-08]    []  \n",
            "70000     [5.26e-07, 4.84e-07, 3.18e-06, 5.69e-06, 9.33e-07, 1.71e-06, 9.42e-07, 2.05e-06]    [3.48e-07, 3.15e-07, 3.18e-06, 5.69e-06, 9.33e-07, 1.71e-06, 9.42e-07, 2.05e-06]    []  \n",
            "71000     [4.90e-07, 3.93e-07, 1.04e-06, 1.07e-06, 6.57e-07, 4.36e-07, 4.34e-07, 2.99e-07]    [3.10e-07, 2.32e-07, 1.04e-06, 1.07e-06, 6.57e-07, 4.36e-07, 4.34e-07, 2.99e-07]    []  \n",
            "72000     [4.71e-07, 3.76e-07, 2.07e-07, 1.50e-07, 3.71e-07, 2.95e-07, 3.72e-08, 4.07e-08]    [2.98e-07, 2.16e-07, 2.07e-07, 1.50e-07, 3.71e-07, 2.95e-07, 3.72e-08, 4.07e-08]    []  \n",
            "73000     [4.65e-07, 3.79e-07, 4.61e-07, 4.39e-07, 4.52e-07, 3.32e-07, 1.70e-07, 1.20e-07]    [2.94e-07, 2.23e-07, 4.61e-07, 4.39e-07, 4.52e-07, 3.32e-07, 1.70e-07, 1.20e-07]    []  \n",
            "74000     [4.52e-07, 3.69e-07, 2.12e-07, 1.58e-07, 3.63e-07, 2.88e-07, 3.93e-08, 4.32e-08]    [2.87e-07, 2.15e-07, 2.12e-07, 1.58e-07, 3.63e-07, 2.88e-07, 3.93e-08, 4.32e-08]    []  \n",
            "75000     [4.47e-07, 3.83e-07, 5.55e-07, 2.83e-06, 4.78e-07, 1.62e-06, 1.60e-07, 1.61e-06]    [2.83e-07, 2.27e-07, 5.55e-07, 2.83e-06, 4.78e-07, 1.62e-06, 1.60e-07, 1.61e-06]    []  \n",
            "76000     [4.30e-07, 3.60e-07, 1.92e-07, 1.37e-07, 3.54e-07, 2.80e-07, 3.54e-08, 3.83e-08]    [2.73e-07, 2.13e-07, 1.92e-07, 1.37e-07, 3.54e-07, 2.80e-07, 3.54e-08, 3.83e-08]    []  \n",
            "77000     [4.26e-07, 3.60e-07, 3.72e-07, 6.43e-07, 7.49e-07, 6.88e-07, 3.99e-07, 4.58e-07]    [2.71e-07, 2.18e-07, 3.72e-07, 6.43e-07, 7.49e-07, 6.88e-07, 3.99e-07, 4.58e-07]    []  \n",
            "78000     [4.09e-07, 3.52e-07, 1.85e-07, 1.30e-07, 3.45e-07, 2.74e-07, 3.46e-08, 3.78e-08]    [2.60e-07, 2.11e-07, 1.85e-07, 1.30e-07, 3.45e-07, 2.74e-07, 3.46e-08, 3.78e-08]    []  \n",
            "79000     [4.49e-07, 4.68e-07, 1.59e-06, 2.46e-06, 7.27e-07, 7.63e-07, 7.32e-07, 8.64e-07]    [3.05e-07, 3.15e-07, 1.59e-06, 2.46e-06, 7.27e-07, 7.63e-07, 7.32e-07, 8.64e-07]    []  \n",
            "80000     [3.89e-07, 3.41e-07, 1.78e-07, 1.25e-07, 3.38e-07, 2.68e-07, 3.38e-08, 3.63e-08]    [2.47e-07, 2.08e-07, 1.78e-07, 1.25e-07, 3.38e-07, 2.68e-07, 3.38e-08, 3.63e-08]    []  \n",
            "\n",
            "Best model at step 80000:\n",
            "  train loss: 1.71e-06\n",
            "  test loss: 1.43e-06\n",
            "  test metric: []\n",
            "\n",
            "'train' took 1374.039493 s\n",
            "\n",
            "Saving loss history to /content/loss.dat ...\n",
            "Saving training data to /content/train.dat ...\n",
            "Saving test data to /content/test.dat ...\n"
          ]
        },
        {
          "output_type": "display_data",
          "data": {
            "text/plain": [
              "<Figure size 640x480 with 1 Axes>"
            ],
            "image/png": "[encoded data removed]"
          },
          "metadata": {}
        },
        {
          "output_type": "display_data",
          "data": {
            "text/plain": [
              "<Figure size 640x480 with 1 Axes>"
            ],
            "image/png": "[encoded data removed]"
          },
          "metadata": {}
        },
        {
          "output_type": "display_data",
          "data": {
            "text/plain": [
              "<Figure size 640x480 with 1 Axes>"
            ],
            "image/png": "[encoded data removed]"
          },
          "metadata": {}
        }
      ]
    },
    {
      "cell_type": "markdown",
      "source": [
        "Check the learned variables"
      ],
      "metadata": {
        "id": "5IhlvHtHIOzg"
      }
    },
    {
      "cell_type": "code",
      "source": [
        "learned_vars = np.genfromtxt('variables.dat',\n",
        "                     names=True,\n",
        "                     dtype=None,\n",
        "                     delimiter=' ')\n",
        "print(learned_vars)\n",
        "print(learned_vars[-1])"
      ],
      "metadata": {
        "colab": {
          "base_uri": "https://localhost:8080/"
        },
        "id": "Tr1Q0oWeIYdj",
        "outputId": "3aa7dfad-7416-4d5c-c291-d8538f663306"
      },
      "execution_count": null,
      "outputs": [
        {
          "output_type": "stream",
          "name": "stdout",
          "text": [
            "[( 1000, b'[5.54e-03,', b'1.66e+00]') ( 2000, b'[2.05e-02,', b'1.38e+00]')\n",
            " ( 3000, b'[3.80e-02,', b'1.47e+00]') ( 4000, b'[5.15e-02,', b'1.52e+00]')\n",
            " ( 5000, b'[5.80e-02,', b'1.59e+00]') ( 6000, b'[6.07e-02,', b'1.66e+00]')\n",
            " ( 7000, b'[6.20e-02,', b'1.71e+00]') ( 8000, b'[6.29e-02,', b'1.75e+00]')\n",
            " ( 9000, b'[6.51e-02,', b'1.78e+00]') (10000, b'[6.73e-02,', b'1.81e+00]')\n",
            " (11000, b'[7.11e-02,', b'1.83e+00]') (12000, b'[7.57e-02,', b'1.86e+00]')\n",
            " (13000, b'[8.14e-02,', b'1.89e+00]') (14000, b'[8.70e-02,', b'1.92e+00]')\n",
            " (15000, b'[9.08e-02,', b'1.93e+00]') (16000, b'[9.27e-02,', b'1.94e+00]')\n",
            " (17000, b'[9.37e-02,', b'1.95e+00]') (18000, b'[9.36e-02,', b'1.95e+00]')\n",
            " (19000, b'[9.40e-02,', b'1.95e+00]') (20000, b'[9.43e-02,', b'1.96e+00]')\n",
            " (21000, b'[9.47e-02,', b'1.96e+00]') (22000, b'[9.53e-02,', b'1.96e+00]')\n",
            " (23000, b'[9.49e-02,', b'1.96e+00]') (24000, b'[9.54e-02,', b'1.96e+00]')\n",
            " (25000, b'[9.46e-02,', b'1.96e+00]') (26000, b'[9.47e-02,', b'1.97e+00]')\n",
            " (27000, b'[9.67e-02,', b'1.97e+00]') (28000, b'[9.66e-02,', b'1.97e+00]')\n",
            " (29000, b'[9.68e-02,', b'1.97e+00]') (30000, b'[9.69e-02,', b'1.98e+00]')\n",
            " (31000, b'[9.72e-02,', b'1.98e+00]') (32000, b'[9.71e-02,', b'1.98e+00]')\n",
            " (33000, b'[9.58e-02,', b'1.98e+00]') (34000, b'[9.71e-02,', b'1.98e+00]')\n",
            " (35000, b'[9.73e-02,', b'1.98e+00]') (36000, b'[9.77e-02,', b'1.98e+00]')\n",
            " (37000, b'[9.77e-02,', b'1.98e+00]') (38000, b'[9.78e-02,', b'1.98e+00]')\n",
            " (39000, b'[9.74e-02,', b'1.98e+00]') (40000, b'[9.80e-02,', b'1.98e+00]')\n",
            " (41000, b'[9.78e-02,', b'1.98e+00]') (42000, b'[9.81e-02,', b'1.98e+00]')\n",
            " (43000, b'[9.79e-02,', b'1.98e+00]') (44000, b'[9.80e-02,', b'1.99e+00]')\n",
            " (45000, b'[9.80e-02,', b'1.98e+00]') (46000, b'[9.79e-02,', b'1.98e+00]')\n",
            " (47000, b'[9.80e-02,', b'1.98e+00]') (48000, b'[9.69e-02,', b'1.99e+00]')\n",
            " (49000, b'[9.82e-02,', b'1.99e+00]') (50000, b'[9.83e-02,', b'1.99e+00]')\n",
            " (51000, b'[9.80e-02,', b'1.98e+00]') (52000, b'[9.83e-02,', b'1.99e+00]')\n",
            " (53000, b'[9.77e-02,', b'1.99e+00]') (54000, b'[9.80e-02,', b'1.99e+00]')\n",
            " (55000, b'[9.83e-02,', b'1.99e+00]') (56000, b'[9.85e-02,', b'1.99e+00]')\n",
            " (57000, b'[9.83e-02,', b'1.99e+00]') (58000, b'[9.84e-02,', b'1.99e+00]')\n",
            " (59000, b'[9.84e-02,', b'1.99e+00]') (60000, b'[9.83e-02,', b'1.99e+00]')\n",
            " (61000, b'[9.81e-02,', b'1.99e+00]') (62000, b'[9.83e-02,', b'1.99e+00]')\n",
            " (63000, b'[9.84e-02,', b'1.99e+00]') (64000, b'[9.85e-02,', b'1.99e+00]')\n",
            " (65000, b'[9.83e-02,', b'1.99e+00]') (66000, b'[9.75e-02,', b'1.99e+00]')\n",
            " (67000, b'[9.85e-02,', b'1.99e+00]') (68000, b'[9.86e-02,', b'1.99e+00]')\n",
            " (69000, b'[9.85e-02,', b'1.99e+00]') (70000, b'[9.67e-02,', b'1.99e+00]')\n",
            " (71000, b'[9.82e-02,', b'1.99e+00]') (72000, b'[9.85e-02,', b'1.99e+00]')\n",
            " (73000, b'[9.80e-02,', b'1.99e+00]') (74000, b'[9.83e-02,', b'1.99e+00]')\n",
            " (75000, b'[9.78e-02,', b'1.99e+00]') (76000, b'[9.85e-02,', b'1.99e+00]')\n",
            " (77000, b'[9.81e-02,', b'1.99e+00]') (78000, b'[9.85e-02,', b'1.99e+00]')\n",
            " (79000, b'[9.68e-02,', b'1.99e+00]') (80000, b'[9.86e-02,', b'1.99e+00]')]\n",
            "(80000, b'[9.86e-02,', b'1.99e+00]')\n"
          ]
        },
        {
          "output_type": "stream",
          "name": "stderr",
          "text": [
            "<ipython-input-27-6b41b30abdac>:1: VisibleDeprecationWarning: Reading unicode strings without specifying the encoding argument is deprecated. Set the encoding, use None for the system default.\n",
            "  learned_vars = np.genfromtxt('variables.dat',\n"
          ]
        }
      ]
    },
    {
      "cell_type": "code",
      "source": [
        "kf_learned, D_learned = learned_vars[-1][1], learned_vars[-1][2]"
      ],
      "metadata": {
        "id": "G4VaxLMKIQH9"
      },
      "execution_count": null,
      "outputs": []
    },
    {
      "cell_type": "code",
      "source": [
        "print(kf_learned)"
      ],
      "metadata": {
        "id": "5ecq3MB1I_p3",
        "outputId": "3e211b7d-8c83-45ef-bbd4-80d590ed5aad",
        "colab": {
          "base_uri": "https://localhost:8080/"
        }
      },
      "execution_count": null,
      "outputs": [
        {
          "output_type": "stream",
          "name": "stdout",
          "text": [
            "b'[9.86e-02,'\n"
          ]
        }
      ]
    },
    {
      "cell_type": "code",
      "source": [],
      "metadata": {
        "id": "ZCDLIS0-JBCu"
      },
      "execution_count": null,
      "outputs": []
    }
  ]
}